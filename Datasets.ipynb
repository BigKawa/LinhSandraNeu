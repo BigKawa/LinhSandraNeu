{
 "cells": [
  {
   "cell_type": "code",
   "execution_count": 2,
   "id": "56d95cf8-ef13-4fa2-8e47-8dbf15ab5568",
   "metadata": {},
   "outputs": [],
   "source": [
    "import pandas as pd\n",
    "import matplotlib.pyplot as plt\n",
    "import seaborn as sns\n",
    "import numpy as np\n",
    "from functionst import * \n",
    "import numpy as np\n",
    "%matplotlib inline"
   ]
  },
  {
   "cell_type": "code",
   "execution_count": 4,
   "id": "9538a8c1-d1c9-4b4f-af8f-e34b0a1acdff",
   "metadata": {},
   "outputs": [],
   "source": [
    "# Dataset1: Client Profiles: Demographics like age, gender, and account details of our clients.\n",
    "file_path='data/df_final_demo.txt'\n",
    "df_clients = pd.read_csv(file_path, delimiter=',')"
   ]
  },
  {
   "cell_type": "code",
   "execution_count": 5,
   "id": "6e21a8be-b980-4c6e-924b-42475a4c5258",
   "metadata": {},
   "outputs": [],
   "source": [
    "# Dataset2: Digital Footprints pt1 & pt2: \n",
    "# A detailed trace of client interactions online, divided into two parts: pt_1 and pt_2. \n",
    "# It’s recommended to merge these two files prior to a comprehensive data analysis.\n",
    "file_path='data/df_final_web_data_pt_1.txt'\n",
    "df2 = pd.read_csv(file_path, delimiter=',')\n",
    "file_path = \"Data/df_final_web_data_pt_2.txt\"\n",
    "df3 = pd.read_csv(file_path, delimiter=',')\n",
    "df_concat = pd.concat([df2, df3])  # Concatenated "
   ]
  },
  {
   "cell_type": "code",
   "execution_count": 6,
   "id": "14ee977a",
   "metadata": {},
   "outputs": [],
   "source": [
    "#Dataset 3: Experiment Roster: A list revealing which clients were part of the grand experiment.\n",
    "file_path='data/df_final_experiment_clients.txt'\n",
    "df_roster = pd.read_csv(file_path, delimiter=',')"
   ]
  },
  {
   "cell_type": "markdown",
   "id": "4cac4b0e",
   "metadata": {},
   "source": [
    "Cleaning df_Clients"
   ]
  },
  {
   "cell_type": "markdown",
   "id": "9a93571b",
   "metadata": {},
   "source": [
    "Check for Duplicates"
   ]
  },
  {
   "cell_type": "code",
   "execution_count": 7,
   "id": "32aec969",
   "metadata": {},
   "outputs": [
    {
     "data": {
      "text/plain": [
       "0"
      ]
     },
     "execution_count": 7,
     "metadata": {},
     "output_type": "execute_result"
    }
   ],
   "source": [
    "df_clients.duplicated().sum() # Check"
   ]
  },
  {
   "cell_type": "code",
   "execution_count": 8,
   "id": "9a6ce5cd",
   "metadata": {},
   "outputs": [],
   "source": [
    "# Rename columns\n",
    "df_clients.rename(columns={\"clnt_tenure_yr\": \"client_tenure_yr\",\n",
    "                           \"clnt_tenure_mnth\":\"client_tenure_mnth\",\n",
    "                           \"clnt_age\":\"client_age\",\n",
    "                           \"gendr\":\"gender\",\n",
    "                           \"bal\":\"balance\"\n",
    "                           }, inplace=True)"
   ]
  },
  {
   "cell_type": "code",
   "execution_count": null,
   "id": "96f45df3",
   "metadata": {},
   "outputs": [],
   "source": [
    "# Checking for NaN Rows\n",
    "nan_rows = df_clients[df_clients.isna().any(axis=1)]\n",
    "# Drop NaN Values with more many NaNs\n",
    "df_clients.dropna(thresh=4,inplace=True)\n",
    "# Fill NaN in client age\n",
    "df_clients[\"client_age\"].fillna(df_clients[\"client_age\"].mean(),inplace=True)\n",
    "\n",
    "# Drop NaN Values with more many NaNs \n",
    "df_clients.dropna(thresh=4,inplace=True)\n",
    "\n",
    "# Fill NaN in client age\n",
    "df_clients[\"client_age\"].fillna(df_clients[\"client_age\"].mean(),inplace=True)\n",
    "\n",
    "# Filled the Client tenure yr with NaN when Client age < then tenure\n",
    "df_clients.loc[df_clients[\"client_tenure_yr\"] > df_clients[\"client_age\"], \"client_tenure_yr\"] = np.nan"
   ]
  },
  {
   "cell_type": "code",
   "execution_count": 10,
   "id": "33b339b5",
   "metadata": {},
   "outputs": [],
   "source": [
    "# Defining age Group and Assigning to client Data\n",
    "\n",
    "df_clients[\"client_age_group\"] = df_clients[\"client_age\"].apply(age_group) # Age group aus Functions"
   ]
  },
  {
   "cell_type": "markdown",
   "id": "552f444f",
   "metadata": {},
   "source": [
    "Clean df_concat"
   ]
  },
  {
   "cell_type": "code",
   "execution_count": 12,
   "id": "0b856b15",
   "metadata": {},
   "outputs": [],
   "source": [
    "# Transformed DATETIME\n",
    "df_concat[\"date_time\"] = pd.to_datetime(df_concat[\"date_time\"])"
   ]
  },
  {
   "cell_type": "code",
   "execution_count": 15,
   "id": "aa5746db",
   "metadata": {},
   "outputs": [
    {
     "data": {
      "text/plain": [
       "10764"
      ]
     },
     "execution_count": 15,
     "metadata": {},
     "output_type": "execute_result"
    }
   ],
   "source": [
    "df_concat.duplicated().sum()"
   ]
  },
  {
   "cell_type": "markdown",
   "id": "ebdcb0f6",
   "metadata": {},
   "source": [
    "Joined Clients and Joined DC_Concat with Roster"
   ]
  },
  {
   "cell_type": "code",
   "execution_count": 16,
   "id": "9ade2cd9",
   "metadata": {},
   "outputs": [],
   "source": [
    "# Joined Clients with the Roster an dropped the NaN Values\n",
    "df_client_joined = pd.merge(df_clients,df_roster, how=\"left\", on=\"client_id\")"
   ]
  },
  {
   "cell_type": "code",
   "execution_count": 43,
   "id": "721b6388",
   "metadata": {},
   "outputs": [],
   "source": [
    "# Joined DF Concat with the Roster and dropped the duplicates\n",
    "df_concat_joined = pd.merge(df_concat,df_roster, on=\"client_id\", how=\"left\")\n",
    "df_concat_joined.dropna(subset=\"Variation\",inplace=True)\n",
    "df_concat_joined.drop_duplicates(inplace=True)\n",
    "df_concat_joined['year_month'] = df_concat_joined['date_time'].dt.to_period('M') # Added year\n"
   ]
  },
  {
   "cell_type": "code",
   "execution_count": 20,
   "id": "98b630dd",
   "metadata": {},
   "outputs": [
    {
     "data": {
      "text/plain": [
       "' Add a column if the client finished the process\\n\\n# Identify the client_ids that have a \"finished\" step\\nclients_with_finished = df_concat_joined[df_concat_joined[\\'process_step\\'] == \\'confirm\\'][\\'client_id\\']\\n\\n# Using map to replace boolean values\\ndf_client_joined[\\'finished\\'] = df_client_joined[\"client_id\"].isin(clients_with_finished).map({True:\"yes\",False:\"no\"})\\n\\ndf_client_joined[\"finished\"].unique()'"
      ]
     },
     "execution_count": 20,
     "metadata": {},
     "output_type": "execute_result"
    }
   ],
   "source": [
    "\"\"\" Add a column if the client finished the process\n",
    "\n",
    "# Identify the client_ids that have a \"finished\" step\n",
    "clients_with_finished = df_concat_joined[df_concat_joined['process_step'] == 'confirm']['client_id']\n",
    "\n",
    "# Using map to replace boolean values\n",
    "df_client_joined['finished'] = df_client_joined[\"client_id\"].isin(clients_with_finished).map({True:\"yes\",False:\"no\"})\n",
    "\n",
    "df_client_joined[\"finished\"].unique()\"\"\""
   ]
  },
  {
   "cell_type": "markdown",
   "id": "6f74e5d4",
   "metadata": {},
   "source": [
    "Who are the clients"
   ]
  },
  {
   "cell_type": "code",
   "execution_count": 21,
   "id": "aa5852cd",
   "metadata": {},
   "outputs": [
    {
     "data": {
      "text/plain": [
       "client_age_group\n",
       "old adults      85743.0\n",
       "young adults    81766.0\n",
       "older adults    74470.0\n",
       "adults          62891.0\n",
       "young senior    51061.0\n",
       "teens           24007.0\n",
       "senior          11281.0\n",
       "old senior       1765.0\n",
       "Name: logons_6_mnth, dtype: float64"
      ]
     },
     "execution_count": 21,
     "metadata": {},
     "output_type": "execute_result"
    }
   ],
   "source": [
    "# Who are the clients? By Age\n",
    "most_clients = df_clients.groupby(\"client_age_group\")[\"logons_6_mnth\"].sum().sort_values( ascending=False)\n",
    "most_clients"
   ]
  },
  {
   "cell_type": "code",
   "execution_count": 35,
   "id": "c05209a5",
   "metadata": {},
   "outputs": [
    {
     "data": {
      "text/plain": [
       "Text(0, 0.5, 'logins last 6 month')"
      ]
     },
     "execution_count": 35,
     "metadata": {},
     "output_type": "execute_result"
    },
    {
     "data": {
      "image/png": "[encoded data removed]",
      "text/plain": [
       "<Figure size 640x480 with 1 Axes>"
      ]
     },
     "metadata": {},
     "output_type": "display_data"
    }
   ],
   "source": [
    "# Checking \n",
    "sns.barplot(data= most_clients)\n",
    "plt.title(\"age groups by age\")\n",
    "plt.xlabel(\"age groups\")\n",
    "plt.ylabel(\"logins last 6 month\")"
   ]
  },
  {
   "cell_type": "code",
   "execution_count": 36,
   "id": "ae96a508",
   "metadata": {},
   "outputs": [],
   "source": [
    "# Who are the clients by tenure"
   ]
  },
  {
   "cell_type": "code",
   "execution_count": 37,
   "id": "d39c7f7e",
   "metadata": {},
   "outputs": [
    {
     "data": {
      "text/plain": [
       "<Axes: ylabel='client_tenure_yr'>"
      ]
     },
     "execution_count": 37,
     "metadata": {},
     "output_type": "execute_result"
    },
    {
     "data": {
      "image/png": "[encoded data removed]",
      "text/plain": [
       "<Figure size 640x480 with 1 Axes>"
      ]
     },
     "metadata": {},
     "output_type": "display_data"
    }
   ],
   "source": [
    "sns.boxplot(data=df_clients[\"client_tenure_yr\"])"
   ]
  },
  {
   "cell_type": "code",
   "execution_count": 38,
   "id": "e1911516",
   "metadata": {},
   "outputs": [
    {
     "data": {
      "text/plain": [
       "<Axes: ylabel='client_tenure_yr'>"
      ]
     },
     "execution_count": 38,
     "metadata": {},
     "output_type": "execute_result"
    },
    {
     "data": {
      "image/png": "[encoded data removed]",
      "text/plain": [
       "<Figure size 640x480 with 1 Axes>"
      ]
     },
     "metadata": {},
     "output_type": "display_data"
    }
   ],
   "source": [
    "sns.violinplot(data=df_clients[\"client_tenure_yr\"])"
   ]
  },
  {
   "cell_type": "code",
   "execution_count": 39,
   "id": "84af39a1-eda2-4a38-8903-244220d311b6",
   "metadata": {},
   "outputs": [
    {
     "data": {
      "text/plain": [
       "Text(0.5, 1.0, 'Client Age vs. Client Tenure (Years)')"
      ]
     },
     "execution_count": 39,
     "metadata": {},
     "output_type": "execute_result"
    },
    {
     "data": {
      "image/png": "[encoded data removed]",
      "text/plain": [
       "<Figure size 1000x600 with 1 Axes>"
      ]
     },
     "metadata": {},
     "output_type": "display_data"
    }
   ],
   "source": [
    "plt.figure(figsize=(10, 6))\n",
    "plt.scatter(df_clients['client_age'], df_clients['client_tenure_yr'], color='blue', alpha=0.7)\n",
    "plt.xlabel('Client Age', fontsize=12)\n",
    "plt.ylabel('Client Tenure (Years)', fontsize=12)\n",
    "plt.title('Client Age vs. Client Tenure (Years)', fontsize=15)"
   ]
  },
  {
   "cell_type": "markdown",
   "id": "106cedcf",
   "metadata": {},
   "source": [
    "Sorting df_concat and trying to calculate time of steps"
   ]
  },
  {
   "cell_type": "code",
   "execution_count": 28,
   "id": "8a53378d",
   "metadata": {},
   "outputs": [],
   "source": [
    "# Joined Clients with the Roster an dropped the NaN Values\n",
    "df_client_joined = pd.merge(df_clients,df_roster, how=\"left\", on=\"client_id\")\n",
    "df_client_joined_cleaned = df_client_joined.dropna()"
   ]
  },
  {
   "cell_type": "code",
   "execution_count": 46,
   "id": "106cedcf",
   "metadata": {},
   "outputs": [],
   "source": [
    "# Df_concat Sorted and time_diff_in_minutes\n",
    "\n",
    "# With this we are able to analyze\n",
    "df_concat_joined_sorted = df_concat_joined.sort_values(by=['client_id', 'visit_id', 'date_time'])\n",
    "df_concat_joined_sorted['time_diff_in_minutes'] = df_concat_joined_sorted.groupby(['client_id', 'visit_id'])['date_time'].diff().dt.total_seconds() / 60"
   ]
  },
  {
   "cell_type": "markdown",
   "id": "5d94469b",
   "metadata": {},
   "source": [
    "CALCULATING \n",
    "COMPLETION RATE"
   ]
  },
  {
   "cell_type": "code",
   "execution_count": 121,
   "id": "4f39b281",
   "metadata": {},
   "outputs": [
    {
     "data": {
      "text/plain": [
       "'Completion Rate Test = 0.46000186399080434'"
      ]
     },
     "execution_count": 121,
     "metadata": {},
     "output_type": "execute_result"
    }
   ],
   "source": [
    "completion_rate_control = df_concat_joined_sorted[(df_concat_joined_sorted[\"finished\"] == \"yes\") & (df_concat_joined_sorted[\"Variation\"] == \"Control\")][\"visit_id\"].nunique()/df_concat_joined_sorted[df_concat_joined_sorted[\"Variation\"]==\"Control\"][\"visit_id\"].nunique()\n",
    "\n",
    "F\"Completion Rate Test = {completion_rate_control}\""
   ]
  },
  {
   "cell_type": "code",
   "execution_count": 122,
   "id": "657f1723",
   "metadata": {},
   "outputs": [
    {
     "data": {
      "text/plain": [
       "'Completion Rate Test = 0.48066566135286515'"
      ]
     },
     "execution_count": 122,
     "metadata": {},
     "output_type": "execute_result"
    }
   ],
   "source": [
    "completion_rate_test = df_concat_joined_sorted[(df_concat_joined_sorted[\"finished\"] == \"yes\") & (df_concat_joined_sorted[\"Variation\"] == \"Test\")][\"visit_id\"].nunique()/df_concat_joined_sorted[df_concat_joined_sorted[\"Variation\"]==\"Test\"][\"visit_id\"].nunique()\n",
    "\n",
    "F\"Completion Rate Test = {completion_rate_test}\"\n"
   ]
  },
  {
   "cell_type": "code",
   "execution_count": 124,
   "id": "d86537bc",
   "metadata": {},
   "outputs": [
    {
     "data": {
      "text/plain": [
       "'Completion Rate = 47.02983888447366 %'"
      ]
     },
     "execution_count": 124,
     "metadata": {},
     "output_type": "execute_result"
    }
   ],
   "source": [
    "all_completion_rate = df_concat_joined_sorted[df_concat_joined_sorted[\"finished\"] == \"yes\"][\"visit_id\"].nunique()/df_concat_joined_sorted[\"visit_id\"].nunique()\n",
    "F\"Completion Rate = {completion_rate*100} %\""
   ]
  },
  {
   "cell_type": "markdown",
   "id": "603332a6",
   "metadata": {},
   "source": [
    "Calculating which visit ID turned into COMPLETE CONFIRM"
   ]
  },
  {
   "cell_type": "code",
   "execution_count": null,
   "id": "d3793f0f",
   "metadata": {},
   "outputs": [],
   "source": []
  },
  {
   "cell_type": "code",
   "execution_count": 103,
   "id": "864a3252",
   "metadata": {},
   "outputs": [],
   "source": [
    "# Adding a column for every visit which led to finished and go through all 4 steps\n",
    "finished_list = filter_complete_visit(df_concat_joined_sorted)\n",
    "df_concat_joined_sorted[\"finished\"] = df_concat_joined_sorted[\"visit_id\"].apply(lambda x:\"yes\" if x in finished_list else \"no\" )"
   ]
  },
  {
   "cell_type": "code",
   "execution_count": 47,
   "id": "84af39a1-eda2-4a38-8903-244220d311b6",
   "metadata": {},
   "outputs": [
    {
     "data": {
      "text/plain": [
       "Text(0.5, 1.0, 'Client Age vs. Client Tenure (Years)')"
      ]
     },
     "execution_count": 47,
     "metadata": {},
     "output_type": "execute_result"
    },
    {
     "data": {
      "image/png": "[encoded data removed]",
      "text/plain": [
       "<Figure size 1000x600 with 1 Axes>"
      ]
     },
     "metadata": {},
     "output_type": "display_data"
    }
   ],
   "source": [
    "plt.figure(figsize=(10, 6))\n",
    "plt.scatter(df_clients['client_age_group'], df_clients['client_tenure_yr'], color='blue', alpha=0.7)\n",
    "plt.xlabel('Client Age', fontsize=12)\n",
    "plt.ylabel('Client Tenure (Years)', fontsize=12)\n",
    "plt.title('Client Age vs. Client Tenure (Years)', fontsize=15)"
   ]
  },
  {
   "cell_type": "code",
   "execution_count": 52,
   "id": "8ae6f914-2f90-40f0-9dc8-5d2f91da58ff",
   "metadata": {},
   "outputs": [],
   "source": [
    "# Calculating call categorized by age group\n",
    "average_calls_by_age_variation = df_client_joined_cleaned.groupby(['client_age_group', 'Variation'])['calls_6_mnth'].mean().reset_index()"
   ]
  },
  {
   "cell_type": "code",
   "execution_count": 48,
   "id": "238fd540-099e-46c3-8caf-58542be3185e",
   "metadata": {},
   "outputs": [
    {
     "data": {
      "text/plain": [
       "process_step\n",
       "start      101153\n",
       "step_1      68210\n",
       "step_2      56672\n",
       "step_3      48264\n",
       "confirm     42936\n",
       "Name: count, dtype: int64"
      ]
     },
     "execution_count": 48,
     "metadata": {},
     "output_type": "execute_result"
    }
   ],
   "source": [
    "# How many reached\n",
    "df_concat_joined_sorted[\"process_step\"].value_counts()"
   ]
  },
  {
   "cell_type": "code",
   "execution_count": 53,
   "id": "f14039e9-1217-4d68-8aa8-92865a22bdf9",
   "metadata": {},
   "outputs": [
    {
     "data": {
      "image/png": "[encoded data removed]",
      "text/plain": [
       "<Figure size 800x400 with 1 Axes>"
      ]
     },
     "metadata": {},
     "output_type": "display_data"
    }
   ],
   "source": [
    "plt.figure(figsize=(8, 4))\n",
    "sns.barplot(x='client_age_group', y='calls_6_mnth', hue='Variation', data=average_calls_by_age_variation)\n",
    "plt.title('average calls by age and variation')\n",
    "plt.xlabel('age')\n",
    "plt.ylabel('average calls last six months')\n",
    "plt.legend(title='Variation')\n",
    "plt.grid(True)\n",
    "plt.xticks(rotation= 90)\n",
    "plt.show()"
   ]
  },
  {
   "cell_type": "code",
   "execution_count": null,
   "id": "6c94bda5-230f-44c5-b323-c267286971fb",
   "metadata": {},
   "outputs": [],
   "source": [
    "# Adding a column for every visit which led to finished and go through all 4 steps\n",
    "finished_list = filter_complete_visit(df_concat_joined_sorted)\n",
    "df_concat_joined_sorted[\"finished\"] = df_concat_joined_sorted[\"visit_id\"].apply(lambda x:\"yes\" if x in finished_list else \"no\" )\n",
    "len(finished_list)  \n",
    "df_concat_joined_sorted[df_concat_joined_sorted[\"finished\"] == \"yes\"][\"visit_id\"].nunique()"
   ]
  },
  {
   "cell_type": "code",
   "execution_count": 57,
   "id": "4168dc4e-bf88-471c-bd6e-d2d91005edb6",
   "metadata": {},
   "outputs": [],
   "source": [
    "# HYPOTHESESTEST: Two Sample T-test\n",
    "# HO no difference in number of calls between Test & Control\n",
    "# H1 there is difference between number of calls between Test & Control \n",
    "import scipy.stats as st"
   ]
  },
  {
   "cell_type": "code",
   "execution_count": 59,
   "id": "5600cec3",
   "metadata": {},
   "outputs": [
    {
     "data": {
      "text/html": [
       "<div>\n",
       "<style scoped>\n",
       "    .dataframe tbody tr th:only-of-type {\n",
       "        vertical-align: middle;\n",
       "    }\n",
       "\n",
       "    .dataframe tbody tr th {\n",
       "        vertical-align: top;\n",
       "    }\n",
       "\n",
       "    .dataframe thead th {\n",
       "        text-align: right;\n",
       "    }\n",
       "</style>\n",
       "<table border=\"1\" class=\"dataframe\">\n",
       "  <thead>\n",
       "    <tr style=\"text-align: right;\">\n",
       "      <th></th>\n",
       "      <th>client_id</th>\n",
       "      <th>client_tenure_yr</th>\n",
       "      <th>client_tenure_mnth</th>\n",
       "      <th>client_age</th>\n",
       "      <th>gender</th>\n",
       "      <th>num_accts</th>\n",
       "      <th>balance</th>\n",
       "      <th>calls_6_mnth</th>\n",
       "      <th>logons_6_mnth</th>\n",
       "      <th>client_age_group</th>\n",
       "      <th>Variation</th>\n",
       "    </tr>\n",
       "  </thead>\n",
       "  <tbody>\n",
       "    <tr>\n",
       "      <th>0</th>\n",
       "      <td>836976</td>\n",
       "      <td>6.0</td>\n",
       "      <td>73.0</td>\n",
       "      <td>60.5</td>\n",
       "      <td>U</td>\n",
       "      <td>2.0</td>\n",
       "      <td>45105.30</td>\n",
       "      <td>6.0</td>\n",
       "      <td>9.0</td>\n",
       "      <td>old adults</td>\n",
       "      <td>Test</td>\n",
       "    </tr>\n",
       "    <tr>\n",
       "      <th>1</th>\n",
       "      <td>2304905</td>\n",
       "      <td>7.0</td>\n",
       "      <td>94.0</td>\n",
       "      <td>58.0</td>\n",
       "      <td>U</td>\n",
       "      <td>2.0</td>\n",
       "      <td>110860.30</td>\n",
       "      <td>6.0</td>\n",
       "      <td>9.0</td>\n",
       "      <td>old adults</td>\n",
       "      <td>Control</td>\n",
       "    </tr>\n",
       "    <tr>\n",
       "      <th>2</th>\n",
       "      <td>1439522</td>\n",
       "      <td>5.0</td>\n",
       "      <td>64.0</td>\n",
       "      <td>32.0</td>\n",
       "      <td>U</td>\n",
       "      <td>2.0</td>\n",
       "      <td>52467.79</td>\n",
       "      <td>6.0</td>\n",
       "      <td>9.0</td>\n",
       "      <td>young adults</td>\n",
       "      <td>Test</td>\n",
       "    </tr>\n",
       "    <tr>\n",
       "      <th>3</th>\n",
       "      <td>1562045</td>\n",
       "      <td>16.0</td>\n",
       "      <td>198.0</td>\n",
       "      <td>49.0</td>\n",
       "      <td>M</td>\n",
       "      <td>2.0</td>\n",
       "      <td>67454.65</td>\n",
       "      <td>3.0</td>\n",
       "      <td>6.0</td>\n",
       "      <td>older adults</td>\n",
       "      <td>Test</td>\n",
       "    </tr>\n",
       "    <tr>\n",
       "      <th>4</th>\n",
       "      <td>5126305</td>\n",
       "      <td>12.0</td>\n",
       "      <td>145.0</td>\n",
       "      <td>33.0</td>\n",
       "      <td>F</td>\n",
       "      <td>2.0</td>\n",
       "      <td>103671.75</td>\n",
       "      <td>0.0</td>\n",
       "      <td>3.0</td>\n",
       "      <td>young adults</td>\n",
       "      <td>Control</td>\n",
       "    </tr>\n",
       "    <tr>\n",
       "      <th>...</th>\n",
       "      <td>...</td>\n",
       "      <td>...</td>\n",
       "      <td>...</td>\n",
       "      <td>...</td>\n",
       "      <td>...</td>\n",
       "      <td>...</td>\n",
       "      <td>...</td>\n",
       "      <td>...</td>\n",
       "      <td>...</td>\n",
       "      <td>...</td>\n",
       "      <td>...</td>\n",
       "    </tr>\n",
       "    <tr>\n",
       "      <th>50483</th>\n",
       "      <td>1780858</td>\n",
       "      <td>21.0</td>\n",
       "      <td>262.0</td>\n",
       "      <td>68.5</td>\n",
       "      <td>M</td>\n",
       "      <td>3.0</td>\n",
       "      <td>372100.59</td>\n",
       "      <td>6.0</td>\n",
       "      <td>9.0</td>\n",
       "      <td>young senior</td>\n",
       "      <td>Test</td>\n",
       "    </tr>\n",
       "    <tr>\n",
       "      <th>50484</th>\n",
       "      <td>6967120</td>\n",
       "      <td>21.0</td>\n",
       "      <td>260.0</td>\n",
       "      <td>68.5</td>\n",
       "      <td>M</td>\n",
       "      <td>3.0</td>\n",
       "      <td>4279873.38</td>\n",
       "      <td>6.0</td>\n",
       "      <td>9.0</td>\n",
       "      <td>young senior</td>\n",
       "      <td>Control</td>\n",
       "    </tr>\n",
       "    <tr>\n",
       "      <th>50485</th>\n",
       "      <td>5826160</td>\n",
       "      <td>20.0</td>\n",
       "      <td>249.0</td>\n",
       "      <td>56.5</td>\n",
       "      <td>F</td>\n",
       "      <td>2.0</td>\n",
       "      <td>44837.16</td>\n",
       "      <td>2.0</td>\n",
       "      <td>5.0</td>\n",
       "      <td>old adults</td>\n",
       "      <td>Test</td>\n",
       "    </tr>\n",
       "    <tr>\n",
       "      <th>50486</th>\n",
       "      <td>8739285</td>\n",
       "      <td>19.0</td>\n",
       "      <td>229.0</td>\n",
       "      <td>69.5</td>\n",
       "      <td>F</td>\n",
       "      <td>2.0</td>\n",
       "      <td>44994.24</td>\n",
       "      <td>1.0</td>\n",
       "      <td>4.0</td>\n",
       "      <td>young senior</td>\n",
       "      <td>Test</td>\n",
       "    </tr>\n",
       "    <tr>\n",
       "      <th>50487</th>\n",
       "      <td>7468138</td>\n",
       "      <td>18.0</td>\n",
       "      <td>222.0</td>\n",
       "      <td>61.0</td>\n",
       "      <td>F</td>\n",
       "      <td>3.0</td>\n",
       "      <td>209278.15</td>\n",
       "      <td>0.0</td>\n",
       "      <td>3.0</td>\n",
       "      <td>old adults</td>\n",
       "      <td>Test</td>\n",
       "    </tr>\n",
       "  </tbody>\n",
       "</table>\n",
       "<p>50157 rows × 11 columns</p>\n",
       "</div>"
      ],
      "text/plain": [
       "       client_id  client_tenure_yr  client_tenure_mnth  client_age gender  \\\n",
       "0         836976               6.0                73.0        60.5      U   \n",
       "1        2304905               7.0                94.0        58.0      U   \n",
       "2        1439522               5.0                64.0        32.0      U   \n",
       "3        1562045              16.0               198.0        49.0      M   \n",
       "4        5126305              12.0               145.0        33.0      F   \n",
       "...          ...               ...                 ...         ...    ...   \n",
       "50483    1780858              21.0               262.0        68.5      M   \n",
       "50484    6967120              21.0               260.0        68.5      M   \n",
       "50485    5826160              20.0               249.0        56.5      F   \n",
       "50486    8739285              19.0               229.0        69.5      F   \n",
       "50487    7468138              18.0               222.0        61.0      F   \n",
       "\n",
       "       num_accts     balance  calls_6_mnth  logons_6_mnth client_age_group  \\\n",
       "0            2.0    45105.30           6.0            9.0       old adults   \n",
       "1            2.0   110860.30           6.0            9.0       old adults   \n",
       "2            2.0    52467.79           6.0            9.0     young adults   \n",
       "3            2.0    67454.65           3.0            6.0     older adults   \n",
       "4            2.0   103671.75           0.0            3.0     young adults   \n",
       "...          ...         ...           ...            ...              ...   \n",
       "50483        3.0   372100.59           6.0            9.0     young senior   \n",
       "50484        3.0  4279873.38           6.0            9.0     young senior   \n",
       "50485        2.0    44837.16           2.0            5.0       old adults   \n",
       "50486        2.0    44994.24           1.0            4.0     young senior   \n",
       "50487        3.0   209278.15           0.0            3.0       old adults   \n",
       "\n",
       "      Variation  \n",
       "0          Test  \n",
       "1       Control  \n",
       "2          Test  \n",
       "3          Test  \n",
       "4       Control  \n",
       "...         ...  \n",
       "50483      Test  \n",
       "50484   Control  \n",
       "50485      Test  \n",
       "50486      Test  \n",
       "50487      Test  \n",
       "\n",
       "[50157 rows x 11 columns]"
      ]
     },
     "execution_count": 59,
     "metadata": {},
     "output_type": "execute_result"
    }
   ],
   "source": [
    "df_client_joined_cleaned"
   ]
  },
  {
   "cell_type": "code",
   "execution_count": 68,
   "id": "f6541290",
   "metadata": {},
   "outputs": [],
   "source": [
    "# Calculating Statistical Stuff\n",
    "\n",
    "test = df_client_joined_cleaned[df_client_joined_cleaned[\"Variation\"]==\"Test\"][\"calls_6_mnth\"]\n",
    "control= df_client_joined_cleaned[df_client_joined_cleaned[\"Variation\"]==\"Control\"][\"calls_6_mnth\"]\n",
    "\n",
    "M1 = test.mean()\n",
    "M2 = control.mean()\n",
    "SD1 = test.std(ddof=1)\n",
    "SD2 = control.std(ddof=1)\n",
    "n1 = len(test)\n",
    "n2 = len(control)"
   ]
  },
  {
   "cell_type": "code",
   "execution_count": 67,
   "id": "b8a2be14-5e78-42ab-baed-9c5e4434df70",
   "metadata": {},
   "outputs": [
    {
     "data": {
      "text/plain": [
       "TtestResult(statistic=-3.348638397521119, pvalue=0.0008127052569859838, df=49284.73108549173)"
      ]
     },
     "execution_count": 67,
     "metadata": {},
     "output_type": "execute_result"
    }
   ],
   "source": [
    "st.ttest_ind(test,control, equal_var=False)"
   ]
  },
  {
   "cell_type": "code",
   "execution_count": 69,
   "id": "0795717a-0b48-420b-8ec1-bc8052938db3",
   "metadata": {},
   "outputs": [
    {
     "data": {
      "text/plain": [
       "-0.02996734220411194"
      ]
     },
     "execution_count": 69,
     "metadata": {},
     "output_type": "execute_result"
    }
   ],
   "source": [
    "SD_pooled = np.sqrt(((n1 - 1) * SD1**2 + (n2 - 1) * SD2**2) / (n1 + n2 - 2))\n",
    "cohens_d = (M1 - M2) / SD_pooled\n",
    "cohens_d"
   ]
  },
  {
   "cell_type": "code",
   "execution_count": 70,
   "id": "501441b7-a354-41df-b794-5e6342cf423e",
   "metadata": {},
   "outputs": [],
   "source": [
    "# p-value < 0.05: assuming there is no difference it is not likely to see no difference in sample: reject null hypotheses.\n",
    "# effectsize: -0.02 very small, not relevant"
   ]
  },
  {
   "cell_type": "markdown",
   "id": "c3f605b1-655d-45e2-ba78-42884fc1015b",
   "metadata": {},
   "source": [
    "## 2.KPI: User Satisfaction Based on Logins in the Last 6 Months\n",
    "Description: Evaluate user satisfaction through the frequency of user logins in the past 6 months, with more frequent logins suggesting a positive user experience and strong interest in the platform."
   ]
  },
  {
   "cell_type": "code",
   "execution_count": 71,
   "id": "416f0678-7fca-4d8f-91a8-4738ddb912ba",
   "metadata": {},
   "outputs": [],
   "source": [
    "# H0: there is no difference between T & C in average of logins \n",
    "# H1: there is a difference between T & C in avergae of logins"
   ]
  },
  {
   "cell_type": "code",
   "execution_count": 73,
   "id": "71cd86f5-c547-4100-9914-6a6f415b0791",
   "metadata": {},
   "outputs": [
    {
     "data": {
      "text/plain": [
       "TtestResult(statistic=-3.2197513200195096, pvalue=0.0012838496093246267, df=49272.643050265775)"
      ]
     },
     "execution_count": 73,
     "metadata": {},
     "output_type": "execute_result"
    }
   ],
   "source": [
    "df_Test_log = df_client_joined_cleaned[df_client_joined_cleaned[\"Variation\"]==\"Test\"][\"logons_6_mnth\"]\n",
    "df_Control_log= df_client_joined_cleaned[df_client_joined_cleaned[\"Variation\"]==\"Control\"][\"logons_6_mnth\"]\n",
    "st.ttest_ind(df_Test_log,df_Control_log, equal_var=False)"
   ]
  },
  {
   "cell_type": "code",
   "execution_count": 74,
   "id": "4c130488-33d5-40a2-8358-71dd84284acd",
   "metadata": {},
   "outputs": [],
   "source": [
    "test_log= df_client_joined_cleaned[df_client_joined_cleaned['Variation']=='Test']['logons_6_mnth']\n",
    "control_log= df_client_joined_cleaned[df_client_joined_cleaned['Variation']=='Control']['logons_6_mnth']\n",
    "\n",
    "M1_log = test_log.mean() \n",
    "M2_log = control_log.mean()  \n",
    "SD1_log = test_log.std(ddof=1) \n",
    "SD2_log = control_log.std(ddof=1)  \n",
    "n1_log = len(test_log) \n",
    "n2_log = len(control_log)  "
   ]
  },
  {
   "cell_type": "code",
   "execution_count": 75,
   "id": "e634b11e-35f3-472e-b9bc-766a80e60404",
   "metadata": {},
   "outputs": [
    {
     "data": {
      "text/plain": [
       "-0.028815745600392826"
      ]
     },
     "execution_count": 75,
     "metadata": {},
     "output_type": "execute_result"
    }
   ],
   "source": [
    "SD_pooled = np.sqrt(((n1_log - 1) * SD1_log**2 + (n2_log - 1) * SD2_log**2) / (n1_log + n2_log - 2))  #cohens d\n",
    "cohens_d = (M1_log - M2_log) / SD_pooled\n",
    "cohens_d"
   ]
  },
  {
   "cell_type": "code",
   "execution_count": 76,
   "id": "202f0dc9-6e2c-423e-8881-b08b364ad7fb",
   "metadata": {},
   "outputs": [],
   "source": [
    "# p-values: < 0.05 : there is a difference\n",
    "# effectsize: -0.02: very small, not relevant"
   ]
  },
  {
   "cell_type": "markdown",
   "id": "f1abf3ed-924f-4406-bf3a-8dd149a67f7e",
   "metadata": {},
   "source": [
    "## 3. KPI: User Satisfaction Based on Balance Amount\n",
    "Description: Gauge user satisfaction by examining the balance amount of a user's account, as a higher balance can indicate a positive financial experience and trust in the platform."
   ]
  },
  {
   "cell_type": "code",
   "execution_count": 77,
   "id": "3ccd4d44-d196-42c5-843a-f5c76dcb977f",
   "metadata": {},
   "outputs": [],
   "source": [
    "# KPI balance \n",
    "#H0: no difference in balance\n",
    "#H1: difference in balance     -> p-value > 0.05: don't reject HO! "
   ]
  },
  {
   "cell_type": "code",
   "execution_count": 78,
   "id": "5263233c-1c4e-453f-84f7-35fc22f7ce0b",
   "metadata": {},
   "outputs": [
    {
     "data": {
      "text/plain": [
       "TtestResult(statistic=-0.4299225555792149, pvalue=0.6672538243459556, df=50155.0)"
      ]
     },
     "execution_count": 78,
     "metadata": {},
     "output_type": "execute_result"
    }
   ],
   "source": [
    "df_Test_bal = df_client_joined_cleaned[df_client_joined_cleaned[\"Variation\"]==\"Test\"][\"balance\"]\n",
    "df_Control_bal= df_client_joined_cleaned[df_client_joined_cleaned[\"Variation\"]==\"Control\"][\"balance\"]\n",
    "st.ttest_ind(df_Test_bal,df_Control_bal, equal_var=True)"
   ]
  },
  {
   "cell_type": "markdown",
   "id": "a2ed5cc8-39c0-403d-9457-18b0406ec013",
   "metadata": {},
   "source": [
    "## 4. KPI: User Satisfaction Based on the Number of Accounts\n",
    "Description: Assess user satisfaction by counting the number of accounts a user holds on the platform, as a higher account number may reflect stronger engagement and satisfaction with the services offered."
   ]
  },
  {
   "cell_type": "code",
   "execution_count": 79,
   "id": "481719c1-82d3-4b87-b99e-30707f85e2da",
   "metadata": {},
   "outputs": [],
   "source": [
    "# H0: no difference in account number\n",
    "# H1: difference in account number      "
   ]
  },
  {
   "cell_type": "code",
   "execution_count": 80,
   "id": "051d31d2-68ad-41a4-96da-f19004ce43a0",
   "metadata": {},
   "outputs": [
    {
     "data": {
      "text/plain": [
       "TtestResult(statistic=-2.012832721884745, pvalue=0.044137689068619035, df=49005.313362693)"
      ]
     },
     "execution_count": 80,
     "metadata": {},
     "output_type": "execute_result"
    }
   ],
   "source": [
    "df_Test_acc = df_client_joined_cleaned[df_client_joined_cleaned[\"Variation\"]==\"Test\"][\"num_accts\"]\n",
    "df_Control_acc= df_client_joined_cleaned[df_client_joined_cleaned[\"Variation\"]==\"Control\"][\"num_accts\"]\n",
    "st.ttest_ind(df_Test_acc,df_Control_acc, equal_var=False)"
   ]
  },
  {
   "cell_type": "code",
   "execution_count": 81,
   "id": "4d641561-4f76-403c-8395-bb95061227fd",
   "metadata": {},
   "outputs": [],
   "source": [
    "# effectsize:\n",
    "control_acc= df_client_joined_cleaned[df_client_joined_cleaned['Variation']=='Control'][\"num_accts\"]\n",
    "control_acc\n",
    "test_acc= df_client_joined_cleaned[df_client_joined_cleaned['Variation']=='Test'][\"num_accts\"]\n",
    "test_acc\n",
    "\n",
    "M1_acc = test_acc.mean() \n",
    "M2_acc = control_acc.mean()  \n",
    "SD1_acc = test_acc.std(ddof=1) \n",
    "SD2_acc = control_acc.std(ddof=1)  \n",
    "n1_acc = len(test_acc) \n",
    "n2_acc = len(control_acc)  "
   ]
  },
  {
   "cell_type": "code",
   "execution_count": 82,
   "id": "100b3e6d-fff7-43d7-97dc-354cd15f34c1",
   "metadata": {},
   "outputs": [
    {
     "data": {
      "text/plain": [
       "-0.018037883758176016"
      ]
     },
     "execution_count": 82,
     "metadata": {},
     "output_type": "execute_result"
    }
   ],
   "source": [
    "SD_pooled = np.sqrt(((n1_acc - 1) * SD1_acc**2 + (n2_acc - 1) * SD2_acc**2) / (n1_acc + n2_acc - 2))\n",
    "cohens_d = (M1_acc - M2_acc) / SD_pooled\n",
    "cohens_d"
   ]
  },
  {
   "cell_type": "code",
   "execution_count": 83,
   "id": "b8602d1a-299a-4afd-99ba-b3908f836102",
   "metadata": {},
   "outputs": [],
   "source": [
    "# p-value (slightly) < 0.05: reject H0\n",
    "# effectsize: -0.018 : not relevant "
   ]
  },
  {
   "cell_type": "code",
   "execution_count": 89,
   "id": "d6afc298-dce6-4cfc-9259-fa2fe1e4e333",
   "metadata": {
    "scrolled": true
   },
   "outputs": [],
   "source": [
    "# error rate\n",
    "df_concat_joined = df_concat_joined.sort_values(by=['visit_id', 'date_time'])\n",
    "df_concat_joined['previous_step'] = df_concat_joined.groupby('visit_id')['process_step'].shift(1) #shifts values on cell down "
   ]
  },
  {
   "cell_type": "code",
   "execution_count": 101,
   "id": "ca6f8d39",
   "metadata": {},
   "outputs": [
    {
     "data": {
      "text/plain": [
       "108614        NaN\n",
       "108613    confirm\n",
       "240562        NaN\n",
       "240561      start\n",
       "240560     step_1\n",
       "           ...   \n",
       "97222         NaN\n",
       "97221       start\n",
       "97220      step_1\n",
       "97219      step_2\n",
       "97218      step_1\n",
       "Name: process_step, Length: 317235, dtype: object"
      ]
     },
     "execution_count": 101,
     "metadata": {},
     "output_type": "execute_result"
    }
   ],
   "source": [
    "df_concat_joined.groupby('visit_id')['process_step'].shift(1)"
   ]
  },
  {
   "cell_type": "code",
   "execution_count": 90,
   "id": "4a573ec3-82e0-4e11-b144-4458ee85a96f",
   "metadata": {},
   "outputs": [],
   "source": [
    "step_mapping = {'start': 0, 'step1': 1, 'step2': 2, 'step3': 3, 'confirm': 4}\n",
    "df_concat_joined['process_step_numeric'] = df_concat_joined['process_step'].map(step_mapping)\n",
    "df_concat_joined = df_concat_joined.sort_values(by=['visit_id', 'date_time'])\n",
    "df_concat_joined['previous_step_numeric'] = df_concat_joined.groupby('visit_id')['process_step_numeric'].shift(1)\n",
    "df_concat_joined['is_error'] = df_concat_joined['process_step_numeric'] < df_concat_joined['previous_step_numeric']"
   ]
  },
  {
   "cell_type": "code",
   "execution_count": 98,
   "id": "4a4fa8df",
   "metadata": {},
   "outputs": [
    {
     "data": {
      "text/html": [
       "<div>\n",
       "<style scoped>\n",
       "    .dataframe tbody tr th:only-of-type {\n",
       "        vertical-align: middle;\n",
       "    }\n",
       "\n",
       "    .dataframe tbody tr th {\n",
       "        vertical-align: top;\n",
       "    }\n",
       "\n",
       "    .dataframe thead th {\n",
       "        text-align: right;\n",
       "    }\n",
       "</style>\n",
       "<table border=\"1\" class=\"dataframe\">\n",
       "  <thead>\n",
       "    <tr style=\"text-align: right;\">\n",
       "      <th></th>\n",
       "      <th>client_id</th>\n",
       "      <th>visitor_id</th>\n",
       "      <th>visit_id</th>\n",
       "      <th>process_step</th>\n",
       "      <th>date_time</th>\n",
       "      <th>Variation</th>\n",
       "      <th>year_month</th>\n",
       "      <th>previous_step</th>\n",
       "      <th>process_step_numeric</th>\n",
       "      <th>previous_step_numeric</th>\n",
       "      <th>is_error</th>\n",
       "    </tr>\n",
       "  </thead>\n",
       "  <tbody>\n",
       "    <tr>\n",
       "      <th>521140</th>\n",
       "      <td>4389198</td>\n",
       "      <td>729937373_63248482072</td>\n",
       "      <td>100618014_41463020246_787063</td>\n",
       "      <td>confirm</td>\n",
       "      <td>2017-05-11 09:13:00</td>\n",
       "      <td>Test</td>\n",
       "      <td>2017-05</td>\n",
       "      <td>confirm</td>\n",
       "      <td>4.0</td>\n",
       "      <td>NaN</td>\n",
       "      <td>False</td>\n",
       "    </tr>\n",
       "    <tr>\n",
       "      <th>521125</th>\n",
       "      <td>4389198</td>\n",
       "      <td>729937373_63248482072</td>\n",
       "      <td>100618014_41463020246_787063</td>\n",
       "      <td>start</td>\n",
       "      <td>2017-05-11 09:13:46</td>\n",
       "      <td>Test</td>\n",
       "      <td>2017-05</td>\n",
       "      <td>confirm</td>\n",
       "      <td>0.0</td>\n",
       "      <td>4.0</td>\n",
       "      <td>True</td>\n",
       "    </tr>\n",
       "    <tr>\n",
       "      <th>521124</th>\n",
       "      <td>4389198</td>\n",
       "      <td>729937373_63248482072</td>\n",
       "      <td>100618014_41463020246_787063</td>\n",
       "      <td>step_1</td>\n",
       "      <td>2017-05-11 09:21:51</td>\n",
       "      <td>Test</td>\n",
       "      <td>2017-05</td>\n",
       "      <td>start</td>\n",
       "      <td>NaN</td>\n",
       "      <td>0.0</td>\n",
       "      <td>False</td>\n",
       "    </tr>\n",
       "  </tbody>\n",
       "</table>\n",
       "</div>"
      ],
      "text/plain": [
       "        client_id             visitor_id                      visit_id  \\\n",
       "521140    4389198  729937373_63248482072  100618014_41463020246_787063   \n",
       "521125    4389198  729937373_63248482072  100618014_41463020246_787063   \n",
       "521124    4389198  729937373_63248482072  100618014_41463020246_787063   \n",
       "\n",
       "       process_step           date_time Variation year_month previous_step  \\\n",
       "521140      confirm 2017-05-11 09:13:00      Test    2017-05       confirm   \n",
       "521125        start 2017-05-11 09:13:46      Test    2017-05       confirm   \n",
       "521124       step_1 2017-05-11 09:21:51      Test    2017-05         start   \n",
       "\n",
       "        process_step_numeric  previous_step_numeric  is_error  \n",
       "521140                   4.0                    NaN     False  \n",
       "521125                   0.0                    4.0      True  \n",
       "521124                   NaN                    0.0     False  "
      ]
     },
     "execution_count": 98,
     "metadata": {},
     "output_type": "execute_result"
    }
   ],
   "source": [
    "df_concat_joined[df_concat_joined[\"visit_id\"]==\"100618014_41463020246_787063\"]"
   ]
  },
  {
   "cell_type": "code",
   "execution_count": 100,
   "id": "73e9ed99",
   "metadata": {},
   "outputs": [
    {
     "data": {
      "text/html": [
       "<div>\n",
       "<style scoped>\n",
       "    .dataframe tbody tr th:only-of-type {\n",
       "        vertical-align: middle;\n",
       "    }\n",
       "\n",
       "    .dataframe tbody tr th {\n",
       "        vertical-align: top;\n",
       "    }\n",
       "\n",
       "    .dataframe thead th {\n",
       "        text-align: right;\n",
       "    }\n",
       "</style>\n",
       "<table border=\"1\" class=\"dataframe\">\n",
       "  <thead>\n",
       "    <tr style=\"text-align: right;\">\n",
       "      <th></th>\n",
       "      <th>client_id</th>\n",
       "      <th>visitor_id</th>\n",
       "      <th>visit_id</th>\n",
       "      <th>process_step</th>\n",
       "      <th>date_time</th>\n",
       "    </tr>\n",
       "  </thead>\n",
       "  <tbody>\n",
       "    <tr>\n",
       "      <th>177983</th>\n",
       "      <td>4389198</td>\n",
       "      <td>729937373_63248482072</td>\n",
       "      <td>100618014_41463020246_787063</td>\n",
       "      <td>step_1</td>\n",
       "      <td>2017-05-11 09:21:51</td>\n",
       "    </tr>\n",
       "    <tr>\n",
       "      <th>177984</th>\n",
       "      <td>4389198</td>\n",
       "      <td>729937373_63248482072</td>\n",
       "      <td>100618014_41463020246_787063</td>\n",
       "      <td>start</td>\n",
       "      <td>2017-05-11 09:13:46</td>\n",
       "    </tr>\n",
       "    <tr>\n",
       "      <th>177985</th>\n",
       "      <td>4389198</td>\n",
       "      <td>729937373_63248482072</td>\n",
       "      <td>100618014_41463020246_787063</td>\n",
       "      <td>start</td>\n",
       "      <td>2017-05-11 09:13:46</td>\n",
       "    </tr>\n",
       "    <tr>\n",
       "      <th>177999</th>\n",
       "      <td>4389198</td>\n",
       "      <td>729937373_63248482072</td>\n",
       "      <td>100618014_41463020246_787063</td>\n",
       "      <td>confirm</td>\n",
       "      <td>2017-05-11 09:13:00</td>\n",
       "    </tr>\n",
       "  </tbody>\n",
       "</table>\n",
       "</div>"
      ],
      "text/plain": [
       "        client_id             visitor_id                      visit_id  \\\n",
       "177983    4389198  729937373_63248482072  100618014_41463020246_787063   \n",
       "177984    4389198  729937373_63248482072  100618014_41463020246_787063   \n",
       "177985    4389198  729937373_63248482072  100618014_41463020246_787063   \n",
       "177999    4389198  729937373_63248482072  100618014_41463020246_787063   \n",
       "\n",
       "       process_step           date_time  \n",
       "177983       step_1 2017-05-11 09:21:51  \n",
       "177984        start 2017-05-11 09:13:46  \n",
       "177985        start 2017-05-11 09:13:46  \n",
       "177999      confirm 2017-05-11 09:13:00  "
      ]
     },
     "execution_count": 100,
     "metadata": {},
     "output_type": "execute_result"
    }
   ],
   "source": [
    "df_concat[df_concat[\"visit_id\"]==\"100618014_41463020246_787063\"]"
   ]
  },
  {
   "cell_type": "code",
   "execution_count": 94,
   "id": "b71775a9",
   "metadata": {},
   "outputs": [
    {
     "data": {
      "text/html": [
       "<div>\n",
       "<style scoped>\n",
       "    .dataframe tbody tr th:only-of-type {\n",
       "        vertical-align: middle;\n",
       "    }\n",
       "\n",
       "    .dataframe tbody tr th {\n",
       "        vertical-align: top;\n",
       "    }\n",
       "\n",
       "    .dataframe thead th {\n",
       "        text-align: right;\n",
       "    }\n",
       "</style>\n",
       "<table border=\"1\" class=\"dataframe\">\n",
       "  <thead>\n",
       "    <tr style=\"text-align: right;\">\n",
       "      <th></th>\n",
       "      <th>client_id</th>\n",
       "      <th>visitor_id</th>\n",
       "      <th>visit_id</th>\n",
       "      <th>process_step</th>\n",
       "      <th>date_time</th>\n",
       "      <th>Variation</th>\n",
       "      <th>year_month</th>\n",
       "      <th>previous_step</th>\n",
       "      <th>process_step_numeric</th>\n",
       "      <th>previous_step_numeric</th>\n",
       "      <th>is_error</th>\n",
       "    </tr>\n",
       "  </thead>\n",
       "  <tbody>\n",
       "    <tr>\n",
       "      <th>521125</th>\n",
       "      <td>4389198</td>\n",
       "      <td>729937373_63248482072</td>\n",
       "      <td>100618014_41463020246_787063</td>\n",
       "      <td>start</td>\n",
       "      <td>2017-05-11 09:13:46</td>\n",
       "      <td>Test</td>\n",
       "      <td>2017-05</td>\n",
       "      <td>confirm</td>\n",
       "      <td>0.0</td>\n",
       "      <td>4.0</td>\n",
       "      <td>True</td>\n",
       "    </tr>\n",
       "    <tr>\n",
       "      <th>46955</th>\n",
       "      <td>1181373</td>\n",
       "      <td>63399771_40264961342</td>\n",
       "      <td>101680890_99989873555_20306</td>\n",
       "      <td>start</td>\n",
       "      <td>2017-04-06 23:07:25</td>\n",
       "      <td>Test</td>\n",
       "      <td>2017-04</td>\n",
       "      <td>confirm</td>\n",
       "      <td>0.0</td>\n",
       "      <td>4.0</td>\n",
       "      <td>True</td>\n",
       "    </tr>\n",
       "    <tr>\n",
       "      <th>530272</th>\n",
       "      <td>9719474</td>\n",
       "      <td>494497404_19580991399</td>\n",
       "      <td>102039130_96083762708_562998</td>\n",
       "      <td>start</td>\n",
       "      <td>2017-05-29 14:44:08</td>\n",
       "      <td>Control</td>\n",
       "      <td>2017-05</td>\n",
       "      <td>NaN</td>\n",
       "      <td>0.0</td>\n",
       "      <td>4.0</td>\n",
       "      <td>True</td>\n",
       "    </tr>\n",
       "    <tr>\n",
       "      <th>148074</th>\n",
       "      <td>1081771</td>\n",
       "      <td>177562071_65278452379</td>\n",
       "      <td>102040676_43919492336_211555</td>\n",
       "      <td>start</td>\n",
       "      <td>2017-03-29 11:19:51</td>\n",
       "      <td>Test</td>\n",
       "      <td>2017-03</td>\n",
       "      <td>confirm</td>\n",
       "      <td>0.0</td>\n",
       "      <td>4.0</td>\n",
       "      <td>True</td>\n",
       "    </tr>\n",
       "    <tr>\n",
       "      <th>233982</th>\n",
       "      <td>7516259</td>\n",
       "      <td>254175251_5339168232</td>\n",
       "      <td>103844930_39480104147_119972</td>\n",
       "      <td>start</td>\n",
       "      <td>2017-04-14 16:26:55</td>\n",
       "      <td>Control</td>\n",
       "      <td>2017-04</td>\n",
       "      <td>NaN</td>\n",
       "      <td>0.0</td>\n",
       "      <td>4.0</td>\n",
       "      <td>True</td>\n",
       "    </tr>\n",
       "    <tr>\n",
       "      <th>...</th>\n",
       "      <td>...</td>\n",
       "      <td>...</td>\n",
       "      <td>...</td>\n",
       "      <td>...</td>\n",
       "      <td>...</td>\n",
       "      <td>...</td>\n",
       "      <td>...</td>\n",
       "      <td>...</td>\n",
       "      <td>...</td>\n",
       "      <td>...</td>\n",
       "      <td>...</td>\n",
       "    </tr>\n",
       "    <tr>\n",
       "      <th>194532</th>\n",
       "      <td>2989514</td>\n",
       "      <td>911407231_22677757642</td>\n",
       "      <td>992501315_52187662897_578510</td>\n",
       "      <td>start</td>\n",
       "      <td>2017-04-12 17:34:12</td>\n",
       "      <td>Control</td>\n",
       "      <td>2017-04</td>\n",
       "      <td>confirm</td>\n",
       "      <td>0.0</td>\n",
       "      <td>4.0</td>\n",
       "      <td>True</td>\n",
       "    </tr>\n",
       "    <tr>\n",
       "      <th>229919</th>\n",
       "      <td>609351</td>\n",
       "      <td>607276246_21737071573</td>\n",
       "      <td>992939045_35471907532_926842</td>\n",
       "      <td>start</td>\n",
       "      <td>2017-04-05 21:53:18</td>\n",
       "      <td>Control</td>\n",
       "      <td>2017-04</td>\n",
       "      <td>confirm</td>\n",
       "      <td>0.0</td>\n",
       "      <td>4.0</td>\n",
       "      <td>True</td>\n",
       "    </tr>\n",
       "    <tr>\n",
       "      <th>161045</th>\n",
       "      <td>5023117</td>\n",
       "      <td>466389680_89636478437</td>\n",
       "      <td>992941276_23591768324_516622</td>\n",
       "      <td>start</td>\n",
       "      <td>2017-03-29 11:12:55</td>\n",
       "      <td>Test</td>\n",
       "      <td>2017-03</td>\n",
       "      <td>confirm</td>\n",
       "      <td>0.0</td>\n",
       "      <td>4.0</td>\n",
       "      <td>True</td>\n",
       "    </tr>\n",
       "    <tr>\n",
       "      <th>173435</th>\n",
       "      <td>2657062</td>\n",
       "      <td>384438953_2039351232</td>\n",
       "      <td>993877099_76368524525_812383</td>\n",
       "      <td>start</td>\n",
       "      <td>2017-04-19 22:29:40</td>\n",
       "      <td>Control</td>\n",
       "      <td>2017-04</td>\n",
       "      <td>confirm</td>\n",
       "      <td>0.0</td>\n",
       "      <td>4.0</td>\n",
       "      <td>True</td>\n",
       "    </tr>\n",
       "    <tr>\n",
       "      <th>174132</th>\n",
       "      <td>7918244</td>\n",
       "      <td>123454210_15314774444</td>\n",
       "      <td>999399984_77869472518_48297</td>\n",
       "      <td>start</td>\n",
       "      <td>2017-03-28 23:17:33</td>\n",
       "      <td>Control</td>\n",
       "      <td>2017-03</td>\n",
       "      <td>confirm</td>\n",
       "      <td>0.0</td>\n",
       "      <td>4.0</td>\n",
       "      <td>True</td>\n",
       "    </tr>\n",
       "  </tbody>\n",
       "</table>\n",
       "<p>928 rows × 11 columns</p>\n",
       "</div>"
      ],
      "text/plain": [
       "        client_id             visitor_id                      visit_id  \\\n",
       "521125    4389198  729937373_63248482072  100618014_41463020246_787063   \n",
       "46955     1181373   63399771_40264961342   101680890_99989873555_20306   \n",
       "530272    9719474  494497404_19580991399  102039130_96083762708_562998   \n",
       "148074    1081771  177562071_65278452379  102040676_43919492336_211555   \n",
       "233982    7516259   254175251_5339168232  103844930_39480104147_119972   \n",
       "...           ...                    ...                           ...   \n",
       "194532    2989514  911407231_22677757642  992501315_52187662897_578510   \n",
       "229919     609351  607276246_21737071573  992939045_35471907532_926842   \n",
       "161045    5023117  466389680_89636478437  992941276_23591768324_516622   \n",
       "173435    2657062   384438953_2039351232  993877099_76368524525_812383   \n",
       "174132    7918244  123454210_15314774444   999399984_77869472518_48297   \n",
       "\n",
       "       process_step           date_time Variation year_month previous_step  \\\n",
       "521125        start 2017-05-11 09:13:46      Test    2017-05       confirm   \n",
       "46955         start 2017-04-06 23:07:25      Test    2017-04       confirm   \n",
       "530272        start 2017-05-29 14:44:08   Control    2017-05           NaN   \n",
       "148074        start 2017-03-29 11:19:51      Test    2017-03       confirm   \n",
       "233982        start 2017-04-14 16:26:55   Control    2017-04           NaN   \n",
       "...             ...                 ...       ...        ...           ...   \n",
       "194532        start 2017-04-12 17:34:12   Control    2017-04       confirm   \n",
       "229919        start 2017-04-05 21:53:18   Control    2017-04       confirm   \n",
       "161045        start 2017-03-29 11:12:55      Test    2017-03       confirm   \n",
       "173435        start 2017-04-19 22:29:40   Control    2017-04       confirm   \n",
       "174132        start 2017-03-28 23:17:33   Control    2017-03       confirm   \n",
       "\n",
       "        process_step_numeric  previous_step_numeric  is_error  \n",
       "521125                   0.0                    4.0      True  \n",
       "46955                    0.0                    4.0      True  \n",
       "530272                   0.0                    4.0      True  \n",
       "148074                   0.0                    4.0      True  \n",
       "233982                   0.0                    4.0      True  \n",
       "...                      ...                    ...       ...  \n",
       "194532                   0.0                    4.0      True  \n",
       "229919                   0.0                    4.0      True  \n",
       "161045                   0.0                    4.0      True  \n",
       "173435                   0.0                    4.0      True  \n",
       "174132                   0.0                    4.0      True  \n",
       "\n",
       "[928 rows x 11 columns]"
      ]
     },
     "execution_count": 94,
     "metadata": {},
     "output_type": "execute_result"
    }
   ],
   "source": [
    "df_concat_joined[df_concat_joined[\"is_error\"] == True]"
   ]
  },
  {
   "cell_type": "code",
   "execution_count": 102,
   "id": "c18da42e-80b2-4811-92e4-50a11915b3b4",
   "metadata": {},
   "outputs": [
    {
     "name": "stdout",
     "output_type": "stream",
     "text": [
      "        client_id           date_time process_step  previous_step_numeric  \\\n",
      "108614    3561384 2017-04-26 13:22:17      confirm                    NaN   \n",
      "108613    3561384 2017-04-26 13:23:09      confirm                    4.0   \n",
      "240562    7338123 2017-04-09 16:20:56        start                    NaN   \n",
      "240561    7338123 2017-04-09 16:21:12       step_1                    0.0   \n",
      "240560    7338123 2017-04-09 16:21:21       step_2                    NaN   \n",
      "...           ...                 ...          ...                    ...   \n",
      "97222     6627522 2017-04-21 23:49:11        start                    NaN   \n",
      "97221     6627522 2017-04-21 23:49:22       step_1                    0.0   \n",
      "97220     6627522 2017-04-21 23:50:16       step_2                    NaN   \n",
      "97219     6627522 2017-04-21 23:51:00       step_1                    NaN   \n",
      "97218     6627522 2017-04-21 23:51:09        start                    NaN   \n",
      "\n",
      "        is_error  \n",
      "108614     False  \n",
      "108613     False  \n",
      "240562     False  \n",
      "240561     False  \n",
      "240560     False  \n",
      "...          ...  \n",
      "97222      False  \n",
      "97221      False  \n",
      "97220      False  \n",
      "97219      False  \n",
      "97218      False  \n",
      "\n",
      "[317235 rows x 5 columns]\n"
     ]
    }
   ],
   "source": [
    "print(df_concat_joined[['client_id', 'date_time', 'process_step', 'previous_step_numeric', 'is_error']])\n",
    "\n"
   ]
  },
  {
   "cell_type": "code",
   "execution_count": null,
   "id": "c5e14ef5",
   "metadata": {},
   "outputs": [],
   "source": []
  }
 ],
 "metadata": {
  "kernelspec": {
   "display_name": "base",
   "language": "python",
   "name": "python3"
  },
  "language_info": {
   "codemirror_mode": {
    "name": "ipython",
    "version": 3
   },
   "file_extension": ".py",
   "mimetype": "text/x-python",
   "name": "python",
   "nbconvert_exporter": "python",
   "pygments_lexer": "ipython3",
   "version": "3.12.4"
  }
 },
 "nbformat": 4,
 "nbformat_minor": 5
}

{
 "cells": [
  {
   "cell_type": "code",
   "execution_count": 2,
   "id": "56d95cf8-ef13-4fa2-8e47-8dbf15ab5568",
   "metadata": {},
   "outputs": [],
   "source": [
    "import pandas as pd\n",
    "import matplotlib.pyplot as plt\n",
    "import seaborn as sns\n",
    "import numpy as np\n",
    "from functionst import * \n",
    "import numpy as np\n",
    "%matplotlib inline"
   ]
  },
  {
   "cell_type": "code",
   "execution_count": 4,
   "id": "9538a8c1-d1c9-4b4f-af8f-e34b0a1acdff",
   "metadata": {},
   "outputs": [],
   "source": [
    "# Dataset1: Client Profiles: Demographics like age, gender, and account details of our clients.\n",
    "file_path='data/df_final_demo.txt'\n",
    "df_clients = pd.read_csv(file_path, delimiter=',')"
   ]
  },
  {
   "cell_type": "code",
   "execution_count": 5,
   "id": "6e21a8be-b980-4c6e-924b-42475a4c5258",
   "metadata": {},
   "outputs": [],
   "source": [
    "# Dataset2: Digital Footprints pt1 & pt2: \n",
    "# A detailed trace of client interactions online, divided into two parts: pt_1 and pt_2. \n",
    "# It’s recommended to merge these two files prior to a comprehensive data analysis.\n",
    "file_path='data/df_final_web_data_pt_1.txt'\n",
    "df2 = pd.read_csv(file_path, delimiter=',')\n",
    "file_path = \"Data/df_final_web_data_pt_2.txt\"\n",
    "df3 = pd.read_csv(file_path, delimiter=',')\n",
    "df_concat = pd.concat([df2, df3])  # Concatenated "
   ]
  },
  {
   "cell_type": "code",
   "execution_count": 6,
   "id": "14ee977a",
   "metadata": {},
   "outputs": [],
   "source": [
    "#Dataset 3: Experiment Roster: A list revealing which clients were part of the grand experiment.\n",
    "file_path='data/df_final_experiment_clients.txt'\n",
    "df_roster = pd.read_csv(file_path, delimiter=',')"
   ]
  },
  {
   "cell_type": "markdown",
   "id": "4cac4b0e",
   "metadata": {},
   "source": [
    "Cleaning df_Clients"
   ]
  },
  {
   "cell_type": "markdown",
   "id": "9a93571b",
   "metadata": {},
   "source": [
    "Check for Duplicates"
   ]
  },
  {
   "cell_type": "code",
   "execution_count": null,
   "id": "32aec969",
   "metadata": {},
   "outputs": [],
   "source": [
    "df_clients.duplicated().sum() # Check"
   ]
  },
  {
   "cell_type": "code",
   "execution_count": 8,
   "id": "9a6ce5cd",
   "metadata": {},
   "outputs": [],
   "source": [
    "# Rename columns\n",
    "df_clients.rename(columns={\"clnt_tenure_yr\": \"client_tenure_yr\",\n",
    "                           \"clnt_tenure_mnth\":\"client_tenure_mnth\",\n",
    "                           \"clnt_age\":\"client_age\",\n",
    "                           \"gendr\":\"gender\",\n",
    "                           \"bal\":\"balance\"\n",
    "                           }, inplace=True)"
   ]
  },
  {
   "cell_type": "code",
   "execution_count": null,
   "id": "96f45df3",
   "metadata": {},
   "outputs": [],
   "source": [
    "# Checking for NaN Rows\n",
    "nan_rows = df_clients[df_clients.isna().any(axis=1)]\n",
    "# Drop NaN Values with more many NaNs\n",
    "df_clients.dropna(thresh=4,inplace=True)\n",
    "# Fill NaN in client age\n",
    "df_clients[\"client_age\"].fillna(df_clients[\"client_age\"].mean(),inplace=True)\n",
    "\n",
    "# Drop NaN Values with more many NaNs \n",
    "df_clients.dropna(thresh=4,inplace=True)\n",
    "\n",
    "# Fill NaN in client age\n",
    "df_clients[\"client_age\"].fillna(df_clients[\"client_age\"].mean(),inplace=True)\n",
    "\n",
    "# Filled the Client tenure yr with NaN when Client age < then tenure\n",
    "df_clients.loc[df_clients[\"client_tenure_yr\"] > df_clients[\"client_age\"], \"client_tenure_yr\"] = np.nan"
   ]
  },
  {
   "cell_type": "code",
   "execution_count": 10,
   "id": "33b339b5",
   "metadata": {},
   "outputs": [],
   "source": [
    "# Defining age Group and Assigning to client Data\n",
    "\n",
    "df_clients[\"client_age_group\"] = df_clients[\"client_age\"].apply(age_group) # Age group aus Functions"
   ]
  },
  {
   "cell_type": "markdown",
   "id": "552f444f",
   "metadata": {},
   "source": [
    "Clean df_concat"
   ]
  },
  {
   "cell_type": "code",
   "execution_count": 12,
   "id": "0b856b15",
   "metadata": {},
   "outputs": [],
   "source": [
    "# Transformed DATETIME\n",
    "df_concat[\"date_time\"] = pd.to_datetime(df_concat[\"date_time\"])"
   ]
  },
  {
   "cell_type": "code",
   "execution_count": null,
   "id": "aa5746db",
   "metadata": {},
   "outputs": [],
   "source": [
    "df_concat.duplicated().sum()"
   ]
  },
  {
   "cell_type": "markdown",
   "id": "ebdcb0f6",
   "metadata": {},
   "source": [
    "Joined Clients and Joined DC_Concat with Roster"
   ]
  },
  {
   "cell_type": "code",
   "execution_count": 16,
   "id": "9ade2cd9",
   "metadata": {},
   "outputs": [],
   "source": [
    "# Joined Clients with the Roster an dropped the NaN Values\n",
    "df_client_joined = pd.merge(df_clients,df_roster, how=\"left\", on=\"client_id\")"
   ]
  },
  {
   "cell_type": "code",
   "execution_count": 43,
   "id": "721b6388",
   "metadata": {},
   "outputs": [],
   "source": [
    "# Joined DF Concat with the Roster and dropped the duplicates\n",
    "df_concat_joined = pd.merge(df_concat,df_roster, on=\"client_id\", how=\"left\")\n",
    "df_concat_joined.dropna(subset=\"Variation\",inplace=True)\n",
    "df_concat_joined.drop_duplicates(inplace=True)\n",
    "df_concat_joined['year_month'] = df_concat_joined['date_time'].dt.to_period('M') # Added year\n"
   ]
  },
  {
   "cell_type": "code",
   "execution_count": null,
   "id": "98b630dd",
   "metadata": {},
   "outputs": [],
   "source": [
    "\"\"\" Add a column if the client finished the process\n",
    "\n",
    "# Identify the client_ids that have a \"finished\" step\n",
    "clients_with_finished = df_concat_joined[df_concat_joined['process_step'] == 'confirm']['client_id']\n",
    "\n",
    "# Using map to replace boolean values\n",
    "df_client_joined['finished'] = df_client_joined[\"client_id\"].isin(clients_with_finished).map({True:\"yes\",False:\"no\"})\n",
    "\n",
    "df_client_joined[\"finished\"].unique()\"\"\""
   ]
  },
  {
   "cell_type": "markdown",
   "id": "6f74e5d4",
   "metadata": {},
   "source": [
    "Who are the clients"
   ]
  },
  {
   "cell_type": "code",
   "execution_count": null,
   "id": "aa5852cd",
   "metadata": {},
   "outputs": [],
   "source": [
    "# Who are the clients? By Age\n",
    "most_clients = df_clients.groupby(\"client_age_group\")[\"logons_6_mnth\"].sum().sort_values( ascending=False)\n",
    "most_clients"
   ]
  },
  {
   "cell_type": "code",
   "execution_count": null,
   "id": "c05209a5",
   "metadata": {},
   "outputs": [],
   "source": [
    "# Checking \n",
    "sns.barplot(data= most_clients)\n",
    "plt.title(\"age groups by age\")\n",
    "plt.xlabel(\"age groups\")\n",
    "plt.ylabel(\"logins last 6 month\")"
   ]
  },
  {
   "cell_type": "code",
   "execution_count": 36,
   "id": "ae96a508",
   "metadata": {},
   "outputs": [],
   "source": [
    "# Who are the clients by tenure"
   ]
  },
  {
   "cell_type": "code",
   "execution_count": null,
   "id": "d39c7f7e",
   "metadata": {},
   "outputs": [],
   "source": [
    "sns.boxplot(data=df_clients[\"client_tenure_yr\"])"
   ]
  },
  {
   "cell_type": "code",
   "execution_count": null,
   "id": "e1911516",
   "metadata": {},
   "outputs": [],
   "source": [
    "sns.violinplot(data=df_clients[\"client_tenure_yr\"])"
   ]
  },
  {
   "cell_type": "code",
   "execution_count": null,
   "id": "84af39a1-eda2-4a38-8903-244220d311b6",
   "metadata": {},
   "outputs": [],
   "source": [
    "plt.figure(figsize=(10, 6))\n",
    "plt.scatter(df_clients['client_age'], df_clients['client_tenure_yr'], color='blue', alpha=0.7)\n",
    "plt.xlabel('Client Age', fontsize=12)\n",
    "plt.ylabel('Client Tenure (Years)', fontsize=12)\n",
    "plt.title('Client Age vs. Client Tenure (Years)', fontsize=15)"
   ]
  },
  {
   "cell_type": "markdown",
   "id": "106cedcf",
   "metadata": {},
   "source": [
    "Sorting df_concat and trying to calculate time of steps"
   ]
  },
  {
   "cell_type": "code",
   "execution_count": 28,
   "id": "8a53378d",
   "metadata": {},
   "outputs": [],
   "source": [
    "# Joined Clients with the Roster an dropped the NaN Values\n",
    "df_client_joined = pd.merge(df_clients,df_roster, how=\"left\", on=\"client_id\")\n",
    "df_client_joined_cleaned = df_client_joined.dropna()"
   ]
  },
  {
   "cell_type": "code",
   "execution_count": 46,
   "id": "106cedcf",
   "metadata": {},
   "outputs": [],
   "source": [
    "# Df_concat Sorted and time_diff_in_minutes\n",
    "\n",
    "# With this we are able to analyze\n",
    "df_concat_joined_sorted = df_concat_joined.sort_values(by=['client_id', 'visit_id', 'date_time'])\n",
    "df_concat_joined_sorted['time_diff_in_minutes'] = df_concat_joined_sorted.groupby(['client_id', 'visit_id'])['date_time'].diff().dt.total_seconds() / 60"
   ]
  },
  {
   "cell_type": "markdown",
   "id": "5d94469b",
   "metadata": {},
   "source": [
    "CALCULATING \n",
    "COMPLETION RATE"
   ]
  },
  {
   "cell_type": "code",
   "execution_count": null,
   "id": "4f39b281",
   "metadata": {},
   "outputs": [],
   "source": [
    "completion_rate_control = df_concat_joined_sorted[(df_concat_joined_sorted[\"finished\"] == \"yes\") & (df_concat_joined_sorted[\"Variation\"] == \"Control\")][\"visit_id\"].nunique()/df_concat_joined_sorted[df_concat_joined_sorted[\"Variation\"]==\"Control\"][\"visit_id\"].nunique()\n",
    "\n",
    "F\"Completion Rate Test = {completion_rate_control}\""
   ]
  },
  {
   "cell_type": "code",
   "execution_count": null,
   "id": "657f1723",
   "metadata": {},
   "outputs": [],
   "source": [
    "completion_rate_test = df_concat_joined_sorted[(df_concat_joined_sorted[\"finished\"] == \"yes\") & (df_concat_joined_sorted[\"Variation\"] == \"Test\")][\"visit_id\"].nunique()/df_concat_joined_sorted[df_concat_joined_sorted[\"Variation\"]==\"Test\"][\"visit_id\"].nunique()\n",
    "\n",
    "F\"Completion Rate Test = {completion_rate_test}\"\n"
   ]
  },
  {
   "cell_type": "code",
   "execution_count": null,
   "id": "d86537bc",
   "metadata": {},
   "outputs": [],
   "source": [
    "all_completion_rate = df_concat_joined_sorted[df_concat_joined_sorted[\"finished\"] == \"yes\"][\"visit_id\"].nunique()/df_concat_joined_sorted[\"visit_id\"].nunique()\n",
    "F\"Completion Rate = {completion_rate*100} %\""
   ]
  },
  {
   "cell_type": "markdown",
   "id": "603332a6",
   "metadata": {},
   "source": [
    "Calculating which visit ID turned into COMPLETE CONFIRM"
   ]
  },
  {
   "cell_type": "code",
   "execution_count": null,
   "id": "d3793f0f",
   "metadata": {},
   "outputs": [],
   "source": []
  },
  {
   "cell_type": "code",
   "execution_count": 103,
   "id": "864a3252",
   "metadata": {},
   "outputs": [],
   "source": [
    "# Adding a column for every visit which led to finished and go through all 4 steps\n",
    "finished_list = filter_complete_visit(df_concat_joined_sorted)\n",
    "df_concat_joined_sorted[\"finished\"] = df_concat_joined_sorted[\"visit_id\"].apply(lambda x:\"yes\" if x in finished_list else \"no\" )"
   ]
  },
  {
   "cell_type": "code",
   "execution_count": null,
   "id": "84af39a1-eda2-4a38-8903-244220d311b6",
   "metadata": {},
   "outputs": [],
   "source": [
    "plt.figure(figsize=(10, 6))\n",
    "plt.scatter(df_clients['client_age_group'], df_clients['client_tenure_yr'], color='blue', alpha=0.7)\n",
    "plt.xlabel('Client Age', fontsize=12)\n",
    "plt.ylabel('Client Tenure (Years)', fontsize=12)\n",
    "plt.title('Client Age vs. Client Tenure (Years)', fontsize=15)"
   ]
  },
  {
   "cell_type": "code",
   "execution_count": 52,
   "id": "8ae6f914-2f90-40f0-9dc8-5d2f91da58ff",
   "metadata": {},
   "outputs": [],
   "source": [
    "# Calculating call categorized by age group\n",
    "average_calls_by_age_variation = df_client_joined_cleaned.groupby(['client_age_group', 'Variation'])['calls_6_mnth'].mean().reset_index()"
   ]
  },
  {
   "cell_type": "code",
   "execution_count": null,
   "id": "238fd540-099e-46c3-8caf-58542be3185e",
   "metadata": {},
   "outputs": [],
   "source": [
    "# How many reached\n",
    "df_concat_joined_sorted[\"process_step\"].value_counts()"
   ]
  },
  {
   "cell_type": "code",
   "execution_count": null,
   "id": "f14039e9-1217-4d68-8aa8-92865a22bdf9",
   "metadata": {},
   "outputs": [],
   "source": [
    "plt.figure(figsize=(8, 4))\n",
    "sns.barplot(x='client_age_group', y='calls_6_mnth', hue='Variation', data=average_calls_by_age_variation)\n",
    "plt.title('average calls by age and variation')\n",
    "plt.xlabel('age')\n",
    "plt.ylabel('average calls last six months')\n",
    "plt.legend(title='Variation')\n",
    "plt.grid(True)\n",
    "plt.xticks(rotation= 90)\n",
    "plt.show()"
   ]
  },
  {
   "cell_type": "code",
   "execution_count": null,
   "id": "6c94bda5-230f-44c5-b323-c267286971fb",
   "metadata": {},
   "outputs": [],
   "source": [
    "# Adding a column for every visit which led to finished and go through all 4 steps\n",
    "finished_list = filter_complete_visit(df_concat_joined_sorted)\n",
    "df_concat_joined_sorted[\"finished\"] = df_concat_joined_sorted[\"visit_id\"].apply(lambda x:\"yes\" if x in finished_list else \"no\" )\n",
    "len(finished_list)  \n",
    "df_concat_joined_sorted[df_concat_joined_sorted[\"finished\"] == \"yes\"][\"visit_id\"].nunique()"
   ]
  },
  {
   "cell_type": "code",
   "execution_count": 57,
   "id": "4168dc4e-bf88-471c-bd6e-d2d91005edb6",
   "metadata": {},
   "outputs": [],
   "source": [
    "# HYPOTHESESTEST: Two Sample T-test\n",
    "# HO no difference in number of calls between Test & Control\n",
    "# H1 there is difference between number of calls between Test & Control \n",
    "import scipy.stats as st"
   ]
  },
  {
   "cell_type": "code",
   "execution_count": null,
   "id": "5600cec3",
   "metadata": {},
   "outputs": [],
   "source": [
    "df_client_joined_cleaned"
   ]
  },
  {
   "cell_type": "code",
   "execution_count": 68,
   "id": "f6541290",
   "metadata": {},
   "outputs": [],
   "source": [
    "# Calculating Statistical Stuff\n",
    "\n",
    "test = df_client_joined_cleaned[df_client_joined_cleaned[\"Variation\"]==\"Test\"][\"calls_6_mnth\"]\n",
    "control= df_client_joined_cleaned[df_client_joined_cleaned[\"Variation\"]==\"Control\"][\"calls_6_mnth\"]\n",
    "\n",
    "M1 = test.mean()\n",
    "M2 = control.mean()\n",
    "SD1 = test.std(ddof=1)\n",
    "SD2 = control.std(ddof=1)\n",
    "n1 = len(test)\n",
    "n2 = len(control)"
   ]
  },
  {
   "cell_type": "code",
   "execution_count": null,
   "id": "b8a2be14-5e78-42ab-baed-9c5e4434df70",
   "metadata": {},
   "outputs": [],
   "source": [
    "st.ttest_ind(test,control, equal_var=False)"
   ]
  },
  {
   "cell_type": "code",
   "execution_count": null,
   "id": "0795717a-0b48-420b-8ec1-bc8052938db3",
   "metadata": {},
   "outputs": [],
   "source": [
    "SD_pooled = np.sqrt(((n1 - 1) * SD1**2 + (n2 - 1) * SD2**2) / (n1 + n2 - 2))\n",
    "cohens_d = (M1 - M2) / SD_pooled\n",
    "cohens_d"
   ]
  },
  {
   "cell_type": "code",
   "execution_count": 70,
   "id": "501441b7-a354-41df-b794-5e6342cf423e",
   "metadata": {},
   "outputs": [],
   "source": [
    "# p-value < 0.05: assuming there is no difference it is not likely to see no difference in sample: reject null hypotheses.\n",
    "# effectsize: -0.02 very small, not relevant"
   ]
  },
  {
   "cell_type": "markdown",
   "id": "c3f605b1-655d-45e2-ba78-42884fc1015b",
   "metadata": {},
   "source": [
    "## 2.KPI: User Satisfaction Based on Logins in the Last 6 Months\n",
    "Description: Evaluate user satisfaction through the frequency of user logins in the past 6 months, with more frequent logins suggesting a positive user experience and strong interest in the platform."
   ]
  },
  {
   "cell_type": "code",
   "execution_count": 71,
   "id": "416f0678-7fca-4d8f-91a8-4738ddb912ba",
   "metadata": {},
   "outputs": [],
   "source": [
    "# H0: there is no difference between T & C in average of logins \n",
    "# H1: there is a difference between T & C in avergae of logins"
   ]
  },
  {
   "cell_type": "code",
   "execution_count": null,
   "id": "71cd86f5-c547-4100-9914-6a6f415b0791",
   "metadata": {},
   "outputs": [],
   "source": [
    "df_Test_log = df_client_joined_cleaned[df_client_joined_cleaned[\"Variation\"]==\"Test\"][\"logons_6_mnth\"]\n",
    "df_Control_log= df_client_joined_cleaned[df_client_joined_cleaned[\"Variation\"]==\"Control\"][\"logons_6_mnth\"]\n",
    "st.ttest_ind(df_Test_log,df_Control_log, equal_var=False)"
   ]
  },
  {
   "cell_type": "code",
   "execution_count": 74,
   "id": "4c130488-33d5-40a2-8358-71dd84284acd",
   "metadata": {},
   "outputs": [],
   "source": [
    "test_log= df_client_joined_cleaned[df_client_joined_cleaned['Variation']=='Test']['logons_6_mnth']\n",
    "control_log= df_client_joined_cleaned[df_client_joined_cleaned['Variation']=='Control']['logons_6_mnth']\n",
    "\n",
    "M1_log = test_log.mean() \n",
    "M2_log = control_log.mean()  \n",
    "SD1_log = test_log.std(ddof=1) \n",
    "SD2_log = control_log.std(ddof=1)  \n",
    "n1_log = len(test_log) \n",
    "n2_log = len(control_log)  "
   ]
  },
  {
   "cell_type": "code",
   "execution_count": null,
   "id": "e634b11e-35f3-472e-b9bc-766a80e60404",
   "metadata": {},
   "outputs": [],
   "source": [
    "SD_pooled = np.sqrt(((n1_log - 1) * SD1_log**2 + (n2_log - 1) * SD2_log**2) / (n1_log + n2_log - 2))  #cohens d\n",
    "cohens_d = (M1_log - M2_log) / SD_pooled\n",
    "cohens_d"
   ]
  },
  {
   "cell_type": "code",
   "execution_count": 76,
   "id": "202f0dc9-6e2c-423e-8881-b08b364ad7fb",
   "metadata": {},
   "outputs": [],
   "source": [
    "# p-values: < 0.05 : there is a difference\n",
    "# effectsize: -0.02: very small, not relevant"
   ]
  },
  {
   "cell_type": "markdown",
   "id": "f1abf3ed-924f-4406-bf3a-8dd149a67f7e",
   "metadata": {},
   "source": [
    "## 3. KPI: User Satisfaction Based on Balance Amount\n",
    "Description: Gauge user satisfaction by examining the balance amount of a user's account, as a higher balance can indicate a positive financial experience and trust in the platform."
   ]
  },
  {
   "cell_type": "code",
   "execution_count": 77,
   "id": "3ccd4d44-d196-42c5-843a-f5c76dcb977f",
   "metadata": {},
   "outputs": [],
   "source": [
    "# KPI balance \n",
    "#H0: no difference in balance\n",
    "#H1: difference in balance     -> p-value > 0.05: don't reject HO! "
   ]
  },
  {
   "cell_type": "code",
   "execution_count": null,
   "id": "5263233c-1c4e-453f-84f7-35fc22f7ce0b",
   "metadata": {},
   "outputs": [],
   "source": [
    "df_Test_bal = df_client_joined_cleaned[df_client_joined_cleaned[\"Variation\"]==\"Test\"][\"balance\"]\n",
    "df_Control_bal= df_client_joined_cleaned[df_client_joined_cleaned[\"Variation\"]==\"Control\"][\"balance\"]\n",
    "st.ttest_ind(df_Test_bal,df_Control_bal, equal_var=True)"
   ]
  },
  {
   "cell_type": "markdown",
   "id": "a2ed5cc8-39c0-403d-9457-18b0406ec013",
   "metadata": {},
   "source": [
    "## 4. KPI: User Satisfaction Based on the Number of Accounts\n",
    "Description: Assess user satisfaction by counting the number of accounts a user holds on the platform, as a higher account number may reflect stronger engagement and satisfaction with the services offered."
   ]
  },
  {
   "cell_type": "code",
   "execution_count": 79,
   "id": "481719c1-82d3-4b87-b99e-30707f85e2da",
   "metadata": {},
   "outputs": [],
   "source": [
    "# H0: no difference in account number\n",
    "# H1: difference in account number      "
   ]
  },
  {
   "cell_type": "code",
   "execution_count": null,
   "id": "051d31d2-68ad-41a4-96da-f19004ce43a0",
   "metadata": {},
   "outputs": [],
   "source": [
    "df_Test_acc = df_client_joined_cleaned[df_client_joined_cleaned[\"Variation\"]==\"Test\"][\"num_accts\"]\n",
    "df_Control_acc= df_client_joined_cleaned[df_client_joined_cleaned[\"Variation\"]==\"Control\"][\"num_accts\"]\n",
    "st.ttest_ind(df_Test_acc,df_Control_acc, equal_var=False)"
   ]
  },
  {
   "cell_type": "code",
   "execution_count": 81,
   "id": "4d641561-4f76-403c-8395-bb95061227fd",
   "metadata": {},
   "outputs": [],
   "source": [
    "# effectsize:\n",
    "control_acc= df_client_joined_cleaned[df_client_joined_cleaned['Variation']=='Control'][\"num_accts\"]\n",
    "control_acc\n",
    "test_acc= df_client_joined_cleaned[df_client_joined_cleaned['Variation']=='Test'][\"num_accts\"]\n",
    "test_acc\n",
    "\n",
    "M1_acc = test_acc.mean() \n",
    "M2_acc = control_acc.mean()  \n",
    "SD1_acc = test_acc.std(ddof=1) \n",
    "SD2_acc = control_acc.std(ddof=1)  \n",
    "n1_acc = len(test_acc) \n",
    "n2_acc = len(control_acc)  "
   ]
  },
  {
   "cell_type": "code",
   "execution_count": null,
   "id": "100b3e6d-fff7-43d7-97dc-354cd15f34c1",
   "metadata": {},
   "outputs": [],
   "source": [
    "SD_pooled = np.sqrt(((n1_acc - 1) * SD1_acc**2 + (n2_acc - 1) * SD2_acc**2) / (n1_acc + n2_acc - 2))\n",
    "cohens_d = (M1_acc - M2_acc) / SD_pooled\n",
    "cohens_d"
   ]
  },
  {
   "cell_type": "code",
   "execution_count": 83,
   "id": "b8602d1a-299a-4afd-99ba-b3908f836102",
   "metadata": {},
   "outputs": [],
   "source": [
    "# p-value (slightly) < 0.05: reject H0\n",
    "# effectsize: -0.018 : not relevant "
   ]
  },
  {
   "cell_type": "code",
   "execution_count": 89,
   "id": "d6afc298-dce6-4cfc-9259-fa2fe1e4e333",
   "metadata": {
    "scrolled": true
   },
   "outputs": [],
   "source": [
    "# error rate\n",
    "df_concat_joined = df_concat_joined.sort_values(by=['visit_id', 'date_time'])\n",
    "df_concat_joined['previous_step'] = df_concat_joined.groupby('visit_id')['process_step'].shift(1) #shifts values on cell down "
   ]
  },
  {
   "cell_type": "code",
   "execution_count": null,
   "id": "ca6f8d39",
   "metadata": {},
   "outputs": [],
   "source": [
    "df_concat_joined.groupby('visit_id')['process_step'].shift(1)"
   ]
  },
  {
   "cell_type": "code",
   "execution_count": 90,
   "id": "4a573ec3-82e0-4e11-b144-4458ee85a96f",
   "metadata": {},
   "outputs": [],
   "source": [
    "step_mapping = {'start': 0, 'step1': 1, 'step2': 2, 'step3': 3, 'confirm': 4}\n",
    "df_concat_joined['process_step_numeric'] = df_concat_joined['process_step'].map(step_mapping)\n",
    "df_concat_joined = df_concat_joined.sort_values(by=['visit_id', 'date_time'])\n",
    "df_concat_joined['previous_step_numeric'] = df_concat_joined.groupby('visit_id')['process_step_numeric'].shift(1)\n",
    "df_concat_joined['is_error'] = df_concat_joined['process_step_numeric'] < df_concat_joined['previous_step_numeric']"
   ]
  },
  {
   "cell_type": "code",
   "execution_count": null,
   "id": "4a4fa8df",
   "metadata": {},
   "outputs": [],
   "source": [
    "df_concat_joined[df_concat_joined[\"visit_id\"]==\"100618014_41463020246_787063\"]"
   ]
  },
  {
   "cell_type": "code",
   "execution_count": null,
   "id": "73e9ed99",
   "metadata": {},
   "outputs": [],
   "source": [
    "df_concat[df_concat[\"visit_id\"]==\"100618014_41463020246_787063\"]"
   ]
  },
  {
   "cell_type": "code",
   "execution_count": null,
   "id": "b71775a9",
   "metadata": {},
   "outputs": [],
   "source": [
    "df_concat_joined[df_concat_joined[\"is_error\"] == True]"
   ]
  },
  {
   "cell_type": "code",
   "execution_count": null,
   "id": "c18da42e-80b2-4811-92e4-50a11915b3b4",
   "metadata": {},
   "outputs": [],
   "source": [
    "print(df_concat_joined[['client_id', 'date_time', 'process_step', 'previous_step_numeric', 'is_error']])\n",
    "\n"
   ]
  },
  {
   "cell_type": "code",
   "execution_count": null,
   "id": "c5e14ef5",
   "metadata": {},
   "outputs": [],
   "source": []
  }
 ],
 "metadata": {
  "kernelspec": {
   "display_name": "base",
   "language": "python",
   "name": "python3"
  },
  "language_info": {
   "codemirror_mode": {
    "name": "ipython",
    "version": 3
   },
   "file_extension": ".py",
   "mimetype": "text/x-python",
   "name": "python",
   "nbconvert_exporter": "python",
   "pygments_lexer": "ipython3",
   "version": "3.12.4"
  }
 },
 "nbformat": 4,
 "nbformat_minor": 5
}

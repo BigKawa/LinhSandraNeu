{
 "cells": [
  {
   "cell_type": "code",
   "execution_count": 25,
   "id": "56d95cf8-ef13-4fa2-8e47-8dbf15ab5568",
   "metadata": {},
   "outputs": [],
   "source": [
    "import pandas as pd\n",
    "import matplotlib.pyplot as plt\n",
    "import seaborn as sns\n",
    "import numpy as np\n",
    "from functionst import * \n",
    "import numpy as np\n",
    "%matplotlib inline"
   ]
  },
  {
   "cell_type": "code",
   "execution_count": 29,
   "id": "9538a8c1-d1c9-4b4f-af8f-e34b0a1acdff",
   "metadata": {},
   "outputs": [],
   "source": [
    "# Dataset1: Client Profiles: Demographics like age, gender, and account details of our clients."
   ]
  },
  {
   "cell_type": "code",
   "execution_count": 30,
   "id": "e855ea0f-25f0-402b-9696-bacabf5c69c9",
   "metadata": {},
   "outputs": [],
   "source": [
    "file_path='data/df_final_demo.txt'\n",
    "df_clients = pd.read_csv(file_path, delimiter=',')"
   ]
  },
  {
   "cell_type": "code",
   "execution_count": 31,
   "id": "6e21a8be-b980-4c6e-924b-42475a4c5258",
   "metadata": {},
   "outputs": [],
   "source": [
    "# Dataset2: Digital Footprints pt1 & pt2: \n",
    "# A detailed trace of client interactions online, divided into two parts: pt_1 and pt_2. \n",
    "# It’s recommended to merge these two files prior to a comprehensive data analysis.\n",
    "file_path='data/df_final_web_data_pt_1.txt'\n",
    "df2 = pd.read_csv(file_path, delimiter=',')\n",
    "file_path = \"Data/df_final_web_data_pt_2.txt\"\n",
    "df3 = pd.read_csv(file_path, delimiter=',')\n",
    "df_concat = pd.concat([df2, df3])  # Concatenated "
   ]
  },
  {
   "cell_type": "code",
   "execution_count": 32,
   "id": "14ee977a",
   "metadata": {},
   "outputs": [],
   "source": [
    "#Dataset 3: Experiment Roster: A list revealing which clients were part of the grand experiment.\n",
    "file_path='data/df_final_experiment_clients.txt'\n",
    "df_roster = pd.read_csv(file_path, delimiter=',')"
   ]
  },
  {
   "cell_type": "markdown",
   "id": "4cac4b0e",
   "metadata": {},
   "source": [
    "Cleaning df_Clients"
   ]
  },
  {
   "cell_type": "markdown",
   "id": "9a93571b",
   "metadata": {},
   "source": [
    "Check for Duplicates"
   ]
  },
  {
   "cell_type": "code",
   "execution_count": null,
   "id": "32aec969",
   "metadata": {},
   "outputs": [],
   "source": [
    "df_clients.duplicated().sum() # Check"
   ]
  },
  {
   "cell_type": "code",
   "execution_count": 34,
   "id": "9a6ce5cd",
   "metadata": {},
   "outputs": [],
   "source": [
    "# Rename columns\n",
    "df_clients.rename(columns={\"clnt_tenure_yr\": \"client_tenure_yr\",\n",
    "                           \"clnt_tenure_mnth\":\"client_tenure_mnth\",\n",
    "                           \"clnt_age\":\"client_age\",\n",
    "                           \"gendr\":\"gender\",\n",
    "                           \"bal\":\"balance\"\n",
    "                           }, inplace=True)"
   ]
  },
  {
   "cell_type": "code",
   "execution_count": null,
   "id": "96f45df3",
   "metadata": {},
   "outputs": [],
   "source": [
    "# Checking for NaN Rows\n",
    "nan_rows = df_clients[df_clients.isna().any(axis=1)]\n",
    "# Drop NaN Values with more many NaNs\n",
    "df_clients.dropna(thresh=4,inplace=True)\n",
    "# Fill NaN in client age\n",
    "df_clients[\"client_age\"].fillna(df_clients[\"client_age\"].mean(),inplace=True)\n",
    "\n",
    "# Drop NaN Values with more many NaNs \n",
    "df_clients.dropna(thresh=4,inplace=True)\n",
    "\n",
    "# Fill NaN in client age\n",
    "df_clients[\"client_age\"].fillna(df_clients[\"client_age\"].mean(),inplace=True)\n",
    "\n",
    "# Filled the Client tenure yr with NaN when Client age < then tenure\n",
    "df_clients.loc[df_clients[\"client_tenure_yr\"] > df_clients[\"client_age\"], \"client_tenure_yr\"] = np.nan"
   ]
  },
  {
   "cell_type": "code",
   "execution_count": 36,
   "id": "33b339b5",
   "metadata": {},
   "outputs": [],
   "source": [
    "# Defining age Group and Assigning to client Data\n",
    "\n",
    "df_clients[\"client_age_group\"] = df_clients[\"client_age\"].apply(age_group)"
   ]
  },
  {
   "cell_type": "markdown",
   "id": "552f444f",
   "metadata": {},
   "source": [
    "Clean df_concat"
   ]
  },
  {
   "cell_type": "code",
   "execution_count": 37,
   "id": "0b856b15",
   "metadata": {},
   "outputs": [],
   "source": [
    "# Transformed DATETIME\n",
    "df_concat[\"date_time\"] = pd.to_datetime(df_concat[\"date_time\"])"
   ]
  },
  {
   "cell_type": "code",
   "execution_count": null,
   "id": "aa5746db",
   "metadata": {},
   "outputs": [],
   "source": [
    "df_concat.duplicated().sum()"
   ]
  },
  {
   "cell_type": "markdown",
   "id": "ebdcb0f6",
   "metadata": {},
   "source": [
    "Joined Clients and Joined DC_Concat with Roster"
   ]
  },
  {
   "cell_type": "code",
   "execution_count": 39,
   "id": "9ade2cd9",
   "metadata": {},
   "outputs": [],
   "source": [
    "# Joined Clients with the Roster an dropped the NaN Values\n",
    "df_client_joined = pd.merge(df_clients,df_roster, how=\"left\", on=\"client_id\")"
   ]
  },
  {
   "cell_type": "code",
   "execution_count": 40,
   "id": "721b6388",
   "metadata": {},
   "outputs": [],
   "source": [
    "# Joined DF Concat with the Roster and dropped the duplicates\n",
    "df_concat_joined = pd.merge(df_concat,df_roster, on=\"client_id\", how=\"left\")\n",
    "df_concat_joined.dropna(subset=\"Variation\",inplace=True)\n",
    "df_concat_joined.drop_duplicates(inplace=True)"
   ]
  },
  {
   "cell_type": "code",
   "execution_count": null,
   "id": "98b630dd",
   "metadata": {},
   "outputs": [],
   "source": [
    "# Add a column if the client finished the process\n",
    "\n",
    "# Identify the client_ids that have a \"finished\" step\n",
    "clients_with_finished = df_concat_joined[df_concat_joined['process_step'] == 'confirm']['client_id']\n",
    "\n",
    "# Using map to replace boolean values\n",
    "df_client_joined['finished'] = df_client_joined[\"client_id\"].isin(clients_with_finished).map({True:\"yes\",False:\"no\"})\n",
    "\n",
    "df_client_joined[\"finished\"].unique()"
   ]
  },
  {
   "cell_type": "markdown",
   "id": "6f74e5d4",
   "metadata": {},
   "source": [
    "Who are the clients"
   ]
  },
  {
   "cell_type": "code",
   "execution_count": null,
   "id": "aa5852cd",
   "metadata": {},
   "outputs": [],
   "source": [
    "# Who are the clients? By Age\n",
    "most_clients = df_clients.groupby(\"client_age_group\")[\"logons_6_mnth\"].sum().sort_values( ascending=False)\n",
    "most_clients"
   ]
  },
  {
   "cell_type": "code",
   "execution_count": null,
   "id": "c05209a5",
   "metadata": {},
   "outputs": [],
   "source": [
    "# Checking \n",
    "sns.barplot(data= most_clients)\n",
    "plt.title(\"age groups by age\")\n",
    "plt.xlabel(\"age groups\")\n",
    "plt.ylabel(\"logins last 6 month\")"
   ]
  },
  {
   "cell_type": "code",
   "execution_count": 17,
   "id": "ae96a508",
   "metadata": {},
   "outputs": [],
   "source": [
    "# Who are the clients by tenure"
   ]
  },
  {
   "cell_type": "code",
   "execution_count": null,
   "id": "d39c7f7e",
   "metadata": {},
   "outputs": [],
   "source": [
    "sns.boxplot(data=df_clients[\"client_tenure_yr\"])"
   ]
  },
  {
   "cell_type": "code",
   "execution_count": null,
   "id": "e1911516",
   "metadata": {},
   "outputs": [],
   "source": [
    "sns.violinplot(data=df_clients[\"client_tenure_yr\"])"
   ]
  },
  {
   "cell_type": "code",
   "execution_count": null,
   "id": "84af39a1-eda2-4a38-8903-244220d311b6",
   "metadata": {},
   "outputs": [],
   "source": [
    "plt.figure(figsize=(10, 6))\n",
    "plt.scatter(df_clients['client_age'], df_clients['client_tenure_yr'], color='blue', alpha=0.7)\n",
    "plt.xlabel('Client Age', fontsize=12)\n",
    "plt.ylabel('Client Tenure (Years)', fontsize=12)\n",
    "plt.title('Client Age vs. Client Tenure (Years)', fontsize=15)"
   ]
  },
  {
   "cell_type": "markdown",
   "id": "106cedcf",
   "metadata": {},
   "source": [
    "Sorting df_concat and trying to calculate time of steps"
   ]
  },
  {
   "cell_type": "code",
   "execution_count": null,
   "id": "8a53378d",
   "metadata": {},
   "outputs": [],
   "source": [
    "# Joined Clients with the Roster an dropped the NaN Values\n",
    "df_client_joined = pd.merge(df_clients,df_roster, how=\"left\", on=\"client_id\")\n",
    "df_client_joined_cleaned = df_client_joined.dropna()\n",
    "df_client_joined_cleaned.head()"
   ]
  },
  {
   "cell_type": "code",
   "execution_count": 45,
   "id": "721b6388",
   "metadata": {},
   "outputs": [],
   "source": [
    "# Joined DF Concat with the Roster and dropped the duplicates\n",
    "df_concat_joined = pd.merge(df_concat,df_roster, on=\"client_id\", how=\"left\")\n",
    "df_concat_joined.dropna(subset=\"Variation\",inplace=True)\n",
    "df_concat_joined.drop_duplicates(inplace=True)"
   ]
  },
  {
   "cell_type": "code",
   "execution_count": null,
   "id": "ef544a68-f64a-40a3-817f-28f792419d9a",
   "metadata": {},
   "outputs": [],
   "source": [
    "df_concat_joined"
   ]
  },
  {
   "cell_type": "code",
   "execution_count": 47,
   "id": "f3f9bd4a-249e-4212-aa80-0e1d2eeaacef",
   "metadata": {},
   "outputs": [],
   "source": [
    "df_concat_joined['year_month'] = df_concat_joined['date_time'].dt.to_period('M')"
   ]
  },
  {
   "cell_type": "markdown",
   "id": "6f74e5d4",
   "metadata": {},
   "source": [
    "Who are the clients"
   ]
  },
  {
   "cell_type": "code",
   "execution_count": null,
   "id": "aa5852cd",
   "metadata": {},
   "outputs": [],
   "source": [
    "# Who are the clients? By Age\n",
    "most_clients = df_clients.groupby(\"client_age_group\")[\"logons_6_mnth\"].sum().sort_values( ascending=False)\n",
    "most_clients"
   ]
  },
  {
   "cell_type": "code",
   "execution_count": null,
   "id": "c05209a5",
   "metadata": {},
   "outputs": [],
   "source": [
    "# Checking \n",
    "sns.barplot(data= most_clients)\n",
    "plt.title(\"age groups by age\")\n",
    "plt.xlabel(\"age groups\")\n",
    "plt.ylabel(\"logins last 6 month\")\n",
    "plt.xticks(rotation= 90)"
   ]
  },
  {
   "cell_type": "code",
   "execution_count": 51,
   "id": "ae96a508",
   "metadata": {},
   "outputs": [],
   "source": [
    "# Who are the clients by tenure"
   ]
  },
  {
   "cell_type": "code",
   "execution_count": null,
   "id": "d39c7f7e",
   "metadata": {},
   "outputs": [],
   "source": [
    "sns.boxplot(data=df_clients[\"client_tenure_yr\"])"
   ]
  },
  {
   "cell_type": "code",
   "execution_count": null,
   "id": "e1911516",
   "metadata": {},
   "outputs": [],
   "source": [
    "sns.violinplot(data=df_clients[\"client_tenure_yr\"])"
   ]
  },
  {
   "cell_type": "code",
   "execution_count": null,
   "id": "84af39a1-eda2-4a38-8903-244220d311b6",
   "metadata": {},
   "outputs": [],
   "source": [
    "plt.figure(figsize=(10, 6))\n",
    "plt.scatter(df_clients['client_age_group'], df_clients['client_tenure_yr'], color='blue', alpha=0.7)\n",
    "plt.xlabel('Client Age', fontsize=12)\n",
    "plt.ylabel('Client Tenure (Years)', fontsize=12)\n",
    "plt.title('Client Age vs. Client Tenure (Years)', fontsize=15)"
   ]
  },
  {
   "cell_type": "code",
   "execution_count": null,
   "id": "106cedcf",
   "metadata": {},
   "outputs": [],
   "source": [
    "# Df_concat Sorted and time_diff_in_minutes\n",
    "\n",
    "# With this we are able to analyze\n",
    "df_concat_joined_sorted = df_concat_joined.sort_values(by=['client_id', 'visit_id', 'date_time'])\n",
    "df_concat_joined_sorted['time_diff_in_minutes'] = df_concat_joined_sorted.groupby(['client_id', 'visit_id'])['date_time'].diff().dt.total_seconds() / 60\n",
    "\n"
   ]
  },
  {
   "cell_type": "code",
   "execution_count": null,
   "id": "13d52d48",
   "metadata": {},
   "outputs": [],
   "source": [
    "# investigating number of calls by age \n",
    "sns.boxplot(x='Variation', y='calls_6_mnth', data=df_client_joined_cleaned)"
   ]
  },
  {
   "cell_type": "code",
   "execution_count": 57,
   "id": "8ae6f914-2f90-40f0-9dc8-5d2f91da58ff",
   "metadata": {},
   "outputs": [],
   "source": [
    "average_calls_by_age_variation = df_client_joined_cleaned.groupby(['client_age_group', 'Variation'])['calls_6_mnth'].mean().reset_index()"
   ]
  },
  {
   "cell_type": "code",
   "execution_count": null,
   "id": "238fd540-099e-46c3-8caf-58542be3185e",
   "metadata": {},
   "outputs": [],
   "source": [
    "# How many reached\n",
    "df_concat_joined_sorted[\"process_step\"].value_counts()"
   ]
  },
  {
   "cell_type": "code",
   "execution_count": null,
   "id": "f14039e9-1217-4d68-8aa8-92865a22bdf9",
   "metadata": {},
   "outputs": [],
   "source": [
    "plt.figure(figsize=(8, 4))\n",
    "sns.barplot(x='client_age_group', y='calls_6_mnth', hue='Variation', data=average_calls_by_age_variation)\n",
    "plt.title('average calls by age and variation')\n",
    "plt.xlabel('age')\n",
    "plt.ylabel('average calls last six months')\n",
    "plt.legend(title='Variation')\n",
    "plt.grid(True)\n",
    "plt.xticks(rotation= 90)\n",
    "plt.show()"
   ]
  },
  {
   "cell_type": "code",
   "execution_count": 60,
   "id": "4168dc4e-bf88-471c-bd6e-d2d91005edb6",
   "metadata": {},
   "outputs": [],
   "source": [
    "# HYPOTHESESTEST: Two Sample T-test\n",
    "# HO no difference in number of calls between Test & Control\n",
    "# H1 there is difference between number of calls between Test & Control \n",
    "import scipy.stats as st"
   ]
  },
  {
   "cell_type": "code",
   "execution_count": 387,
   "id": "6c94bda5-230f-44c5-b323-c267286971fb",
   "metadata": {},
   "outputs": [],
   "source": [
    "# Adding a column for every visit which led to finished and go through all 4 steps\n",
    "finished_list = filter_complete_visit(df_concat_joined_sorted)\n",
    "df_concat_joined_sorted[\"finished\"] = df_concat_joined_sorted[\"visit_id\"].apply(lambda x:\"yes\" if x in finished_list else \"no\" )\n",
    "len(finished_list)  \n",
    "df_concat_joined_sorted[df_concat_joined_sorted[\"finished\"] == \"yes\"][\"visit_id\"].nunique()"
   ]
  },
  {
   "cell_type": "code",
   "execution_count": null,
   "id": "b8a2be14-5e78-42ab-baed-9c5e4434df70",
   "metadata": {},
   "outputs": [],
   "source": [
    "st.ttest_ind(df_Test_calls,df_Control_calls, equal_var=False)"
   ]
  },
  {
   "cell_type": "code",
   "execution_count": 391,
   "id": "199e1401-7495-43c1-bfeb-8d8609cc0741",
   "metadata": {},
   "outputs": [],
   "source": [
    "# This is only to create a csv File\n",
    "df_concat_joined_sorted.to_csv(\"Test.csv\")"
   ]
  },
  {
   "cell_type": "code",
   "execution_count": null,
   "id": "0795717a-0b48-420b-8ec1-bc8052938db3",
   "metadata": {},
   "outputs": [],
   "source": [
    "SD_pooled = np.sqrt(((n1 - 1) * SD1**2 + (n2 - 1) * SD2**2) / (n1 + n2 - 2))\n",
    "cohens_d = (M1 - M2) / SD_pooled\n",
    "cohens_d"
   ]
  },
  {
   "cell_type": "code",
   "execution_count": 395,
   "id": "501441b7-a354-41df-b794-5e6342cf423e",
   "metadata": {},
   "outputs": [],
   "source": [
    "# p-value < 0.05: assuming there is no difference it is not likely to see no difference in sample: reject null hypotheses.\n",
    "# effectsize: -0.02 very small, not relevant"
   ]
  },
  {
   "cell_type": "markdown",
   "id": "c3f605b1-655d-45e2-ba78-42884fc1015b",
   "metadata": {},
   "source": [
    "## 2.KPI: User Satisfaction Based on Logins in the Last 6 Months\n",
    "Description: Evaluate user satisfaction through the frequency of user logins in the past 6 months, with more frequent logins suggesting a positive user experience and strong interest in the platform."
   ]
  },
  {
   "cell_type": "code",
   "execution_count": 398,
   "id": "416f0678-7fca-4d8f-91a8-4738ddb912ba",
   "metadata": {},
   "outputs": [],
   "source": [
    "# H0: there is no difference between T & C in average of logins \n",
    "# H1: there is a difference between T & C in avergae of logins"
   ]
  },
  {
   "cell_type": "code",
   "execution_count": null,
   "id": "246cf0c8-1659-429c-873e-8ea0a9931aa3",
   "metadata": {},
   "outputs": [],
   "source": [
    "df_client_joined_cleaned"
   ]
  },
  {
   "cell_type": "code",
   "execution_count": null,
   "id": "71cd86f5-c547-4100-9914-6a6f415b0791",
   "metadata": {},
   "outputs": [],
   "source": [
    "df_Test_log = df_client_joined_cleaned[df_client_joined_cleaned[\"Variation\"]==\"Test\"][\"logons_6_mnth\"]\n",
    "df_Control_log= df_client_joined_cleaned[df_client_joined_cleaned[\"Variation\"]==\"Control\"][\"logons_6_mnth\"]\n",
    "st.ttest_ind(df_Test_log,df_Control_log, equal_var=False)"
   ]
  },
  {
   "cell_type": "code",
   "execution_count": 404,
   "id": "4c130488-33d5-40a2-8358-71dd84284acd",
   "metadata": {},
   "outputs": [],
   "source": [
    "test_log= df_client_joined_cleaned[df_client_joined_cleaned['Variation']=='Test']['logons_6_mnth']\n",
    "control_log= df_client_joined_cleaned[df_client_joined_cleaned['Variation']=='Control']['logons_6_mnth']\n",
    "\n",
    "M1_log = test_log.mean() \n",
    "M2_log = control_log.mean()  \n",
    "SD1_log = test_log.std(ddof=1) \n",
    "SD2_log = control_log.std(ddof=1)  \n",
    "n1_log = len(test_log) \n",
    "n2_log = len(control_log)  "
   ]
  },
  {
   "cell_type": "code",
   "execution_count": null,
   "id": "e634b11e-35f3-472e-b9bc-766a80e60404",
   "metadata": {},
   "outputs": [],
   "source": [
    "SD_pooled = np.sqrt(((n1_log - 1) * SD1_log**2 + (n2_log - 1) * SD2_log**2) / (n1_log + n2_log - 2))  #cohens d\n",
    "cohens_d = (M1_log - M2_log) / SD_pooled\n",
    "cohens_d"
   ]
  },
  {
   "cell_type": "code",
   "execution_count": 408,
   "id": "202f0dc9-6e2c-423e-8881-b08b364ad7fb",
   "metadata": {},
   "outputs": [],
   "source": [
    "# p-values: < 0.05 : there is a difference\n",
    "# effectsize: -0.02: very small, not relevant"
   ]
  },
  {
   "cell_type": "markdown",
   "id": "f1abf3ed-924f-4406-bf3a-8dd149a67f7e",
   "metadata": {},
   "source": [
    "## 3. KPI: User Satisfaction Based on Balance Amount\n",
    "Description: Gauge user satisfaction by examining the balance amount of a user's account, as a higher balance can indicate a positive financial experience and trust in the platform."
   ]
  },
  {
   "cell_type": "code",
   "execution_count": 411,
   "id": "3ccd4d44-d196-42c5-843a-f5c76dcb977f",
   "metadata": {},
   "outputs": [],
   "source": [
    "# KPI balance \n",
    "#H0: no difference in balance\n",
    "#H1: difference in balance     -> p-value > 0.05: don't reject HO! "
   ]
  },
  {
   "cell_type": "code",
   "execution_count": null,
   "id": "5263233c-1c4e-453f-84f7-35fc22f7ce0b",
   "metadata": {},
   "outputs": [],
   "source": [
    "df_Test_bal = df_client_joined_cleaned[df_client_joined_cleaned[\"Variation\"]==\"Test\"][\"balance\"]\n",
    "df_Control_bal= df_client_joined_cleaned[df_client_joined_cleaned[\"Variation\"]==\"Control\"][\"balance\"]\n",
    "st.ttest_ind(df_Test_bal,df_Control_bal, equal_var=True)"
   ]
  },
  {
   "cell_type": "markdown",
   "id": "a2ed5cc8-39c0-403d-9457-18b0406ec013",
   "metadata": {},
   "source": [
    "## 4. KPI: User Satisfaction Based on the Number of Accounts\n",
    "Description: Assess user satisfaction by counting the number of accounts a user holds on the platform, as a higher account number may reflect stronger engagement and satisfaction with the services offered."
   ]
  },
  {
   "cell_type": "code",
   "execution_count": 416,
   "id": "481719c1-82d3-4b87-b99e-30707f85e2da",
   "metadata": {},
   "outputs": [],
   "source": [
    "# H0: no difference in account number\n",
    "# H1: difference in account number      "
   ]
  },
  {
   "cell_type": "code",
   "execution_count": null,
   "id": "051d31d2-68ad-41a4-96da-f19004ce43a0",
   "metadata": {},
   "outputs": [],
   "source": [
    "df_Test_acc = df_client_joined_cleaned[df_client_joined_cleaned[\"Variation\"]==\"Test\"][\"num_accts\"]\n",
    "df_Control_acc= df_client_joined_cleaned[df_client_joined_cleaned[\"Variation\"]==\"Control\"][\"num_accts\"]\n",
    "st.ttest_ind(df_Test_acc,df_Control_acc, equal_var=False)"
   ]
  },
  {
   "cell_type": "code",
   "execution_count": 420,
   "id": "4d641561-4f76-403c-8395-bb95061227fd",
   "metadata": {},
   "outputs": [],
   "source": [
    "# effectsize:\n",
    "control_acc= df_client_joined_cleaned[df_client_joined_cleaned['Variation']=='Control'][\"num_accts\"]\n",
    "control_acc\n",
    "test_acc= df_client_joined_cleaned[df_client_joined_cleaned['Variation']=='Test'][\"num_accts\"]\n",
    "test_acc\n",
    "\n",
    "M1_acc = test_acc.mean() \n",
    "M2_acc = control_acc.mean()  \n",
    "SD1_acc = test_acc.std(ddof=1) \n",
    "SD2_acc = control_acc.std(ddof=1)  \n",
    "n1_acc = len(test_acc) \n",
    "n2_acc = len(control_acc)  "
   ]
  },
  {
   "cell_type": "code",
   "execution_count": null,
   "id": "100b3e6d-fff7-43d7-97dc-354cd15f34c1",
   "metadata": {},
   "outputs": [],
   "source": [
    "SD_pooled = np.sqrt(((n1_acc - 1) * SD1_acc**2 + (n2_acc - 1) * SD2_acc**2) / (n1_acc + n2_acc - 2))\n",
    "cohens_d = (M1_acc - M2_acc) / SD_pooled\n",
    "cohens_d"
   ]
  },
  {
   "cell_type": "code",
   "execution_count": 424,
   "id": "b8602d1a-299a-4afd-99ba-b3908f836102",
   "metadata": {},
   "outputs": [],
   "source": [
    "# p-value (slightly) < 0.05: reject H0\n",
    "# effectsize: -0.018 : not relevant "
   ]
  },
  {
   "cell_type": "code",
   "execution_count": 426,
   "id": "1a5e602f-4c4a-433b-bf18-038e3dfd3b64",
   "metadata": {},
   "outputs": [],
   "source": [
    " # change over time "
   ]
  },
  {
   "cell_type": "code",
   "execution_count": null,
   "id": "8447f4b5-0859-4306-9d54-5443012dab84",
   "metadata": {},
   "outputs": [],
   "source": [
    "df_concat_joined    #joined df with month?"
   ]
  },
  {
   "cell_type": "code",
   "execution_count": null,
   "id": "8406e0d8-4abf-4a40-b16f-d5a897084540",
   "metadata": {},
   "outputs": [],
   "source": [
    "df_concat_joined['year_month'].value_counts()"
   ]
  },
  {
   "cell_type": "code",
   "execution_count": null,
   "id": "b6000b2b-cbbf-466e-ba7e-9924a97505e8",
   "metadata": {},
   "outputs": [],
   "source": [
    "monthly_visits_variation = df_concat_joined.groupby(['Variation', 'year_month']).size().reset_index(name='visit_count')\n",
    "monthly_visits_variation"
   ]
  },
  {
   "cell_type": "code",
   "execution_count": null,
   "id": "ceafb313-3db3-4999-8305-3376e8d0ae0e",
   "metadata": {},
   "outputs": [],
   "source": [
    "control_data = monthly_visits_variation[monthly_visits_variation['Variation'] == 'Control'].set_index('year_month')\n",
    "test_data = monthly_visits_variation[monthly_visits_variation['Variation'] == 'Test'].set_index('year_month')\n",
    "percentage_diff = ((test_data['visit_count'] - control_data['visit_count']) / control_data['visit_count']) * 100\n",
    "percentage_diff #difference in visits between groups"
   ]
  },
  {
   "cell_type": "code",
   "execution_count": null,
   "id": "105edd20-7395-4e78-a4c2-ff0512761271",
   "metadata": {},
   "outputs": [],
   "source": [
    "df_concat_joined"
   ]
  },
  {
   "cell_type": "code",
   "execution_count": null,
   "id": "d6afc298-dce6-4cfc-9259-fa2fe1e4e333",
   "metadata": {
    "scrolled": true
   },
   "outputs": [],
   "source": [
    "# error rate\n",
    "df_concat_joined = df_concat_joined.sort_values(by=['client_id', 'date_time'])\n",
    "df_concat_joined['previous_step'] = df_concat_joined.groupby('client_id')['process_step'].shift(1) #shifts values on cell down \n",
    "df_concat_joined"
   ]
  },
  {
   "cell_type": "code",
   "execution_count": 457,
   "id": "4a573ec3-82e0-4e11-b144-4458ee85a96f",
   "metadata": {},
   "outputs": [],
   "source": [
    "step_mapping = {'start': 0, 'step1': 1, 'step2': 2, 'step3': 3, 'confirm': 4}\n",
    "df_concat_joined['process_step_numeric'] = df_concat_joined['process_step'].map(step_mapping)\n",
    "df_concat_joined = df_concat_joined.sort_values(by=['client_id', 'date_time'])\n",
    "df_concat_joined['previous_step_numeric'] = df_concat_joined.groupby('client_id')['process_step_numeric'].shift(1)\n",
    "df_concat_joined['is_error'] = df_concat_joined['process_step_numeric'] < df_concat_joined['previous_step_numeric']"
   ]
  },
  {
   "cell_type": "code",
   "execution_count": null,
   "id": "c18da42e-80b2-4811-92e4-50a11915b3b4",
   "metadata": {},
   "outputs": [],
   "source": [
    "print(df_concat_joined[['client_id', 'date_time', 'process_step', 'previous_step_numeric', 'is_error']])\n"
   ]
  }
 ],
 "metadata": {
  "kernelspec": {
   "display_name": "base",
   "language": "python",
   "name": "python3"
  },
  "language_info": {
   "codemirror_mode": {
    "name": "ipython",
    "version": 3
   },
   "file_extension": ".py",
   "mimetype": "text/x-python",
   "name": "python",
   "nbconvert_exporter": "python",
   "pygments_lexer": "ipython3",
   "version": "3.12.4"
  }
 },
 "nbformat": 4,
 "nbformat_minor": 5
}

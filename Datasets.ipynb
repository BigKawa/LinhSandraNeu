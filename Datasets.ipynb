{
 "cells": [
  {
   "cell_type": "code",
   "execution_count": 1,
   "id": "56d95cf8-ef13-4fa2-8e47-8dbf15ab5568",
   "metadata": {},
   "outputs": [],
   "source": [
    "import pandas as pd\n",
    "import matplotlib.pyplot as plt\n",
    "import seaborn as sns\n",
    "import numpy as np\n",
    "from functionst import * \n",
    "import numpy as np\n",
    "%matplotlib inline\n",
    "import scipy.stats as st"
   ]
  },
  {
   "cell_type": "code",
   "execution_count": 2,
   "id": "9538a8c1-d1c9-4b4f-af8f-e34b0a1acdff",
   "metadata": {},
   "outputs": [],
   "source": [
    "# Dataset1: Client Profiles: Demographics like age, gender, and account details of our clients.\n",
    "file_path='data/df_final_demo.txt'\n",
    "df_clients = pd.read_csv(file_path, delimiter=',')"
   ]
  },
  {
   "cell_type": "code",
   "execution_count": 3,
   "id": "6e21a8be-b980-4c6e-924b-42475a4c5258",
   "metadata": {},
   "outputs": [],
   "source": [
    "# Dataset2: Digital Footprints pt1 & pt2: \n",
    "# A detailed trace of client interactions online, divided into two parts: pt_1 and pt_2. \n",
    "# It’s recommended to merge these two files prior to a comprehensive data analysis.\n",
    "file_path='data/df_final_web_data_pt_1.txt'\n",
    "df2 = pd.read_csv(file_path, delimiter=',')\n",
    "file_path = \"Data/df_final_web_data_pt_2.txt\"\n",
    "df3 = pd.read_csv(file_path, delimiter=',')\n",
    "df_concat = pd.concat([df2, df3])  # Concatenated "
   ]
  },
  {
   "cell_type": "code",
   "execution_count": 4,
   "id": "14ee977a",
   "metadata": {},
   "outputs": [],
   "source": [
    "#Dataset 3: Experiment Roster: A list revealing which clients were part of the grand experiment.\n",
    "file_path='data/df_final_experiment_clients.txt'\n",
    "df_roster = pd.read_csv(file_path, delimiter=',')"
   ]
  },
  {
   "cell_type": "markdown",
   "id": "4cac4b0e",
   "metadata": {},
   "source": [
    "Cleaning df_Clients"
   ]
  },
  {
   "cell_type": "markdown",
   "id": "9a93571b",
   "metadata": {},
   "source": [
    "Check for Duplicates"
   ]
  },
  {
   "cell_type": "code",
   "execution_count": null,
   "id": "32aec969",
   "metadata": {},
   "outputs": [],
   "source": [
    "df_clients.duplicated().sum() # Check"
   ]
  },
  {
   "cell_type": "code",
   "execution_count": 6,
   "id": "9a6ce5cd",
   "metadata": {},
   "outputs": [],
   "source": [
    "# Rename columns\n",
    "df_clients.rename(columns={\"clnt_tenure_yr\": \"client_tenure_yr\",\n",
    "                           \"clnt_tenure_mnth\":\"client_tenure_mnth\",\n",
    "                           \"clnt_age\":\"client_age\",\n",
    "                           \"gendr\":\"gender\",\n",
    "                           \"bal\":\"balance\"\n",
    "                           }, inplace=True)"
   ]
  },
  {
   "cell_type": "code",
   "execution_count": null,
   "id": "96f45df3",
   "metadata": {},
   "outputs": [],
   "source": [
    "# Checking for NaN Rows\n",
    "nan_rows = df_clients[df_clients.isna().any(axis=1)]\n",
    "# Drop NaN Values with more many NaNs\n",
    "df_clients.dropna(thresh=4,inplace=True)\n",
    "# Fill NaN in client age\n",
    "df_clients[\"client_age\"].fillna(df_clients[\"client_age\"].mean(),inplace=True)\n",
    "\n",
    "# Drop NaN Values with more many NaNs \n",
    "df_clients.dropna(thresh=4,inplace=True)\n",
    "\n",
    "# Fill NaN in client age\n",
    "df_clients[\"client_age\"].fillna(df_clients[\"client_age\"].mean(),inplace=True)\n",
    "\n",
    "# Filled the Client tenure yr with NaN when Client age < then tenure\n",
    "df_clients.loc[df_clients[\"client_tenure_yr\"] > df_clients[\"client_age\"], \"client_tenure_yr\"] = np.nan"
   ]
  },
  {
   "cell_type": "code",
   "execution_count": 8,
   "id": "33b339b5",
   "metadata": {},
   "outputs": [],
   "source": [
    "# Defining age Group and Assigning to client Data\n",
    "\n",
    "df_clients[\"client_age_group\"] = df_clients[\"client_age\"].apply(age_group) # Age group aus Functions"
   ]
  },
  {
   "cell_type": "markdown",
   "id": "552f444f",
   "metadata": {},
   "source": [
    "Clean df_concat"
   ]
  },
  {
   "cell_type": "code",
   "execution_count": 9,
   "id": "0b856b15",
   "metadata": {},
   "outputs": [],
   "source": [
    "# Transformed DATETIME\n",
    "df_concat[\"date_time\"] = pd.to_datetime(df_concat[\"date_time\"])"
   ]
  },
  {
   "cell_type": "code",
   "execution_count": null,
   "id": "aa5746db",
   "metadata": {},
   "outputs": [],
   "source": [
    "df_concat.duplicated().sum()"
   ]
  },
  {
   "cell_type": "markdown",
   "id": "ebdcb0f6",
   "metadata": {},
   "source": [
    "Joined Clients and Joined DC_Concat with Roster"
   ]
  },
  {
   "cell_type": "code",
   "execution_count": 11,
   "id": "9ade2cd9",
   "metadata": {},
   "outputs": [],
   "source": [
    "# Joined Clients with the Roster an dropped the NaN Values\n",
    "df_client_joined = pd.merge(df_clients,df_roster, how=\"left\", on=\"client_id\")"
   ]
  },
  {
   "cell_type": "code",
   "execution_count": 12,
   "id": "721b6388",
   "metadata": {},
   "outputs": [],
   "source": [
    "# Joined DF Concat with the Roster and dropped the duplicates\n",
    "df_concat_joined = pd.merge(df_concat,df_roster, on=\"client_id\", how=\"left\")\n",
    "df_concat_joined.dropna(subset=\"Variation\",inplace=True)\n",
    "df_concat_joined.drop_duplicates(inplace=True)\n",
    "df_concat_joined['year_month'] = df_concat_joined['date_time'].dt.to_period('M') # Added year\n"
   ]
  },
  {
   "cell_type": "markdown",
   "id": "6f74e5d4",
   "metadata": {},
   "source": [
    "Who are the clients"
   ]
  },
  {
   "cell_type": "code",
   "execution_count": null,
   "id": "aa5852cd",
   "metadata": {},
   "outputs": [],
   "source": [
    "# Who are the clients? By Age\n",
    "most_clients = df_clients.groupby(\"client_age_group\")[\"logons_6_mnth\"].sum().sort_values( ascending=False)\n",
    "most_clients"
   ]
  },
  {
   "cell_type": "code",
   "execution_count": null,
   "id": "c05209a5",
   "metadata": {},
   "outputs": [],
   "source": [
    "# Checking \n",
    "sns.barplot(data= most_clients)\n",
    "plt.title(\"age groups by age\")\n",
    "plt.xlabel(\"age groups\")\n",
    "plt.ylabel(\"logins last 6 month\")"
   ]
  },
  {
   "cell_type": "code",
   "execution_count": 15,
   "id": "ae96a508",
   "metadata": {},
   "outputs": [],
   "source": [
    "# Who are the clients by tenure"
   ]
  },
  {
   "cell_type": "markdown",
   "id": "106cedcf",
   "metadata": {},
   "source": [
    "Sorting df_concat and trying to calculate time of steps"
   ]
  },
  {
   "cell_type": "code",
   "execution_count": 16,
   "id": "8a53378d",
   "metadata": {},
   "outputs": [],
   "source": [
    "# Joined Clients with the Roster an dropped the NaN Values\n",
    "df_client_joined = pd.merge(df_clients,df_roster, how=\"left\", on=\"client_id\")\n",
    "df_client_joined_cleaned = df_client_joined.dropna()"
   ]
  },
  {
   "cell_type": "code",
   "execution_count": 17,
   "id": "106cedcf",
   "metadata": {},
   "outputs": [],
   "source": [
    "# Df_concat Sorted and time_diff_in minutes\n",
    "\n",
    "# With this we are able to analyze\n",
    "df_concat_joined_sorted = df_concat_joined.sort_values(by=['client_id', 'visit_id', 'date_time'])\n",
    "df_concat_joined_sorted['time_diff_in_minutes'] = df_concat_joined_sorted.groupby(['client_id', 'visit_id'])['date_time'].diff().dt.total_seconds() / 60"
   ]
  },
  {
   "cell_type": "code",
   "execution_count": null,
   "id": "641c3618",
   "metadata": {},
   "outputs": [],
   "source": [
    "df_concat_joined_sorted.groupby(['client_id', 'visit_id'])['date_time'].diff().dt.total_seconds() / 60"
   ]
  },
  {
   "cell_type": "markdown",
   "id": "d7d79e7f",
   "metadata": {},
   "source": [
    "COMPLETION RATE"
   ]
  },
  {
   "cell_type": "code",
   "execution_count": null,
   "id": "238fd540-099e-46c3-8caf-58542be3185e",
   "metadata": {},
   "outputs": [],
   "source": [
    "# How many reached\n",
    "df_concat_joined_sorted[\"process_step\"].value_counts()"
   ]
  },
  {
   "cell_type": "markdown",
   "id": "c3f605b1-655d-45e2-ba78-42884fc1015b",
   "metadata": {},
   "source": [
    "## 1.KPI: USER EXPERIENCE"
   ]
  },
  {
   "cell_type": "markdown",
   "id": "aab45613",
   "metadata": {},
   "source": [
    "# Calls"
   ]
  },
  {
   "cell_type": "code",
   "execution_count": 20,
   "id": "4168dc4e-bf88-471c-bd6e-d2d91005edb6",
   "metadata": {},
   "outputs": [],
   "source": [
    "# HYPOTHESESTEST: Two Sample T-test\n",
    "# HO no difference in number of calls between Test & Control\n",
    "# H1 there is difference between number of calls between Test & Control \n"
   ]
  },
  {
   "cell_type": "code",
   "execution_count": 21,
   "id": "f6541290",
   "metadata": {},
   "outputs": [],
   "source": [
    "# Calculating Statistical Stuff Calls last 6 Month \n",
    "\n",
    "test = df_client_joined_cleaned[df_client_joined_cleaned[\"Variation\"]==\"Test\"][\"calls_6_mnth\"]\n",
    "control= df_client_joined_cleaned[df_client_joined_cleaned[\"Variation\"]==\"Control\"][\"calls_6_mnth\"]\n",
    "\n",
    "M1 = test.mean()\n",
    "M2 = control.mean()\n",
    "SD1 = test.std(ddof=1)\n",
    "SD2 = control.std(ddof=1)\n",
    "n1 = len(test)\n",
    "n2 = len(control)"
   ]
  },
  {
   "cell_type": "code",
   "execution_count": null,
   "id": "b8a2be14-5e78-42ab-baed-9c5e4434df70",
   "metadata": {},
   "outputs": [],
   "source": [
    "st.ttest_ind(test,control, equal_var=False)"
   ]
  },
  {
   "cell_type": "code",
   "execution_count": null,
   "id": "0795717a-0b48-420b-8ec1-bc8052938db3",
   "metadata": {},
   "outputs": [],
   "source": [
    "SD_pooled = np.sqrt(((n1 - 1) * SD1**2 + (n2 - 1) * SD2**2) / (n1 + n2 - 2))\n",
    "cohens_d = (M1 - M2) / SD_pooled\n",
    "cohens_d"
   ]
  },
  {
   "cell_type": "markdown",
   "id": "501441b7-a354-41df-b794-5e6342cf423e",
   "metadata": {},
   "source": [
    "Statement: \n",
    "p-value < 0.05: assuming there is no difference it is not likely to see no difference in sample: reject null hypotheses.\n",
    "effectsize: -0.02 very small, not relevant"
   ]
  },
  {
   "cell_type": "markdown",
   "id": "b1c7f618",
   "metadata": {},
   "source": [
    "# Logins"
   ]
  },
  {
   "cell_type": "code",
   "execution_count": 24,
   "id": "ff6c088e",
   "metadata": {},
   "outputs": [],
   "source": [
    "# HYPOTHESESTEST\n",
    "# HO no difference in number of logins between Test & Control\n",
    "# H1 there is difference between number of logins between Test & Control "
   ]
  },
  {
   "cell_type": "code",
   "execution_count": null,
   "id": "71cd86f5-c547-4100-9914-6a6f415b0791",
   "metadata": {},
   "outputs": [],
   "source": [
    "df_Test_log = df_client_joined_cleaned[df_client_joined_cleaned[\"Variation\"]==\"Test\"][\"logons_6_mnth\"]\n",
    "df_Control_log= df_client_joined_cleaned[df_client_joined_cleaned[\"Variation\"]==\"Control\"][\"logons_6_mnth\"]\n",
    "st.ttest_ind(df_Test_log,df_Control_log, equal_var=False)"
   ]
  },
  {
   "cell_type": "code",
   "execution_count": 26,
   "id": "4c130488-33d5-40a2-8358-71dd84284acd",
   "metadata": {},
   "outputs": [],
   "source": [
    "test_log= df_client_joined_cleaned[df_client_joined_cleaned['Variation']=='Test']['logons_6_mnth']\n",
    "control_log= df_client_joined_cleaned[df_client_joined_cleaned['Variation']=='Control']['logons_6_mnth']\n",
    "\n",
    "M1_log = test_log.mean() \n",
    "M2_log = control_log.mean()  \n",
    "SD1_log = test_log.std(ddof=1) \n",
    "SD2_log = control_log.std(ddof=1)  \n",
    "n1_log = len(test_log) \n",
    "n2_log = len(control_log)  "
   ]
  },
  {
   "cell_type": "code",
   "execution_count": null,
   "id": "e634b11e-35f3-472e-b9bc-766a80e60404",
   "metadata": {},
   "outputs": [],
   "source": [
    "SD_pooled = np.sqrt(((n1_log - 1) * SD1_log**2 + (n2_log - 1) * SD2_log**2) / (n1_log + n2_log - 2))  #cohens d\n",
    "cohens_d = (M1_log - M2_log) / SD_pooled\n",
    "cohens_d"
   ]
  },
  {
   "cell_type": "markdown",
   "id": "202f0dc9-6e2c-423e-8881-b08b364ad7fb",
   "metadata": {},
   "source": [
    "Statement: \n",
    "p-values: < 0.05 : there is a difference\n",
    "effectsize: -0.02: very small, not relevant"
   ]
  },
  {
   "cell_type": "markdown",
   "id": "a2ed5cc8-39c0-403d-9457-18b0406ec013",
   "metadata": {},
   "source": [
    "# Number of Accounts"
   ]
  },
  {
   "cell_type": "code",
   "execution_count": 28,
   "id": "481719c1-82d3-4b87-b99e-30707f85e2da",
   "metadata": {},
   "outputs": [],
   "source": [
    "# H0: there is no significance difference in number of accounts\n",
    "# H1: there is a significance difference in number of accounts"
   ]
  },
  {
   "cell_type": "code",
   "execution_count": null,
   "id": "051d31d2-68ad-41a4-96da-f19004ce43a0",
   "metadata": {},
   "outputs": [],
   "source": [
    "df_Test_acc = df_client_joined_cleaned[df_client_joined_cleaned[\"Variation\"]==\"Test\"][\"num_accts\"]\n",
    "df_Control_acc= df_client_joined_cleaned[df_client_joined_cleaned[\"Variation\"]==\"Control\"][\"num_accts\"]\n",
    "st.ttest_ind(df_Test_acc,df_Control_acc, equal_var=False)"
   ]
  },
  {
   "cell_type": "code",
   "execution_count": 30,
   "id": "4d641561-4f76-403c-8395-bb95061227fd",
   "metadata": {},
   "outputs": [],
   "source": [
    "# effectsize:\n",
    "control_acc= df_client_joined_cleaned[df_client_joined_cleaned['Variation']=='Control'][\"num_accts\"]\n",
    "test_acc= df_client_joined_cleaned[df_client_joined_cleaned['Variation']=='Test'][\"num_accts\"]\n",
    "\n",
    "M1_acc = test_acc.mean() \n",
    "M2_acc = control_acc.mean()  \n",
    "SD1_acc = test_acc.std(ddof=1) \n",
    "SD2_acc = control_acc.std(ddof=1)  \n",
    "n1_acc = len(test_acc) \n",
    "n2_acc = len(control_acc)  "
   ]
  },
  {
   "cell_type": "code",
   "execution_count": 31,
   "id": "b8602d1a-299a-4afd-99ba-b3908f836102",
   "metadata": {},
   "outputs": [],
   "source": [
    "# p-value (slightly) < 0.05: reject H0\n",
    "# effectsize: -0.018 : not relevant "
   ]
  },
  {
   "cell_type": "markdown",
   "id": "f1abf3ed-924f-4406-bf3a-8dd149a67f7e",
   "metadata": {},
   "source": [
    "# Balance of Accounts"
   ]
  },
  {
   "cell_type": "code",
   "execution_count": 32,
   "id": "e79145b5",
   "metadata": {},
   "outputs": [],
   "source": [
    "# KPI balance \n",
    "# H0: no significance difference in account balance\n",
    "# H0: no significance difference in account balance\n",
    "# H1: there is a difference in account balance     \n",
    "# -> p-value > 0.05: don't reject HO! "
   ]
  },
  {
   "cell_type": "code",
   "execution_count": null,
   "id": "5263233c-1c4e-453f-84f7-35fc22f7ce0b",
   "metadata": {},
   "outputs": [],
   "source": [
    "df_Test_bal = df_client_joined_cleaned[df_client_joined_cleaned[\"Variation\"]==\"Test\"][\"balance\"]\n",
    "df_Control_bal= df_client_joined_cleaned[df_client_joined_cleaned[\"Variation\"]==\"Control\"][\"balance\"]\n",
    "st.ttest_ind(df_Test_bal,df_Control_bal, equal_var=True)"
   ]
  },
  {
   "cell_type": "code",
   "execution_count": null,
   "id": "100b3e6d-fff7-43d7-97dc-354cd15f34c1",
   "metadata": {},
   "outputs": [],
   "source": [
    "SD_pooled = np.sqrt(((n1_acc - 1) * SD1_acc**2 + (n2_acc - 1) * SD2_acc**2) / (n1_acc + n2_acc - 2))\n",
    "cohens_d = (M1_acc - M2_acc) / SD_pooled\n",
    "cohens_d"
   ]
  },
  {
   "cell_type": "markdown",
   "id": "cdba6164",
   "metadata": {},
   "source": [
    "## Performance Metrics\n"
   ]
  },
  {
   "cell_type": "code",
   "execution_count": 35,
   "id": "b742efaf",
   "metadata": {},
   "outputs": [],
   "source": [
    "# Adding a column for every visit which led to finished and go through all 4 steps\n",
    "finished_list = filter_complete_visit(df_concat_joined_sorted)\n",
    "df_concat_joined_sorted[\"finished\"] = df_concat_joined_sorted[\"visit_id\"].apply(lambda x:\"yes\" if x in finished_list else \"no\" )\n",
    "\n",
    "completion_rate_test = df_concat_joined_sorted[(df_concat_joined_sorted[\"finished\"] == \"yes\") & (df_concat_joined_sorted[\"Variation\"] == \"Test\")][\"visit_id\"].nunique()/df_concat_joined_sorted[df_concat_joined_sorted[\"Variation\"]==\"Test\"][\"visit_id\"].nunique()\n",
    "\n",
    "completion_rate_control = df_concat_joined_sorted[(df_concat_joined_sorted[\"finished\"] == \"yes\") & (df_concat_joined_sorted[\"Variation\"] == \"Control\")][\"visit_id\"].nunique()/df_concat_joined_sorted[df_concat_joined_sorted[\"Variation\"]==\"Control\"][\"visit_id\"].nunique()\n",
    "\n",
    "all_completion_rate = df_concat_joined_sorted[df_concat_joined_sorted[\"finished\"] == \"yes\"][\"visit_id\"].nunique()/df_concat_joined_sorted[\"visit_id\"].nunique()\n"
   ]
  },
  {
   "cell_type": "code",
   "execution_count": null,
   "id": "3a0055a3",
   "metadata": {},
   "outputs": [],
   "source": [
    "print(F\"Completion Rate Control = {completion_rate_control*100} %\")\n",
    "print(F\"Completion Rate Test = {completion_rate_test*100} %\")\n",
    "print(F\"Completion Rate All = {all_completion_rate*100} %\")"
   ]
  },
  {
   "cell_type": "code",
   "execution_count": 37,
   "id": "973f5e26",
   "metadata": {},
   "outputs": [],
   "source": [
    "# Add client age group\n",
    "df_concat_joined_sorted = pd.merge(df_concat_joined_sorted,df_client_joined_cleaned[[\"client_id\",\"client_age_group\"]], on=\"client_id\", how=\"left\")"
   ]
  },
  {
   "cell_type": "code",
   "execution_count": 38,
   "id": "f31d78bf",
   "metadata": {},
   "outputs": [],
   "source": [
    "# Creating a small Digital Footprint frame\n",
    "df_small = df_concat_joined_sorted[[\"visit_id\",\"finished\",\"Variation\",\"client_age_group\"]].drop_duplicates(subset=\"visit_id\")"
   ]
  },
  {
   "cell_type": "code",
   "execution_count": null,
   "id": "b9353a9f",
   "metadata": {},
   "outputs": [],
   "source": [
    "# Creating a crosstab for digital Footprint\n",
    "\n",
    "df_small_crosstab = pd.crosstab(df_small[\"Variation\"], df_small[\"finished\"])\n",
    "df_small_crosstab"
   ]
  },
  {
   "cell_type": "code",
   "execution_count": null,
   "id": "b131f579",
   "metadata": {},
   "outputs": [],
   "source": [
    "# Test for the dependency\n",
    "\n",
    "#*determine whether there is a significant association between two categorical variables**. \n",
    "\n",
    "# H0 there is independence\n",
    "# H1 there is dependance\n",
    "\n",
    "chi2_statistic, chi2_pvalue,_,_= st.chi2_contingency(df_small_crosstab)\n",
    "chi2_statistic,chi2_pvalue"
   ]
  },
  {
   "cell_type": "code",
   "execution_count": null,
   "id": "f9dea377",
   "metadata": {},
   "outputs": [],
   "source": [
    "# Testing the how strong the dependancy effect\n",
    "st.contingency.association(df_small_crosstab, method=\"cramer\")"
   ]
  },
  {
   "cell_type": "markdown",
   "id": "b29de115",
   "metadata": {},
   "source": [
    "First Statement: Test Completion is higher. The difference is according to our Analysis statistically significant giving us a p_value < 0.05 + a \"Cramers_V\" of 0.02 between 0-1\n"
   ]
  },
  {
   "cell_type": "markdown",
   "id": "738285f6",
   "metadata": {},
   "source": [
    "ERROR RATE based on Variation"
   ]
  },
  {
   "cell_type": "code",
   "execution_count": 42,
   "id": "d6afc298-dce6-4cfc-9259-fa2fe1e4e333",
   "metadata": {
    "scrolled": true
   },
   "outputs": [],
   "source": [
    "# error rate\n",
    "df_concat_joined = df_concat_joined.sort_values(by=['visit_id', 'date_time'])\n",
    "df_concat_joined['previous_step'] = df_concat_joined.groupby('visit_id')['process_step'].shift(1) #shifts values on cell down "
   ]
  },
  {
   "cell_type": "code",
   "execution_count": 43,
   "id": "4a573ec3-82e0-4e11-b144-4458ee85a96f",
   "metadata": {},
   "outputs": [],
   "source": [
    "\n",
    "# Mapping and also calculating the error rate\n",
    "\n",
    "step_mapping = {'start': 0, 'step_1': 1, 'step_2': 2, 'step_3': 3, 'confirm': 4}\n",
    "df_concat_joined_sorted['process_step_numeric'] = df_concat_joined_sorted['process_step'].map(step_mapping)\n",
    "df_concat_joined_sorted = df_concat_joined_sorted.sort_values(by=['visit_id', 'date_time'])\n",
    "df_concat_joined_sorted['previous_step_numeric'] = df_concat_joined_sorted.groupby('visit_id')['process_step_numeric'].shift(1)\n",
    "df_concat_joined_sorted['is_error'] = df_concat_joined_sorted['process_step_numeric'] < df_concat_joined_sorted['previous_step_numeric']"
   ]
  },
  {
   "cell_type": "code",
   "execution_count": null,
   "id": "8ced549e",
   "metadata": {},
   "outputs": [],
   "source": [
    "# calculating overall error rate per step\n",
    "total_errors = df_concat_joined_sorted[df_concat_joined_sorted['is_error']==True].shape[0]\n",
    "total_steps = df_concat_joined_sorted['process_step'].count()\n",
    "overall_error_rate = total_errors / total_steps\n",
    "overall_error_rate"
   ]
  },
  {
   "cell_type": "code",
   "execution_count": null,
   "id": "fbad6779",
   "metadata": {},
   "outputs": [],
   "source": [
    "## NEW\n",
    "# overall erro rate per visit_id: 24% \n",
    "df_concat_joined_sorted[df_concat_joined_sorted[\"is_error\"]==True].drop_duplicates(subset= \"visit_id\").count()/ df_concat_joined_sorted.drop_duplicates(subset= \"visit_id\").count()"
   ]
  },
  {
   "cell_type": "code",
   "execution_count": null,
   "id": "d1440c10",
   "metadata": {},
   "outputs": [],
   "source": [
    "## NEW\n",
    "# calculating control error rate per step Control\n",
    "total_errors_control = df_concat_joined_sorted[(df_concat_joined_sorted['Variation'] == 'Control') & (df_concat_joined_sorted['is_error'] == True)].shape[0]\n",
    "total_steps_control = df_concat_joined_sorted[df_concat_joined_sorted['Variation'] == 'Control']['process_step'].count()\n",
    "overall_error_rate_control = total_errors_control / total_steps_control\n",
    "overall_error_rate_control"
   ]
  },
  {
   "cell_type": "code",
   "execution_count": null,
   "id": "5e0f4ad3",
   "metadata": {},
   "outputs": [],
   "source": [
    "## NEW\n",
    "# Calculate error rate per visit Control\n",
    "total_errors_control_id = df_concat_joined_sorted[\n",
    "    (df_concat_joined_sorted['Variation'] == 'Control') & \n",
    "    (df_concat_joined_sorted['is_error'] == True)\n",
    "].drop_duplicates(subset=\"visit_id\").shape[0]  # Get the count of unique visits with errors\n",
    "\n",
    "total_visits_control_id = df_concat_joined_sorted[\n",
    "    df_concat_joined_sorted['Variation'] == 'Control'\n",
    "].drop_duplicates(subset=\"visit_id\").shape[0]  # Get the count of unique visits\n",
    "\n",
    "result = total_errors_control_id / total_visits_control_id\n",
    "result"
   ]
  },
  {
   "cell_type": "code",
   "execution_count": null,
   "id": "8a15242c",
   "metadata": {},
   "outputs": [],
   "source": [
    "## NEW\n",
    "# calculating test error rate per step Test \n",
    "total_errors_test = df_concat_joined_sorted[(df_concat_joined_sorted['Variation'] == 'Test') & (df_concat_joined_sorted['is_error'] == True)].shape[0]\n",
    "total_steps_test = df_concat_joined_sorted[df_concat_joined_sorted['Variation'] == 'Test']['process_step'].count()\n",
    "overall_error_rate_test = total_errors_test / total_steps_test\n",
    "overall_error_rate_test"
   ]
  },
  {
   "cell_type": "code",
   "execution_count": null,
   "id": "6f998296",
   "metadata": {},
   "outputs": [],
   "source": [
    "## NEW\n",
    "# Calculate error rate per visit id Test\n",
    "total_errors_test_id = df_concat_joined_sorted[\n",
    "    (df_concat_joined_sorted['Variation'] == 'Test') & \n",
    "    (df_concat_joined_sorted['is_error'] == True)\n",
    "].drop_duplicates(subset=\"visit_id\").shape[0]  # Get the count of unique visits with errors\n",
    "\n",
    "total_visits_test_id = df_concat_joined_sorted[\n",
    "    df_concat_joined_sorted['Variation'] == 'Test'\n",
    "].drop_duplicates(subset=\"visit_id\").shape[0]  # Get the count of unique visits\n",
    "\n",
    "result = total_errors_test_id / total_visits_test_id\n",
    "result"
   ]
  },
  {
   "cell_type": "code",
   "execution_count": null,
   "id": "4cbc7cdc",
   "metadata": {},
   "outputs": [],
   "source": [
    "#NEW\n",
    "# crosstab error per visit \n",
    "data = {\n",
    "    'Error': [total_errors_control_id, total_errors_test_id],\n",
    "    'No Error': [\n",
    "        total_visits_control_id - total_errors_control_id,\n",
    "        total_visits_test_id - total_errors_test_id\n",
    "    ]\n",
    "}\n",
    "\n",
    "# Create a DataFrame\n",
    "error_counts_df = pd.DataFrame(data, index=['Control', 'Test'])\n",
    "\n",
    "# Create the crosstab\n",
    "crosstab = error_counts_df.  \n",
    "\n",
    "# Perform Chi-squared test\n",
    "chi2_statistic, chi2_p_value, _, _ = chi2_contingency(crosstab)\n",
    "\n",
    "# Output the crosstab and p-value\n",
    "print(\"Crosstab:\\n\", crosstab)\n",
    "print(\"P-value:\", p_value)"
   ]
  },
  {
   "cell_type": "code",
   "execution_count": null,
   "id": "195eb8ca",
   "metadata": {},
   "outputs": [],
   "source": [
    "## NEW\n",
    "# error per visit effectsize \n",
    "from scipy.stats.contingency import association\n",
    "association(crosstab, method=\"cramer\")"
   ]
  },
  {
   "cell_type": "code",
   "execution_count": null,
   "id": "a0f5b21a",
   "metadata": {},
   "outputs": [],
   "source": [
    "# crosstab per step\n",
    "df_concat_joined_sorted['is_error'] = df_concat_joined_sorted['is_error'].replace({True: 'Yes', False: 'No'})\n",
    "crosstab_result = pd.crosstab(df_concat_joined_sorted['Variation'], df_concat_joined_sorted['is_error'])\n",
    "crosstab_result"
   ]
  },
  {
   "cell_type": "code",
   "execution_count": null,
   "id": "318c3fea",
   "metadata": {},
   "outputs": [],
   "source": [
    "# chi2\n",
    "from scipy.stats import chi2_contingency\n",
    "chi2_statistic, chi2_p_value, _, _ = chi2_contingency(crosstab_result)\n",
    "chi2_statistic, chi2_p_value"
   ]
  },
  {
   "cell_type": "code",
   "execution_count": null,
   "id": "c9ac5f97",
   "metadata": {},
   "outputs": [],
   "source": [
    "# cramer's v \n",
    "from scipy.stats.contingency import association\n",
    "association(crosstab_result, method=\"cramer\")"
   ]
  },
  {
   "cell_type": "markdown",
   "id": "b0072610",
   "metadata": {},
   "source": [
    "TIME STEPS"
   ]
  },
  {
   "cell_type": "code",
   "execution_count": 50,
   "id": "a60c9176",
   "metadata": {},
   "outputs": [],
   "source": [
    "# Creating TEST AND CONTROL CONCAT\n",
    "df_concat_test_final = df_concat_joined_sorted[df_concat_joined_sorted[\"Variation\"] == \"Test\"]\n",
    "df_concat_control_final = df_concat_joined_sorted[df_concat_joined_sorted[\"Variation\"] == \"Control\"]"
   ]
  },
  {
   "cell_type": "code",
   "execution_count": null,
   "id": "282bdc72",
   "metadata": {},
   "outputs": [],
   "source": [
    "df_concat_test_final.groupby(\"process_step\")[\"time_diff_in_minutes\"].mean()"
   ]
  },
  {
   "cell_type": "code",
   "execution_count": null,
   "id": "0c70ae8d",
   "metadata": {},
   "outputs": [],
   "source": [
    "df_concat_control_final.groupby(\"process_step\")[\"time_diff_in_minutes\"].mean()"
   ]
  },
  {
   "cell_type": "markdown",
   "id": "8f3a134d",
   "metadata": {},
   "source": [
    "## Additional Metrics\n",
    "\n",
    "CHECK FOR COMPLETION AND AGE"
   ]
  },
  {
   "cell_type": "code",
   "execution_count": null,
   "id": "8b3589cd",
   "metadata": {},
   "outputs": [],
   "source": [
    "# Creating a crosstab for digital Footprint for CONTROL\n",
    "\n",
    "crosstab_result_control_age = pd.crosstab(df_small[df_small[\"Variation\"] == \"Control\"][\"client_age_group\"], df_small[df_small[\"Variation\"] == \"Control\"][\"finished\"])\n",
    "print(crosstab_result_control_age)\n",
    "# Chi Test\n",
    "chi2_statistic, chi2_pvalue,_,_= st.chi2_contingency(crosstab_result_control_age)\n",
    "print(F\"Values P Test {chi2_statistic},{chi2_pvalue}\")\n",
    "\n",
    "# Testing the how strong the dependancy effect\n",
    "st.contingency.association(crosstab_result_control_age, method=\"cramer\")"
   ]
  },
  {
   "cell_type": "code",
   "execution_count": null,
   "id": "7f71c2a3",
   "metadata": {},
   "outputs": [],
   "source": [
    "# Creating a crosstab for digital Footprint for TEST\n",
    "\n",
    "crosstab_result_test_age = pd.crosstab(df_small[df_small[\"Variation\"] == \"Test\"][\"client_age_group\"], df_small[df_small[\"Variation\"] == \"Test\"][\"finished\"])\n",
    "print(crosstab_result_test_age)\n",
    "# Chi Test\n",
    "chi2_statistic, chi2_pvalue,_,_= st.chi2_contingency(crosstab_result_test_age)\n",
    "print(F\"Values P Test {chi2_statistic},{chi2_pvalue}\")\n",
    "\n",
    "# Testing the how strong the dependancy effect\n",
    "st.contingency.association(crosstab_result_test_age, method=\"cramer\")"
   ]
  },
  {
   "cell_type": "code",
   "execution_count": 55,
   "id": "ea061888",
   "metadata": {},
   "outputs": [],
   "source": [
    "# Creating csv files\n",
    "df_concat_joined_sorted.to_csv(\"concat_joined.csv\")\n",
    "df_client_joined_cleaned.to_csv(\"clientinfo.csv\")"
   ]
  }
 ],
 "metadata": {
  "kernelspec": {
   "display_name": "base",
   "language": "python",
   "name": "python3"
  },
  "language_info": {
   "codemirror_mode": {
    "name": "ipython",
    "version": 3
   },
   "file_extension": ".py",
   "mimetype": "text/x-python",
   "name": "python",
   "nbconvert_exporter": "python",
   "pygments_lexer": "ipython3",
   "version": "3.12.4"
  }
 },
 "nbformat": 4,
 "nbformat_minor": 5
}

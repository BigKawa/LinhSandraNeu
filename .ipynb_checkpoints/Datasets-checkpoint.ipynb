{
 "cells": [
  {
   "cell_type": "code",
   "execution_count": 151,
   "id": "56d95cf8-ef13-4fa2-8e47-8dbf15ab5568",
   "metadata": {},
   "outputs": [],
   "source": [
    "import pandas as pd\n",
    "import matplotlib.pyplot as plt\n",
    "import seaborn as sns\n",
    "import numpy as np\n",
    "from functionst import * \n",
    "%matplotlib inline"
   ]
  },
  {
   "cell_type": "code",
   "execution_count": 152,
   "id": "9538a8c1-d1c9-4b4f-af8f-e34b0a1acdff",
   "metadata": {},
   "outputs": [],
   "source": [
    "# Dataset1: Client Profiles: Demographics like age, gender, and account details of our clients."
   ]
  },
  {
   "cell_type": "code",
   "execution_count": 153,
   "id": "e855ea0f-25f0-402b-9696-bacabf5c69c9",
   "metadata": {},
   "outputs": [
    {
     "data": {
      "text/html": [
       "<div>\n",
       "<style scoped>\n",
       "    .dataframe tbody tr th:only-of-type {\n",
       "        vertical-align: middle;\n",
       "    }\n",
       "\n",
       "    .dataframe tbody tr th {\n",
       "        vertical-align: top;\n",
       "    }\n",
       "\n",
       "    .dataframe thead th {\n",
       "        text-align: right;\n",
       "    }\n",
       "</style>\n",
       "<table border=\"1\" class=\"dataframe\">\n",
       "  <thead>\n",
       "    <tr style=\"text-align: right;\">\n",
       "      <th></th>\n",
       "      <th>client_id</th>\n",
       "      <th>clnt_tenure_yr</th>\n",
       "      <th>clnt_tenure_mnth</th>\n",
       "      <th>clnt_age</th>\n",
       "      <th>gendr</th>\n",
       "      <th>num_accts</th>\n",
       "      <th>bal</th>\n",
       "      <th>calls_6_mnth</th>\n",
       "      <th>logons_6_mnth</th>\n",
       "    </tr>\n",
       "  </thead>\n",
       "  <tbody>\n",
       "    <tr>\n",
       "      <th>0</th>\n",
       "      <td>836976</td>\n",
       "      <td>6.0</td>\n",
       "      <td>73.0</td>\n",
       "      <td>60.5</td>\n",
       "      <td>U</td>\n",
       "      <td>2.0</td>\n",
       "      <td>45105.30</td>\n",
       "      <td>6.0</td>\n",
       "      <td>9.0</td>\n",
       "    </tr>\n",
       "    <tr>\n",
       "      <th>1</th>\n",
       "      <td>2304905</td>\n",
       "      <td>7.0</td>\n",
       "      <td>94.0</td>\n",
       "      <td>58.0</td>\n",
       "      <td>U</td>\n",
       "      <td>2.0</td>\n",
       "      <td>110860.30</td>\n",
       "      <td>6.0</td>\n",
       "      <td>9.0</td>\n",
       "    </tr>\n",
       "    <tr>\n",
       "      <th>2</th>\n",
       "      <td>1439522</td>\n",
       "      <td>5.0</td>\n",
       "      <td>64.0</td>\n",
       "      <td>32.0</td>\n",
       "      <td>U</td>\n",
       "      <td>2.0</td>\n",
       "      <td>52467.79</td>\n",
       "      <td>6.0</td>\n",
       "      <td>9.0</td>\n",
       "    </tr>\n",
       "    <tr>\n",
       "      <th>3</th>\n",
       "      <td>1562045</td>\n",
       "      <td>16.0</td>\n",
       "      <td>198.0</td>\n",
       "      <td>49.0</td>\n",
       "      <td>M</td>\n",
       "      <td>2.0</td>\n",
       "      <td>67454.65</td>\n",
       "      <td>3.0</td>\n",
       "      <td>6.0</td>\n",
       "    </tr>\n",
       "    <tr>\n",
       "      <th>4</th>\n",
       "      <td>5126305</td>\n",
       "      <td>12.0</td>\n",
       "      <td>145.0</td>\n",
       "      <td>33.0</td>\n",
       "      <td>F</td>\n",
       "      <td>2.0</td>\n",
       "      <td>103671.75</td>\n",
       "      <td>0.0</td>\n",
       "      <td>3.0</td>\n",
       "    </tr>\n",
       "  </tbody>\n",
       "</table>\n",
       "</div>"
      ],
      "text/plain": [
       "   client_id  clnt_tenure_yr  clnt_tenure_mnth  clnt_age gendr  num_accts  \\\n",
       "0     836976             6.0              73.0      60.5     U        2.0   \n",
       "1    2304905             7.0              94.0      58.0     U        2.0   \n",
       "2    1439522             5.0              64.0      32.0     U        2.0   \n",
       "3    1562045            16.0             198.0      49.0     M        2.0   \n",
       "4    5126305            12.0             145.0      33.0     F        2.0   \n",
       "\n",
       "         bal  calls_6_mnth  logons_6_mnth  \n",
       "0   45105.30           6.0            9.0  \n",
       "1  110860.30           6.0            9.0  \n",
       "2   52467.79           6.0            9.0  \n",
       "3   67454.65           3.0            6.0  \n",
       "4  103671.75           0.0            3.0  "
      ]
     },
     "execution_count": 153,
     "metadata": {},
     "output_type": "execute_result"
    }
   ],
   "source": [
    "file_path='data/df_final_demo.txt'\n",
    "\n",
    "df_clients = pd.read_csv(file_path, delimiter=',')\n",
    "df_clients.head()"
   ]
  },
  {
   "cell_type": "code",
   "execution_count": 154,
   "id": "6e21a8be-b980-4c6e-924b-42475a4c5258",
   "metadata": {},
   "outputs": [],
   "source": [
    "# Dataset2: Digital Footprints pt1 & pt2: \n",
    "# A detailed trace of client interactions online, divided into two parts: pt_1 and pt_2. \n",
    "# It’s recommended to merge these two files prior to a comprehensive data analysis.\n",
    "file_path='data/df_final_web_data_pt_1.txt'\n",
    "df2 = pd.read_csv(file_path, delimiter=',')\n",
    "file_path = \"Data/df_final_web_data_pt_1.txt\"\n",
    "df3 = pd.read_csv(file_path, delimiter=',')\n",
    "df_concat = pd.concat([df2, df3])  # Concatenated "
   ]
  },
  {
   "cell_type": "code",
   "execution_count": 155,
   "id": "14ee977a",
   "metadata": {},
   "outputs": [
    {
     "data": {
      "text/html": [
       "<div>\n",
       "<style scoped>\n",
       "    .dataframe tbody tr th:only-of-type {\n",
       "        vertical-align: middle;\n",
       "    }\n",
       "\n",
       "    .dataframe tbody tr th {\n",
       "        vertical-align: top;\n",
       "    }\n",
       "\n",
       "    .dataframe thead th {\n",
       "        text-align: right;\n",
       "    }\n",
       "</style>\n",
       "<table border=\"1\" class=\"dataframe\">\n",
       "  <thead>\n",
       "    <tr style=\"text-align: right;\">\n",
       "      <th></th>\n",
       "      <th>client_id</th>\n",
       "      <th>Variation</th>\n",
       "    </tr>\n",
       "  </thead>\n",
       "  <tbody>\n",
       "    <tr>\n",
       "      <th>0</th>\n",
       "      <td>9988021</td>\n",
       "      <td>Test</td>\n",
       "    </tr>\n",
       "    <tr>\n",
       "      <th>1</th>\n",
       "      <td>8320017</td>\n",
       "      <td>Test</td>\n",
       "    </tr>\n",
       "    <tr>\n",
       "      <th>2</th>\n",
       "      <td>4033851</td>\n",
       "      <td>Control</td>\n",
       "    </tr>\n",
       "    <tr>\n",
       "      <th>3</th>\n",
       "      <td>1982004</td>\n",
       "      <td>Test</td>\n",
       "    </tr>\n",
       "    <tr>\n",
       "      <th>4</th>\n",
       "      <td>9294070</td>\n",
       "      <td>Control</td>\n",
       "    </tr>\n",
       "  </tbody>\n",
       "</table>\n",
       "</div>"
      ],
      "text/plain": [
       "   client_id Variation\n",
       "0    9988021      Test\n",
       "1    8320017      Test\n",
       "2    4033851   Control\n",
       "3    1982004      Test\n",
       "4    9294070   Control"
      ]
     },
     "execution_count": 155,
     "metadata": {},
     "output_type": "execute_result"
    }
   ],
   "source": [
    "#Dataset 3: Experiment Roster: A list revealing which clients were part of the grand experiment.\n",
    "file_path='data/df_final_experiment_clients.txt'\n",
    "df_roster = pd.read_csv(file_path, delimiter=',')\n",
    "df_roster.head()"
   ]
  },
  {
   "cell_type": "markdown",
   "id": "4cac4b0e",
   "metadata": {},
   "source": [
    "Cleaning df_Clients"
   ]
  },
  {
   "cell_type": "markdown",
   "id": "9a93571b",
   "metadata": {},
   "source": [
    "Check for Duplicates"
   ]
  },
  {
   "cell_type": "code",
   "execution_count": 158,
   "id": "32aec969",
   "metadata": {},
   "outputs": [
    {
     "data": {
      "text/plain": [
       "0"
      ]
     },
     "execution_count": 158,
     "metadata": {},
     "output_type": "execute_result"
    }
   ],
   "source": [
    "df_clients.duplicated().sum() # Check"
   ]
  },
  {
   "cell_type": "code",
   "execution_count": 159,
   "id": "9a6ce5cd",
   "metadata": {},
   "outputs": [],
   "source": [
    "# Rename columns\n",
    "df_clients.rename(columns={\"clnt_tenure_yr\": \"client_tenure_yr\",\n",
    "                           \"clnt_tenure_mnth\":\"client_tenure_mnth\",\n",
    "                           \"clnt_age\":\"client_age\",\n",
    "                           \"gendr\":\"gender\",\n",
    "                           \"bal\":\"balance\"\n",
    "                           }, inplace=True)"
   ]
  },
  {
   "cell_type": "code",
   "execution_count": 160,
   "id": "96f45df3",
   "metadata": {},
   "outputs": [
    {
     "name": "stderr",
     "output_type": "stream",
     "text": [
      "/var/folders/jr/tzjk1k550jnfd3ck0z2tl_nr0000gn/T/ipykernel_1193/2106252425.py:6: FutureWarning: A value is trying to be set on a copy of a DataFrame or Series through chained assignment using an inplace method.\n",
      "The behavior will change in pandas 3.0. This inplace method will never work because the intermediate object on which we are setting values always behaves as a copy.\n",
      "\n",
      "For example, when doing 'df[col].method(value, inplace=True)', try using 'df.method({col: value}, inplace=True)' or df[col] = df[col].method(value) instead, to perform the operation inplace on the original object.\n",
      "\n",
      "\n",
      "  df_clients[\"client_age\"].fillna(df_clients[\"client_age\"].mean(),inplace=True)\n",
      "/var/folders/jr/tzjk1k550jnfd3ck0z2tl_nr0000gn/T/ipykernel_1193/2106252425.py:12: FutureWarning: A value is trying to be set on a copy of a DataFrame or Series through chained assignment using an inplace method.\n",
      "The behavior will change in pandas 3.0. This inplace method will never work because the intermediate object on which we are setting values always behaves as a copy.\n",
      "\n",
      "For example, when doing 'df[col].method(value, inplace=True)', try using 'df.method({col: value}, inplace=True)' or df[col] = df[col].method(value) instead, to perform the operation inplace on the original object.\n",
      "\n",
      "\n",
      "  df_clients[\"client_age\"].fillna(df_clients[\"client_age\"].mean(),inplace=True)\n"
     ]
    }
   ],
   "source": [
    "# Checking for NaN Rows\n",
    "nan_rows = df_clients[df_clients.isna().any(axis=1)]\n",
    "# Drop NaN Values with more many NaNs\n",
    "df_clients.dropna(thresh=4,inplace=True)\n",
    "# Fill NaN in client age\n",
    "df_clients[\"client_age\"].fillna(df_clients[\"client_age\"].mean(),inplace=True)\n",
    "\n",
    "# Drop NaN Values with more many NaNs \n",
    "df_clients.dropna(thresh=4,inplace=True)\n",
    "\n",
    "# Fill NaN in client age\n",
    "df_clients[\"client_age\"].fillna(df_clients[\"client_age\"].mean(),inplace=True)\n",
    "\n",
    "# Filled the Client tenure yr with NaN when Client age < then tenure\n",
    "df_clients.loc[df_clients[\"client_tenure_yr\"] > df_clients[\"client_age\"], \"client_tenure_yr\"] = np.nan\n",
    "\n"
   ]
  },
  {
   "cell_type": "code",
   "execution_count": 161,
   "id": "33b339b5",
   "metadata": {},
   "outputs": [],
   "source": [
    "# Defining age Group and Assigning to client Data\n",
    "\n",
    "df_clients[\"client_age_group\"] = df_clients[\"client_age\"].apply(age_group)"
   ]
  },
  {
   "cell_type": "markdown",
   "id": "552f444f",
   "metadata": {},
   "source": [
    "Clean df_concat"
   ]
  },
  {
   "cell_type": "code",
   "execution_count": 163,
   "id": "0b856b15",
   "metadata": {},
   "outputs": [],
   "source": [
    "# Transformed DATETIME\n",
    "df_concat[\"date_time\"] = pd.to_datetime(df_concat[\"date_time\"])"
   ]
  },
  {
   "cell_type": "code",
   "execution_count": 164,
   "id": "aa5746db",
   "metadata": {},
   "outputs": [
    {
     "data": {
      "text/plain": [
       "345236"
      ]
     },
     "execution_count": 164,
     "metadata": {},
     "output_type": "execute_result"
    }
   ],
   "source": [
    "df_concat.duplicated().sum()"
   ]
  },
  {
   "cell_type": "markdown",
   "id": "ebdcb0f6",
   "metadata": {},
   "source": [
    "Joined Clients and Joined DC_Concat with Roster"
   ]
  },
  {
   "cell_type": "code",
   "execution_count": 166,
   "id": "9ade2cd9",
   "metadata": {},
   "outputs": [
    {
     "data": {
      "text/html": [
       "<div>\n",
       "<style scoped>\n",
       "    .dataframe tbody tr th:only-of-type {\n",
       "        vertical-align: middle;\n",
       "    }\n",
       "\n",
       "    .dataframe tbody tr th {\n",
       "        vertical-align: top;\n",
       "    }\n",
       "\n",
       "    .dataframe thead th {\n",
       "        text-align: right;\n",
       "    }\n",
       "</style>\n",
       "<table border=\"1\" class=\"dataframe\">\n",
       "  <thead>\n",
       "    <tr style=\"text-align: right;\">\n",
       "      <th></th>\n",
       "      <th>client_id</th>\n",
       "      <th>client_tenure_yr</th>\n",
       "      <th>client_tenure_mnth</th>\n",
       "      <th>client_age</th>\n",
       "      <th>gender</th>\n",
       "      <th>num_accts</th>\n",
       "      <th>balance</th>\n",
       "      <th>calls_6_mnth</th>\n",
       "      <th>logons_6_mnth</th>\n",
       "      <th>client_age_group</th>\n",
       "      <th>Variation</th>\n",
       "    </tr>\n",
       "  </thead>\n",
       "  <tbody>\n",
       "    <tr>\n",
       "      <th>0</th>\n",
       "      <td>836976</td>\n",
       "      <td>6.0</td>\n",
       "      <td>73.0</td>\n",
       "      <td>60.5</td>\n",
       "      <td>U</td>\n",
       "      <td>2.0</td>\n",
       "      <td>45105.30</td>\n",
       "      <td>6.0</td>\n",
       "      <td>9.0</td>\n",
       "      <td>old adults</td>\n",
       "      <td>Test</td>\n",
       "    </tr>\n",
       "    <tr>\n",
       "      <th>1</th>\n",
       "      <td>2304905</td>\n",
       "      <td>7.0</td>\n",
       "      <td>94.0</td>\n",
       "      <td>58.0</td>\n",
       "      <td>U</td>\n",
       "      <td>2.0</td>\n",
       "      <td>110860.30</td>\n",
       "      <td>6.0</td>\n",
       "      <td>9.0</td>\n",
       "      <td>old adults</td>\n",
       "      <td>Control</td>\n",
       "    </tr>\n",
       "    <tr>\n",
       "      <th>2</th>\n",
       "      <td>1439522</td>\n",
       "      <td>5.0</td>\n",
       "      <td>64.0</td>\n",
       "      <td>32.0</td>\n",
       "      <td>U</td>\n",
       "      <td>2.0</td>\n",
       "      <td>52467.79</td>\n",
       "      <td>6.0</td>\n",
       "      <td>9.0</td>\n",
       "      <td>young adults</td>\n",
       "      <td>Test</td>\n",
       "    </tr>\n",
       "    <tr>\n",
       "      <th>3</th>\n",
       "      <td>1562045</td>\n",
       "      <td>16.0</td>\n",
       "      <td>198.0</td>\n",
       "      <td>49.0</td>\n",
       "      <td>M</td>\n",
       "      <td>2.0</td>\n",
       "      <td>67454.65</td>\n",
       "      <td>3.0</td>\n",
       "      <td>6.0</td>\n",
       "      <td>older adults</td>\n",
       "      <td>Test</td>\n",
       "    </tr>\n",
       "    <tr>\n",
       "      <th>4</th>\n",
       "      <td>5126305</td>\n",
       "      <td>12.0</td>\n",
       "      <td>145.0</td>\n",
       "      <td>33.0</td>\n",
       "      <td>F</td>\n",
       "      <td>2.0</td>\n",
       "      <td>103671.75</td>\n",
       "      <td>0.0</td>\n",
       "      <td>3.0</td>\n",
       "      <td>young adults</td>\n",
       "      <td>Control</td>\n",
       "    </tr>\n",
       "  </tbody>\n",
       "</table>\n",
       "</div>"
      ],
      "text/plain": [
       "   client_id  client_tenure_yr  client_tenure_mnth  client_age gender  \\\n",
       "0     836976               6.0                73.0        60.5      U   \n",
       "1    2304905               7.0                94.0        58.0      U   \n",
       "2    1439522               5.0                64.0        32.0      U   \n",
       "3    1562045              16.0               198.0        49.0      M   \n",
       "4    5126305              12.0               145.0        33.0      F   \n",
       "\n",
       "   num_accts    balance  calls_6_mnth  logons_6_mnth client_age_group  \\\n",
       "0        2.0   45105.30           6.0            9.0       old adults   \n",
       "1        2.0  110860.30           6.0            9.0       old adults   \n",
       "2        2.0   52467.79           6.0            9.0     young adults   \n",
       "3        2.0   67454.65           3.0            6.0     older adults   \n",
       "4        2.0  103671.75           0.0            3.0     young adults   \n",
       "\n",
       "  Variation  \n",
       "0      Test  \n",
       "1   Control  \n",
       "2      Test  \n",
       "3      Test  \n",
       "4   Control  "
      ]
     },
     "execution_count": 166,
     "metadata": {},
     "output_type": "execute_result"
    }
   ],
   "source": [
    "# Joined Clients with the Roster an dropped the NaN Values\n",
    "df_client_joined = pd.merge(df_clients,df_roster, how=\"left\", on=\"client_id\")\n",
    "df_client_joined_cleaned = df_client_joined.dropna()\n",
    "df_client_joined_cleaned.head()"
   ]
  },
  {
   "cell_type": "code",
   "execution_count": 167,
   "id": "721b6388",
   "metadata": {},
   "outputs": [],
   "source": [
    "# Joined DF Concat with the Roster and dropped the duplicates\n",
    "df_concat_joined = pd.merge(df_concat,df_roster, on=\"client_id\", how=\"left\")\n",
    "df_concat_joined.dropna(subset=\"Variation\",inplace=True)\n",
    "df_concat_joined.drop_duplicates(inplace=True)"
   ]
  },
  {
   "cell_type": "markdown",
   "id": "6f74e5d4",
   "metadata": {},
   "source": [
    "Who are the clients"
   ]
  },
  {
   "cell_type": "code",
   "execution_count": 169,
   "id": "aa5852cd",
   "metadata": {},
   "outputs": [
    {
     "data": {
      "text/plain": [
       "client_age_group\n",
       "old adults      85743.0\n",
       "young adults    81766.0\n",
       "older adults    74470.0\n",
       "adults          62891.0\n",
       "young senior    51061.0\n",
       "teens           24007.0\n",
       "senior          11281.0\n",
       "old senior       1765.0\n",
       "Name: logons_6_mnth, dtype: float64"
      ]
     },
     "execution_count": 169,
     "metadata": {},
     "output_type": "execute_result"
    }
   ],
   "source": [
    "# Who are the clients? By Age\n",
    "most_clients = df_clients.groupby(\"client_age_group\")[\"logons_6_mnth\"].sum().sort_values( ascending=False)\n",
    "most_clients"
   ]
  },
  {
   "cell_type": "code",
   "execution_count": 252,
   "id": "c05209a5",
   "metadata": {},
   "outputs": [
    {
     "data": {
      "text/plain": [
       "([0, 1, 2, 3, 4, 5, 6, 7],\n",
       " [Text(0, 0, 'old adults'),\n",
       "  Text(1, 0, 'young adults'),\n",
       "  Text(2, 0, 'older adults'),\n",
       "  Text(3, 0, 'adults'),\n",
       "  Text(4, 0, 'young senior'),\n",
       "  Text(5, 0, 'teens'),\n",
       "  Text(6, 0, 'senior'),\n",
       "  Text(7, 0, 'old senior')])"
      ]
     },
     "execution_count": 252,
     "metadata": {},
     "output_type": "execute_result"
    },
    {
     "data": {
      "image/png": "[encoded data removed]",
      "text/plain": [
       "<Figure size 640x480 with 1 Axes>"
      ]
     },
     "metadata": {},
     "output_type": "display_data"
    }
   ],
   "source": [
    "# Checking \n",
    "sns.barplot(data= most_clients)\n",
    "plt.title(\"age groups by age\")\n",
    "plt.xlabel(\"age groups\")\n",
    "plt.ylabel(\"logins last 6 month\")\n",
    "plt.xticks(rotation= 90)"
   ]
  },
  {
   "cell_type": "code",
   "execution_count": 171,
   "id": "ae96a508",
   "metadata": {},
   "outputs": [],
   "source": [
    "# Who are the clients by tenure"
   ]
  },
  {
   "cell_type": "code",
   "execution_count": 172,
   "id": "d39c7f7e",
   "metadata": {},
   "outputs": [
    {
     "data": {
      "text/plain": [
       "<Axes: ylabel='client_tenure_yr'>"
      ]
     },
     "execution_count": 172,
     "metadata": {},
     "output_type": "execute_result"
    },
    {
     "data": {
      "image/png": "[encoded data removed]",
      "text/plain": [
       "<Figure size 640x480 with 1 Axes>"
      ]
     },
     "metadata": {},
     "output_type": "display_data"
    }
   ],
   "source": [
    "sns.boxplot(data=df_clients[\"client_tenure_yr\"])"
   ]
  },
  {
   "cell_type": "code",
   "execution_count": 173,
   "id": "e1911516",
   "metadata": {},
   "outputs": [
    {
     "data": {
      "text/plain": [
       "<Axes: ylabel='client_tenure_yr'>"
      ]
     },
     "execution_count": 173,
     "metadata": {},
     "output_type": "execute_result"
    },
    {
     "data": {
      "image/png": "[encoded data removed]",
      "text/plain": [
       "<Figure size 640x480 with 1 Axes>"
      ]
     },
     "metadata": {},
     "output_type": "display_data"
    }
   ],
   "source": [
    "sns.violinplot(data=df_clients[\"client_tenure_yr\"])"
   ]
  },
  {
   "cell_type": "code",
   "execution_count": 174,
   "id": "84af39a1-eda2-4a38-8903-244220d311b6",
   "metadata": {},
   "outputs": [
    {
     "data": {
      "text/plain": [
       "Text(0.5, 1.0, 'Client Age vs. Client Tenure (Years)')"
      ]
     },
     "execution_count": 174,
     "metadata": {},
     "output_type": "execute_result"
    },
    {
     "data": {
      "image/png": "[encoded data removed]",
      "text/plain": [
       "<Figure size 1000x600 with 1 Axes>"
      ]
     },
     "metadata": {},
     "output_type": "display_data"
    }
   ],
   "source": [
    "plt.figure(figsize=(10, 6))\n",
    "plt.scatter(df_clients['client_age_group'], df_clients['client_tenure_yr'], color='blue', alpha=0.7)\n",
    "plt.xlabel('Client Age', fontsize=12)\n",
    "plt.ylabel('Client Tenure (Years)', fontsize=12)\n",
    "plt.title('Client Age vs. Client Tenure (Years)', fontsize=15)"
   ]
  },
  {
   "cell_type": "code",
   "execution_count": 175,
   "id": "106cedcf",
   "metadata": {},
   "outputs": [
    {
     "data": {
      "text/html": [
       "<div>\n",
       "<style scoped>\n",
       "    .dataframe tbody tr th:only-of-type {\n",
       "        vertical-align: middle;\n",
       "    }\n",
       "\n",
       "    .dataframe tbody tr th {\n",
       "        vertical-align: top;\n",
       "    }\n",
       "\n",
       "    .dataframe thead th {\n",
       "        text-align: right;\n",
       "    }\n",
       "</style>\n",
       "<table border=\"1\" class=\"dataframe\">\n",
       "  <thead>\n",
       "    <tr style=\"text-align: right;\">\n",
       "      <th></th>\n",
       "      <th>process_step</th>\n",
       "      <th>date_time</th>\n",
       "    </tr>\n",
       "  </thead>\n",
       "  <tbody>\n",
       "    <tr>\n",
       "      <th>0</th>\n",
       "      <td>step_3</td>\n",
       "      <td>2017-04-17 15:27:07</td>\n",
       "    </tr>\n",
       "    <tr>\n",
       "      <th>2</th>\n",
       "      <td>step_3</td>\n",
       "      <td>2017-04-17 15:19:22</td>\n",
       "    </tr>\n",
       "    <tr>\n",
       "      <th>4</th>\n",
       "      <td>step_3</td>\n",
       "      <td>2017-04-17 15:18:04</td>\n",
       "    </tr>\n",
       "    <tr>\n",
       "      <th>9</th>\n",
       "      <td>step_3</td>\n",
       "      <td>2017-04-05 13:09:43</td>\n",
       "    </tr>\n",
       "    <tr>\n",
       "      <th>16</th>\n",
       "      <td>step_3</td>\n",
       "      <td>2017-04-05 12:26:08</td>\n",
       "    </tr>\n",
       "    <tr>\n",
       "      <th>...</th>\n",
       "      <td>...</td>\n",
       "      <td>...</td>\n",
       "    </tr>\n",
       "    <tr>\n",
       "      <th>343112</th>\n",
       "      <td>step_3</td>\n",
       "      <td>2017-04-20 12:46:09</td>\n",
       "    </tr>\n",
       "    <tr>\n",
       "      <th>343118</th>\n",
       "      <td>step_3</td>\n",
       "      <td>2017-04-12 16:56:21</td>\n",
       "    </tr>\n",
       "    <tr>\n",
       "      <th>343124</th>\n",
       "      <td>step_3</td>\n",
       "      <td>2017-04-12 16:52:59</td>\n",
       "    </tr>\n",
       "    <tr>\n",
       "      <th>343131</th>\n",
       "      <td>step_3</td>\n",
       "      <td>2017-04-13 10:00:26</td>\n",
       "    </tr>\n",
       "    <tr>\n",
       "      <th>343137</th>\n",
       "      <td>step_3</td>\n",
       "      <td>2017-03-31 15:14:53</td>\n",
       "    </tr>\n",
       "  </tbody>\n",
       "</table>\n",
       "<p>107256 rows × 2 columns</p>\n",
       "</div>"
      ],
      "text/plain": [
       "       process_step           date_time\n",
       "0            step_3 2017-04-17 15:27:07\n",
       "2            step_3 2017-04-17 15:19:22\n",
       "4            step_3 2017-04-17 15:18:04\n",
       "9            step_3 2017-04-05 13:09:43\n",
       "16           step_3 2017-04-05 12:26:08\n",
       "...             ...                 ...\n",
       "343112       step_3 2017-04-20 12:46:09\n",
       "343118       step_3 2017-04-12 16:56:21\n",
       "343124       step_3 2017-04-12 16:52:59\n",
       "343131       step_3 2017-04-13 10:00:26\n",
       "343137       step_3 2017-03-31 15:14:53\n",
       "\n",
       "[107256 rows x 2 columns]"
      ]
     },
     "execution_count": 175,
     "metadata": {},
     "output_type": "execute_result"
    }
   ],
   "source": [
    "df_concat[df_concat[\"process_step\"] == \"step_3\"][[\"process_step\",\"date_time\"]]"
   ]
  },
  {
   "cell_type": "markdown",
   "id": "b386827a-ceda-4752-bf80-5066fe2de8aa",
   "metadata": {},
   "source": [
    "## 1. KPI: User Satisfaction Based on Calls in the Last 6 Months\n",
    "Description: Measure user satisfaction by analyzing the number of calls made by a user in the last 6 months, with fewer calls from either Test or Control Group indicating higher satisfaction and fewer issues requiring support."
   ]
  },
  {
   "cell_type": "code",
   "execution_count": 178,
   "id": "13d52d48",
   "metadata": {},
   "outputs": [
    {
     "data": {
      "text/plain": [
       "<Axes: xlabel='Variation', ylabel='calls_6_mnth'>"
      ]
     },
     "execution_count": 178,
     "metadata": {},
     "output_type": "execute_result"
    },
    {
     "data": {
      "image/png": "[encoded data removed]",
      "text/plain": [
       "<Figure size 640x480 with 1 Axes>"
      ]
     },
     "metadata": {},
     "output_type": "display_data"
    }
   ],
   "source": [
    "# investigating number of calls by age \n",
    "sns.boxplot(x='Variation', y='calls_6_mnth', data=df_client_joined_cleaned)"
   ]
  },
  {
   "cell_type": "code",
   "execution_count": 179,
   "id": "8ae6f914-2f90-40f0-9dc8-5d2f91da58ff",
   "metadata": {},
   "outputs": [],
   "source": [
    "average_calls_by_age_variation = df_client_joined_cleaned.groupby(['client_age_group', 'Variation'])['calls_6_mnth'].mean().reset_index()"
   ]
  },
  {
   "cell_type": "code",
   "execution_count": 180,
   "id": "238fd540-099e-46c3-8caf-58542be3185e",
   "metadata": {},
   "outputs": [
    {
     "data": {
      "text/html": [
       "<div>\n",
       "<style scoped>\n",
       "    .dataframe tbody tr th:only-of-type {\n",
       "        vertical-align: middle;\n",
       "    }\n",
       "\n",
       "    .dataframe tbody tr th {\n",
       "        vertical-align: top;\n",
       "    }\n",
       "\n",
       "    .dataframe thead th {\n",
       "        text-align: right;\n",
       "    }\n",
       "</style>\n",
       "<table border=\"1\" class=\"dataframe\">\n",
       "  <thead>\n",
       "    <tr style=\"text-align: right;\">\n",
       "      <th></th>\n",
       "      <th>client_age_group</th>\n",
       "      <th>Variation</th>\n",
       "      <th>calls_6_mnth</th>\n",
       "    </tr>\n",
       "  </thead>\n",
       "  <tbody>\n",
       "    <tr>\n",
       "      <th>0</th>\n",
       "      <td>adults</td>\n",
       "      <td>Control</td>\n",
       "      <td>2.823262</td>\n",
       "    </tr>\n",
       "    <tr>\n",
       "      <th>1</th>\n",
       "      <td>adults</td>\n",
       "      <td>Test</td>\n",
       "      <td>2.801565</td>\n",
       "    </tr>\n",
       "    <tr>\n",
       "      <th>2</th>\n",
       "      <td>old adults</td>\n",
       "      <td>Control</td>\n",
       "      <td>3.176471</td>\n",
       "    </tr>\n",
       "    <tr>\n",
       "      <th>3</th>\n",
       "      <td>old adults</td>\n",
       "      <td>Test</td>\n",
       "      <td>3.154545</td>\n",
       "    </tr>\n",
       "    <tr>\n",
       "      <th>4</th>\n",
       "      <td>old senior</td>\n",
       "      <td>Control</td>\n",
       "      <td>3.481818</td>\n",
       "    </tr>\n",
       "    <tr>\n",
       "      <th>5</th>\n",
       "      <td>old senior</td>\n",
       "      <td>Test</td>\n",
       "      <td>3.015385</td>\n",
       "    </tr>\n",
       "    <tr>\n",
       "      <th>6</th>\n",
       "      <td>older adults</td>\n",
       "      <td>Control</td>\n",
       "      <td>2.928053</td>\n",
       "    </tr>\n",
       "    <tr>\n",
       "      <th>7</th>\n",
       "      <td>older adults</td>\n",
       "      <td>Test</td>\n",
       "      <td>2.896807</td>\n",
       "    </tr>\n",
       "    <tr>\n",
       "      <th>8</th>\n",
       "      <td>senior</td>\n",
       "      <td>Control</td>\n",
       "      <td>3.602041</td>\n",
       "    </tr>\n",
       "    <tr>\n",
       "      <th>9</th>\n",
       "      <td>senior</td>\n",
       "      <td>Test</td>\n",
       "      <td>3.450649</td>\n",
       "    </tr>\n",
       "    <tr>\n",
       "      <th>10</th>\n",
       "      <td>teens</td>\n",
       "      <td>Control</td>\n",
       "      <td>3.017682</td>\n",
       "    </tr>\n",
       "    <tr>\n",
       "      <th>11</th>\n",
       "      <td>teens</td>\n",
       "      <td>Test</td>\n",
       "      <td>2.935106</td>\n",
       "    </tr>\n",
       "    <tr>\n",
       "      <th>12</th>\n",
       "      <td>young adults</td>\n",
       "      <td>Control</td>\n",
       "      <td>3.263901</td>\n",
       "    </tr>\n",
       "    <tr>\n",
       "      <th>13</th>\n",
       "      <td>young adults</td>\n",
       "      <td>Test</td>\n",
       "      <td>3.115412</td>\n",
       "    </tr>\n",
       "    <tr>\n",
       "      <th>14</th>\n",
       "      <td>young senior</td>\n",
       "      <td>Control</td>\n",
       "      <td>3.441467</td>\n",
       "    </tr>\n",
       "    <tr>\n",
       "      <th>15</th>\n",
       "      <td>young senior</td>\n",
       "      <td>Test</td>\n",
       "      <td>3.381583</td>\n",
       "    </tr>\n",
       "  </tbody>\n",
       "</table>\n",
       "</div>"
      ],
      "text/plain": [
       "   client_age_group Variation  calls_6_mnth\n",
       "0            adults   Control      2.823262\n",
       "1            adults      Test      2.801565\n",
       "2        old adults   Control      3.176471\n",
       "3        old adults      Test      3.154545\n",
       "4        old senior   Control      3.481818\n",
       "5        old senior      Test      3.015385\n",
       "6      older adults   Control      2.928053\n",
       "7      older adults      Test      2.896807\n",
       "8            senior   Control      3.602041\n",
       "9            senior      Test      3.450649\n",
       "10            teens   Control      3.017682\n",
       "11            teens      Test      2.935106\n",
       "12     young adults   Control      3.263901\n",
       "13     young adults      Test      3.115412\n",
       "14     young senior   Control      3.441467\n",
       "15     young senior      Test      3.381583"
      ]
     },
     "execution_count": 180,
     "metadata": {},
     "output_type": "execute_result"
    }
   ],
   "source": [
    "average_calls_by_age_variation"
   ]
  },
  {
   "cell_type": "code",
   "execution_count": 181,
   "id": "f14039e9-1217-4d68-8aa8-92865a22bdf9",
   "metadata": {},
   "outputs": [
    {
     "data": {
      "image/png": "[encoded data removed]",
      "text/plain": [
       "<Figure size 800x400 with 1 Axes>"
      ]
     },
     "metadata": {},
     "output_type": "display_data"
    }
   ],
   "source": [
    "plt.figure(figsize=(8, 4))\n",
    "sns.barplot(x='client_age_group', y='calls_6_mnth', hue='Variation', data=average_calls_by_age_variation)\n",
    "plt.title('average calls by age and variation')\n",
    "plt.xlabel('age')\n",
    "plt.ylabel('average calls last six months')\n",
    "plt.legend(title='Variation')\n",
    "plt.grid(True)\n",
    "plt.xticks(rotation= 90)\n",
    "plt.show()"
   ]
  },
  {
   "cell_type": "code",
   "execution_count": 185,
   "id": "4168dc4e-bf88-471c-bd6e-d2d91005edb6",
   "metadata": {},
   "outputs": [],
   "source": [
    "# HYPOTHESESTEST: Two Sample T-test\n",
    "# HO no difference in number of calls between Test & Control\n",
    "# H1 there is difference between number of calls between Test & Control \n",
    "import scipy.stats as st"
   ]
  },
  {
   "cell_type": "code",
   "execution_count": 202,
   "id": "6c94bda5-230f-44c5-b323-c267286971fb",
   "metadata": {},
   "outputs": [
    {
     "data": {
      "text/plain": [
       "0        6.0\n",
       "2        6.0\n",
       "3        3.0\n",
       "7        1.0\n",
       "9        6.0\n",
       "        ... \n",
       "50480    0.0\n",
       "50483    6.0\n",
       "50485    2.0\n",
       "50486    1.0\n",
       "50487    0.0\n",
       "Name: calls_6_mnth, Length: 26775, dtype: float64"
      ]
     },
     "execution_count": 202,
     "metadata": {},
     "output_type": "execute_result"
    }
   ],
   "source": [
    "df_Test_calls = df_client_joined_cleaned[df_client_joined_cleaned[\"Variation\"]==\"Test\"][\"calls_6_mnth\"]\n",
    "df_Control_calls = df_client_joined_cleaned[df_client_joined_cleaned[\"Variation\"]==\"Control\"][\"calls_6_mnth\"]"
   ]
  },
  {
   "cell_type": "code",
   "execution_count": 187,
   "id": "b8a2be14-5e78-42ab-baed-9c5e4434df70",
   "metadata": {},
   "outputs": [
    {
     "data": {
      "text/plain": [
       "TtestResult(statistic=-3.348638397521119, pvalue=0.0008127052569859838, df=49284.73108549173)"
      ]
     },
     "execution_count": 187,
     "metadata": {},
     "output_type": "execute_result"
    }
   ],
   "source": [
    "st.ttest_ind(df_Test_calls,df_Control_calls, equal_var=False)"
   ]
  },
  {
   "cell_type": "code",
   "execution_count": 226,
   "id": "199e1401-7495-43c1-bfeb-8d8609cc0741",
   "metadata": {},
   "outputs": [],
   "source": [
    "test= df_client_joined_cleaned[df_client_joined_cleaned['Variation']=='Test']['calls_6_mnth']\n",
    "control= df_client_joined_cleaned[df_client_joined_cleaned['Variation']=='Control']['calls_6_mnth']\n",
    "\n",
    "M1 = test.mean() \n",
    "M2 = control.mean()  \n",
    "SD1 = test.std(ddof=1) \n",
    "SD2 = control.std(ddof=1)  \n",
    "n1 = len(test) \n",
    "n2 = len(control)  "
   ]
  },
  {
   "cell_type": "code",
   "execution_count": 232,
   "id": "0795717a-0b48-420b-8ec1-bc8052938db3",
   "metadata": {},
   "outputs": [
    {
     "data": {
      "text/plain": [
       "-0.02996734220411194"
      ]
     },
     "execution_count": 232,
     "metadata": {},
     "output_type": "execute_result"
    }
   ],
   "source": [
    "SD_pooled = np.sqrt(((n1 - 1) * SD1**2 + (n2 - 1) * SD2**2) / (n1 + n2 - 2))\n",
    "cohens_d = (M1 - M2) / SD_pooled\n",
    "cohens_d"
   ]
  },
  {
   "cell_type": "code",
   "execution_count": null,
   "id": "501441b7-a354-41df-b794-5e6342cf423e",
   "metadata": {},
   "outputs": [],
   "source": [
    "# p-value < 0.05: assuming there is no difference it is not likely to see no difference in sample: reject null hypotheses.\n",
    "# effectsize: -0.02 very small, not relevant"
   ]
  },
  {
   "cell_type": "markdown",
   "id": "c3f605b1-655d-45e2-ba78-42884fc1015b",
   "metadata": {},
   "source": [
    "## 2.KPI: User Satisfaction Based on Logins in the Last 6 Months\n",
    "Description: Evaluate user satisfaction through the frequency of user logins in the past 6 months, with more frequent logins suggesting a positive user experience and strong interest in the platform."
   ]
  },
  {
   "cell_type": "code",
   "execution_count": null,
   "id": "416f0678-7fca-4d8f-91a8-4738ddb912ba",
   "metadata": {},
   "outputs": [],
   "source": [
    "# H0: there is no difference between T & C in average of logins \n",
    "# H1: there is a difference between T & C in avergae of logins"
   ]
  },
  {
   "cell_type": "code",
   "execution_count": null,
   "id": "246cf0c8-1659-429c-873e-8ea0a9931aa3",
   "metadata": {},
   "outputs": [],
   "source": [
    "df_client_joined_cleaned"
   ]
  },
  {
   "cell_type": "code",
   "execution_count": 234,
   "id": "71cd86f5-c547-4100-9914-6a6f415b0791",
   "metadata": {},
   "outputs": [
    {
     "data": {
      "text/plain": [
       "TtestResult(statistic=-3.2197513200195096, pvalue=0.0012838496093246269, df=49272.643050265775)"
      ]
     },
     "execution_count": 234,
     "metadata": {},
     "output_type": "execute_result"
    }
   ],
   "source": [
    "df_Test_log = df_client_joined_cleaned[df_client_joined_cleaned[\"Variation\"]==\"Test\"][\"logons_6_mnth\"]\n",
    "df_Control_log= df_client_joined_cleaned[df_client_joined_cleaned[\"Variation\"]==\"Control\"][\"logons_6_mnth\"]\n",
    "st.ttest_ind(df_Test_log,df_Control_log, equal_var=False)"
   ]
  },
  {
   "cell_type": "code",
   "execution_count": 238,
   "id": "4c130488-33d5-40a2-8358-71dd84284acd",
   "metadata": {},
   "outputs": [],
   "source": [
    "test_log= df_client_joined_cleaned[df_client_joined_cleaned['Variation']=='Test']['logons_6_mnth']\n",
    "control_log= df_client_joined_cleaned[df_client_joined_cleaned['Variation']=='Control']['logons_6_mnth']\n",
    "\n",
    "M1_log = test_log.mean() \n",
    "M2_log = control_log.mean()  \n",
    "SD1_log = test_log.std(ddof=1) \n",
    "SD2_log = control_log.std(ddof=1)  \n",
    "n1_log = len(test_log) \n",
    "n2_log = len(control_log)  "
   ]
  },
  {
   "cell_type": "code",
   "execution_count": 240,
   "id": "e634b11e-35f3-472e-b9bc-766a80e60404",
   "metadata": {},
   "outputs": [
    {
     "data": {
      "text/plain": [
       "-0.028815745600392826"
      ]
     },
     "execution_count": 240,
     "metadata": {},
     "output_type": "execute_result"
    }
   ],
   "source": [
    "SD_pooled = np.sqrt(((n1_log - 1) * SD1_log**2 + (n2_log - 1) * SD2_log**2) / (n1_log + n2_log - 2))  #cohens d\n",
    "cohens_d = (M1_log - M2_log) / SD_pooled\n",
    "cohens_d"
   ]
  },
  {
   "cell_type": "code",
   "execution_count": null,
   "id": "202f0dc9-6e2c-423e-8881-b08b364ad7fb",
   "metadata": {},
   "outputs": [],
   "source": [
    "# p-values: < 0.05 : there is a difference\n",
    "# effectsize: -0.02: very small, not relevant"
   ]
  },
  {
   "cell_type": "markdown",
   "id": "f1abf3ed-924f-4406-bf3a-8dd149a67f7e",
   "metadata": {},
   "source": [
    "## 3. KPI: User Satisfaction Based on Balance Amount\n",
    "Description: Gauge user satisfaction by examining the balance amount of a user's account, as a higher balance can indicate a positive financial experience and trust in the platform."
   ]
  },
  {
   "cell_type": "code",
   "execution_count": null,
   "id": "3ccd4d44-d196-42c5-843a-f5c76dcb977f",
   "metadata": {},
   "outputs": [],
   "source": [
    "# KPI balance \n",
    "#H0: no difference in balance\n",
    "#H1: difference in balance     -> p-value > 0.05: don't reject HO! "
   ]
  },
  {
   "cell_type": "code",
   "execution_count": 242,
   "id": "5263233c-1c4e-453f-84f7-35fc22f7ce0b",
   "metadata": {},
   "outputs": [
    {
     "data": {
      "text/plain": [
       "TtestResult(statistic=-0.43104632365028467, pvalue=0.6664365581576286, df=49687.41694413119)"
      ]
     },
     "execution_count": 242,
     "metadata": {},
     "output_type": "execute_result"
    }
   ],
   "source": [
    "df_Test_bal = df_client_joined_cleaned[df_client_joined_cleaned[\"Variation\"]==\"Test\"][\"balance\"]\n",
    "df_Control_bal= df_client_joined_cleaned[df_client_joined_cleaned[\"Variation\"]==\"Control\"][\"balance\"]\n",
    "st.ttest_ind(df_Test_bal,df_Control_bal, equal_var=False)"
   ]
  },
  {
   "cell_type": "markdown",
   "id": "a2ed5cc8-39c0-403d-9457-18b0406ec013",
   "metadata": {},
   "source": [
    "## 4. KPI: User Satisfaction Based on the Number of Accounts\n",
    "Description: Assess user satisfaction by counting the number of accounts a user holds on the platform, as a higher account number may reflect stronger engagement and satisfaction with the services offered."
   ]
  },
  {
   "cell_type": "code",
   "execution_count": null,
   "id": "481719c1-82d3-4b87-b99e-30707f85e2da",
   "metadata": {},
   "outputs": [],
   "source": [
    "# H0: no difference in account number\n",
    "# H1: difference in account number      "
   ]
  },
  {
   "cell_type": "code",
   "execution_count": null,
   "id": "051d31d2-68ad-41a4-96da-f19004ce43a0",
   "metadata": {},
   "outputs": [],
   "source": [
    "df_Test_acc = df_client_joined_cleaned[df_client_joined_cleaned[\"Variation\"]==\"Test\"][\"num_accts\"]\n",
    "df_Control_acc= df_client_joined_cleaned[df_client_joined_cleaned[\"Variation\"]==\"Control\"][\"num_accts\"]\n",
    "st.ttest_ind(df_Test_acc,df_Control_acc, equal_var=False)"
   ]
  },
  {
   "cell_type": "code",
   "execution_count": 248,
   "id": "4d641561-4f76-403c-8395-bb95061227fd",
   "metadata": {},
   "outputs": [],
   "source": [
    "# effectsize:\n",
    "control_acc= df_client_joined_cleaned[df_client_joined_cleaned['Variation']=='Control'][\"num_accts\"]\n",
    "control_acc\n",
    "test_acc= df_client_joined_cleaned[df_client_joined_cleaned['Variation']=='Test'][\"num_accts\"]\n",
    "test_acc\n",
    "\n",
    "M1_acc = test_acc.mean() \n",
    "M2_acc = control_acc.mean()  \n",
    "SD1_acc = test_acc.std(ddof=1) \n",
    "SD2_acc = control_acc.std(ddof=1)  \n",
    "n1_acc = len(test_acc) \n",
    "n2_acc = len(control_acc)  "
   ]
  },
  {
   "cell_type": "code",
   "execution_count": 250,
   "id": "100b3e6d-fff7-43d7-97dc-354cd15f34c1",
   "metadata": {},
   "outputs": [
    {
     "data": {
      "text/plain": [
       "-0.018037883758176016"
      ]
     },
     "execution_count": 250,
     "metadata": {},
     "output_type": "execute_result"
    }
   ],
   "source": [
    "SD_pooled = np.sqrt(((n1_acc - 1) * SD1_acc**2 + (n2_acc - 1) * SD2_acc**2) / (n1_acc + n2_acc - 2))\n",
    "cohens_d = (M1_acc - M2_acc) / SD_pooled\n",
    "cohens_d"
   ]
  },
  {
   "cell_type": "code",
   "execution_count": null,
   "id": "b8602d1a-299a-4afd-99ba-b3908f836102",
   "metadata": {},
   "outputs": [],
   "source": [
    "# p-value (slightly) < 0.05: reject H0\n",
    "# effectsize: -0.018 : not relevant "
   ]
  },
  {
   "cell_type": "code",
   "execution_count": null,
   "id": "1a5e602f-4c4a-433b-bf18-038e3dfd3b64",
   "metadata": {},
   "outputs": [],
   "source": [
    " # change over time "
   ]
  },
  {
   "cell_type": "code",
   "execution_count": 333,
   "id": "8406e0d8-4abf-4a40-b16f-d5a897084540",
   "metadata": {},
   "outputs": [
    {
     "data": {
      "text/plain": [
       "year_month\n",
       "2017-04    181726\n",
       "2017-03     58259\n",
       "Freq: M, Name: count, dtype: int64"
      ]
     },
     "execution_count": 333,
     "metadata": {},
     "output_type": "execute_result"
    }
   ],
   "source": [
    "df_concat_joined['year_month'].value_counts()"
   ]
  },
  {
   "cell_type": "code",
   "execution_count": 295,
   "id": "b6000b2b-cbbf-466e-ba7e-9924a97505e8",
   "metadata": {},
   "outputs": [
    {
     "data": {
      "text/html": [
       "<div>\n",
       "<style scoped>\n",
       "    .dataframe tbody tr th:only-of-type {\n",
       "        vertical-align: middle;\n",
       "    }\n",
       "\n",
       "    .dataframe tbody tr th {\n",
       "        vertical-align: top;\n",
       "    }\n",
       "\n",
       "    .dataframe thead th {\n",
       "        text-align: right;\n",
       "    }\n",
       "</style>\n",
       "<table border=\"1\" class=\"dataframe\">\n",
       "  <thead>\n",
       "    <tr style=\"text-align: right;\">\n",
       "      <th></th>\n",
       "      <th>Variation</th>\n",
       "      <th>year_month</th>\n",
       "      <th>visit_count</th>\n",
       "    </tr>\n",
       "  </thead>\n",
       "  <tbody>\n",
       "    <tr>\n",
       "      <th>0</th>\n",
       "      <td>Control</td>\n",
       "      <td>2017-03</td>\n",
       "      <td>24001</td>\n",
       "    </tr>\n",
       "    <tr>\n",
       "      <th>1</th>\n",
       "      <td>Control</td>\n",
       "      <td>2017-04</td>\n",
       "      <td>76600</td>\n",
       "    </tr>\n",
       "    <tr>\n",
       "      <th>2</th>\n",
       "      <td>Test</td>\n",
       "      <td>2017-03</td>\n",
       "      <td>34258</td>\n",
       "    </tr>\n",
       "    <tr>\n",
       "      <th>3</th>\n",
       "      <td>Test</td>\n",
       "      <td>2017-04</td>\n",
       "      <td>105126</td>\n",
       "    </tr>\n",
       "  </tbody>\n",
       "</table>\n",
       "</div>"
      ],
      "text/plain": [
       "  Variation year_month  visit_count\n",
       "0   Control    2017-03        24001\n",
       "1   Control    2017-04        76600\n",
       "2      Test    2017-03        34258\n",
       "3      Test    2017-04       105126"
      ]
     },
     "execution_count": 295,
     "metadata": {},
     "output_type": "execute_result"
    }
   ],
   "source": [
    "monthly_visits_variation = df_concat_joined.groupby(['Variation', 'year_month']).size().reset_index(name='visit_count')\n",
    "monthly_visits_variation"
   ]
  },
  {
   "cell_type": "code",
   "execution_count": 309,
   "id": "ceafb313-3db3-4999-8305-3376e8d0ae0e",
   "metadata": {},
   "outputs": [
    {
     "data": {
      "text/plain": [
       "year_month\n",
       "2017-03    42.735719\n",
       "2017-04    37.240209\n",
       "Freq: M, Name: visit_count, dtype: float64"
      ]
     },
     "execution_count": 309,
     "metadata": {},
     "output_type": "execute_result"
    }
   ],
   "source": [
    "control_data = monthly_visits_variation[monthly_visits_variation['Variation'] == 'Control'].set_index('year_month')\n",
    "test_data = monthly_visits_variation[monthly_visits_variation['Variation'] == 'Test'].set_index('year_month')\n",
    "percentage_diff = ((test_data['visit_count'] - control_data['visit_count']) / control_data['visit_count']) * 100\n",
    "percentage_diff #difference in visits between groups"
   ]
  },
  {
   "cell_type": "code",
   "execution_count": 313,
   "id": "46f960d5-e6eb-4725-92d0-9ce947af5b04",
   "metadata": {},
   "outputs": [
    {
     "data": {
      "text/plain": [
       "(219.15336860964126, 206.86554965263588)"
      ]
     },
     "execution_count": 313,
     "metadata": {},
     "output_type": "execute_result"
    }
   ],
   "source": [
    "control_percentage_diff = ((control_data.loc['2017-04', 'visit_count'] - control_data.loc['2017-03', 'visit_count']) / control_data.loc['2017-03', 'visit_count']) * 100\n",
    "test_percentage_diff = ((test_data.loc['2017-04', 'visit_count'] - test_data.loc['2017-03', 'visit_count']) / test_data.loc['2017-03', 'visit_count']) * 100\n",
    "control_percentage_diff, test_percentage_diff    # difference in vitis between months"
   ]
  },
  {
   "cell_type": "code",
   "execution_count": null,
   "id": "105edd20-7395-4e78-a4c2-ff0512761271",
   "metadata": {},
   "outputs": [],
   "source": []
  }
 ],
 "metadata": {
  "kernelspec": {
   "display_name": "Python 3 (ipykernel)",
   "language": "python",
   "name": "python3"
  },
  "language_info": {
   "codemirror_mode": {
    "name": "ipython",
    "version": 3
   },
   "file_extension": ".py",
   "mimetype": "text/x-python",
   "name": "python",
   "nbconvert_exporter": "python",
   "pygments_lexer": "ipython3",
   "version": "3.12.4"
  }
 },
 "nbformat": 4,
 "nbformat_minor": 5
}
